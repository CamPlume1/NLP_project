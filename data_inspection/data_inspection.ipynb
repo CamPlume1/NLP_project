{
 "cells": [
  {
   "cell_type": "code",
   "execution_count": 33,
   "id": "initial_id",
   "metadata": {
    "collapsed": true,
    "ExecuteTime": {
     "end_time": "2024-04-15T18:22:15.485009500Z",
     "start_time": "2024-04-15T18:22:15.411279300Z"
    }
   },
   "outputs": [],
   "source": [
    "import re\n",
    "\n",
    "from datasets import load_dataset\n",
    "import pandas as pd"
   ]
  },
  {
   "cell_type": "code",
   "execution_count": 34,
   "outputs": [],
   "source": [
    "df = pd.read_csv('data/annotated_fb_data_valid.txt', delimiter='\\t', header=None)"
   ],
   "metadata": {
    "collapsed": false,
    "ExecuteTime": {
     "end_time": "2024-04-15T18:22:15.507032200Z",
     "start_time": "2024-04-15T18:22:15.430281300Z"
    }
   },
   "id": "c1918f0443c006e4"
  },
  {
   "cell_type": "code",
   "execution_count": 35,
   "outputs": [
    {
     "data": {
      "text/plain": "                                                question\n0      Who was the trump ocean club international hot...\n1                           where was sasha vujačić born\n2       What is a region that dead combo was released in\n3      What is a film directed by wiebke von carolsfeld?\n4      what country was music for stock exchange  rel...\n...                                                  ...\n10840            What is nikolaj frobenius's profession?\n10841        who is a person that was born in sao paulo \n10842  What area does zakynthos international airport...\n10843  what kind of personality do german wirehaired ...\n10844  billy corgan is credited as the producer on wh...\n\n[10845 rows x 1 columns]",
      "text/html": "<div>\n<style scoped>\n    .dataframe tbody tr th:only-of-type {\n        vertical-align: middle;\n    }\n\n    .dataframe tbody tr th {\n        vertical-align: top;\n    }\n\n    .dataframe thead th {\n        text-align: right;\n    }\n</style>\n<table border=\"1\" class=\"dataframe\">\n  <thead>\n    <tr style=\"text-align: right;\">\n      <th></th>\n      <th>question</th>\n    </tr>\n  </thead>\n  <tbody>\n    <tr>\n      <th>0</th>\n      <td>Who was the trump ocean club international hot...</td>\n    </tr>\n    <tr>\n      <th>1</th>\n      <td>where was sasha vujačić born</td>\n    </tr>\n    <tr>\n      <th>2</th>\n      <td>What is a region that dead combo was released in</td>\n    </tr>\n    <tr>\n      <th>3</th>\n      <td>What is a film directed by wiebke von carolsfeld?</td>\n    </tr>\n    <tr>\n      <th>4</th>\n      <td>what country was music for stock exchange  rel...</td>\n    </tr>\n    <tr>\n      <th>...</th>\n      <td>...</td>\n    </tr>\n    <tr>\n      <th>10840</th>\n      <td>What is nikolaj frobenius's profession?</td>\n    </tr>\n    <tr>\n      <th>10841</th>\n      <td>who is a person that was born in sao paulo</td>\n    </tr>\n    <tr>\n      <th>10842</th>\n      <td>What area does zakynthos international airport...</td>\n    </tr>\n    <tr>\n      <th>10843</th>\n      <td>what kind of personality do german wirehaired ...</td>\n    </tr>\n    <tr>\n      <th>10844</th>\n      <td>billy corgan is credited as the producer on wh...</td>\n    </tr>\n  </tbody>\n</table>\n<p>10845 rows × 1 columns</p>\n</div>"
     },
     "execution_count": 35,
     "metadata": {},
     "output_type": "execute_result"
    }
   ],
   "source": [
    "df.columns = ['useless3', 'useless1', 'useless2', 'question']\n",
    "df.drop(columns=['useless1', 'useless2', 'useless3'], inplace=True)\n",
    "df"
   ],
   "metadata": {
    "collapsed": false,
    "ExecuteTime": {
     "end_time": "2024-04-15T18:22:15.508038500Z",
     "start_time": "2024-04-15T18:22:15.492952800Z"
    }
   },
   "id": "ee7ff622432d209a"
  },
  {
   "cell_type": "code",
   "execution_count": 36,
   "outputs": [],
   "source": [
    "# Remove punctuation for all questions: Meeting transcripts won't have it\n",
    "import re\n",
    "def remove_punc(a_str):\n",
    "    return re.sub(r'[^\\w\\s]', '', a_str).lower()"
   ],
   "metadata": {
    "collapsed": false,
    "ExecuteTime": {
     "end_time": "2024-04-15T18:22:15.548608400Z",
     "start_time": "2024-04-15T18:22:15.508038500Z"
    }
   },
   "id": "95f4202adac093cb"
  },
  {
   "cell_type": "code",
   "execution_count": 37,
   "outputs": [],
   "source": [
    "df['question'] = df['question'].apply(remove_punc)"
   ],
   "metadata": {
    "collapsed": false,
    "ExecuteTime": {
     "end_time": "2024-04-15T18:22:15.626600300Z",
     "start_time": "2024-04-15T18:22:15.525102800Z"
    }
   },
   "id": "43466cafda22ca56"
  },
  {
   "cell_type": "code",
   "execution_count": 38,
   "outputs": [
    {
     "data": {
      "text/plain": "                                                question\n0      who was the trump ocean club international hot...\n1                           where was sasha vujačić born\n2       what is a region that dead combo was released in\n3       what is a film directed by wiebke von carolsfeld\n4      what country was music for stock exchange  rel...\n...                                                  ...\n10840              what is nikolaj frobeniuss profession\n10841        who is a person that was born in sao paulo \n10842  what area does zakynthos international airport...\n10843  what kind of personality do german wirehaired ...\n10844  billy corgan is credited as the producer on wh...\n\n[10845 rows x 1 columns]",
      "text/html": "<div>\n<style scoped>\n    .dataframe tbody tr th:only-of-type {\n        vertical-align: middle;\n    }\n\n    .dataframe tbody tr th {\n        vertical-align: top;\n    }\n\n    .dataframe thead th {\n        text-align: right;\n    }\n</style>\n<table border=\"1\" class=\"dataframe\">\n  <thead>\n    <tr style=\"text-align: right;\">\n      <th></th>\n      <th>question</th>\n    </tr>\n  </thead>\n  <tbody>\n    <tr>\n      <th>0</th>\n      <td>who was the trump ocean club international hot...</td>\n    </tr>\n    <tr>\n      <th>1</th>\n      <td>where was sasha vujačić born</td>\n    </tr>\n    <tr>\n      <th>2</th>\n      <td>what is a region that dead combo was released in</td>\n    </tr>\n    <tr>\n      <th>3</th>\n      <td>what is a film directed by wiebke von carolsfeld</td>\n    </tr>\n    <tr>\n      <th>4</th>\n      <td>what country was music for stock exchange  rel...</td>\n    </tr>\n    <tr>\n      <th>...</th>\n      <td>...</td>\n    </tr>\n    <tr>\n      <th>10840</th>\n      <td>what is nikolaj frobeniuss profession</td>\n    </tr>\n    <tr>\n      <th>10841</th>\n      <td>who is a person that was born in sao paulo</td>\n    </tr>\n    <tr>\n      <th>10842</th>\n      <td>what area does zakynthos international airport...</td>\n    </tr>\n    <tr>\n      <th>10843</th>\n      <td>what kind of personality do german wirehaired ...</td>\n    </tr>\n    <tr>\n      <th>10844</th>\n      <td>billy corgan is credited as the producer on wh...</td>\n    </tr>\n  </tbody>\n</table>\n<p>10845 rows × 1 columns</p>\n</div>"
     },
     "execution_count": 38,
     "metadata": {},
     "output_type": "execute_result"
    }
   ],
   "source": [
    "df"
   ],
   "metadata": {
    "collapsed": false,
    "ExecuteTime": {
     "end_time": "2024-04-15T18:22:15.725146800Z",
     "start_time": "2024-04-15T18:22:15.570540100Z"
    }
   },
   "id": "4503535230a18600"
  },
  {
   "cell_type": "code",
   "execution_count": 39,
   "outputs": [
    {
     "data": {
      "text/plain": "8"
     },
     "execution_count": 39,
     "metadata": {},
     "output_type": "execute_result"
    }
   ],
   "source": [
    "# Split dataframes to be nice to openAI\n",
    "num_splits = (len(df) + 500 - 1) // 500 \n",
    "subframes = [df.iloc[i*500 : (i+1)*500] for i in range(num_splits)]\n",
    "# trim to dataset of 4000- Limit due to API Call\n",
    "subframes= subframes[0:8]\n",
    "len(subframes)"
   ],
   "metadata": {
    "collapsed": false,
    "ExecuteTime": {
     "end_time": "2024-04-15T18:22:15.726132600Z",
     "start_time": "2024-04-15T18:22:15.585611600Z"
    }
   },
   "id": "382b23e31803b953"
  },
  {
   "cell_type": "code",
   "execution_count": 40,
   "outputs": [],
   "source": [
    "# Open AI Data Creation\n",
    "import openai\n",
    "openai.api_key =\"STUB\"\n",
    "\n",
    "def get_answer_from_open_ai(a_question):\n",
    "    messages=[\n",
    "    {\"role\": \"system\", \"content\": \"I am going to give you a question. Please reply with a single sentence that could be an answer to that question\"},\n",
    "    {\"role\": \"user\", \"content\": a_question}\n",
    "  ]\n",
    "    response = openai.chat.completions.create(model=\"gpt-3.5-turbo\", messages=messages)\n",
    "    return response.choices[0].message.content"
   ],
   "metadata": {
    "collapsed": false,
    "ExecuteTime": {
     "end_time": "2024-04-15T18:22:15.726132600Z",
     "start_time": "2024-04-15T18:22:15.598534Z"
    }
   },
   "id": "c6efc6b300c092df"
  },
  {
   "cell_type": "code",
   "execution_count": 42,
   "outputs": [
    {
     "name": "stderr",
     "output_type": "stream",
     "text": [
      "C:\\Users\\Cam\\AppData\\Local\\Temp\\ipykernel_30852\\494842232.py:1: SettingWithCopyWarning: \n",
      "A value is trying to be set on a copy of a slice from a DataFrame.\n",
      "Try using .loc[row_indexer,col_indexer] = value instead\n",
      "\n",
      "See the caveats in the documentation: https://pandas.pydata.org/pandas-docs/stable/user_guide/indexing.html#returning-a-view-versus-a-copy\n",
      "  subframes[0]['answers'] = subframes[0]['question'].apply(get_answer_from_open_ai)\n"
     ]
    }
   ],
   "source": [
    "subframes[0]['answers'] = subframes[0]['question'].apply(get_answer_from_open_ai)"
   ],
   "metadata": {
    "collapsed": false,
    "ExecuteTime": {
     "end_time": "2024-04-15T18:27:33.336002900Z",
     "start_time": "2024-04-15T18:22:33.903455800Z"
    }
   },
   "id": "77128f653e69352e"
  },
  {
   "cell_type": "code",
   "execution_count": 43,
   "outputs": [
    {
     "data": {
      "text/plain": "0      The Trump Ocean Club International Hotel and T...\n1           Sasha Vujačić was born in Maribor, Slovenia.\n2                   Dead Combo was released in Portugal.\n3                                        \"Marion Bridge\"\n4                                     The United States.\n                             ...                        \n495         The film \"Paranoia 10\" is filmed in English.\n496    Wesley van der Linden was born in Amsterdam, N...\n497              Dominic Deutscher comes from Australia.\n498    Jingmen City-Located on the banks of the Yangt...\n499        Jason Macy was born in Auckland, New Zealand.\nName: answers, Length: 500, dtype: object"
     },
     "execution_count": 43,
     "metadata": {},
     "output_type": "execute_result"
    }
   ],
   "source": [
    "subframes[0]['answers']"
   ],
   "metadata": {
    "collapsed": false,
    "ExecuteTime": {
     "end_time": "2024-04-15T18:27:59.564676600Z",
     "start_time": "2024-04-15T18:27:59.511119300Z"
    }
   },
   "id": "a5f3b4d1966513a2"
  },
  {
   "cell_type": "code",
   "execution_count": 44,
   "outputs": [],
   "source": [
    "subframes[0].to_csv('generated_data/it_1.csv', index=False)"
   ],
   "metadata": {
    "collapsed": false,
    "ExecuteTime": {
     "end_time": "2024-04-15T18:29:59.079692800Z",
     "start_time": "2024-04-15T18:29:59.005170200Z"
    }
   },
   "id": "9fad9ea5b1fae88"
  },
  {
   "cell_type": "code",
   "execution_count": 47,
   "outputs": [
    {
     "name": "stderr",
     "output_type": "stream",
     "text": [
      "C:\\Users\\Cam\\AppData\\Local\\Temp\\ipykernel_30852\\4193552803.py:5: SettingWithCopyWarning: \n",
      "A value is trying to be set on a copy of a slice from a DataFrame.\n",
      "Try using .loc[row_indexer,col_indexer] = value instead\n",
      "\n",
      "See the caveats in the documentation: https://pandas.pydata.org/pandas-docs/stable/user_guide/indexing.html#returning-a-view-versus-a-copy\n",
      "  subframes[i]['answers'] = subframes[i]['question'].apply(get_answer_from_open_ai)\n",
      "C:\\Users\\Cam\\AppData\\Local\\Temp\\ipykernel_30852\\4193552803.py:5: SettingWithCopyWarning: \n",
      "A value is trying to be set on a copy of a slice from a DataFrame.\n",
      "Try using .loc[row_indexer,col_indexer] = value instead\n",
      "\n",
      "See the caveats in the documentation: https://pandas.pydata.org/pandas-docs/stable/user_guide/indexing.html#returning-a-view-versus-a-copy\n",
      "  subframes[i]['answers'] = subframes[i]['question'].apply(get_answer_from_open_ai)\n",
      "C:\\Users\\Cam\\AppData\\Local\\Temp\\ipykernel_30852\\4193552803.py:5: SettingWithCopyWarning: \n",
      "A value is trying to be set on a copy of a slice from a DataFrame.\n",
      "Try using .loc[row_indexer,col_indexer] = value instead\n",
      "\n",
      "See the caveats in the documentation: https://pandas.pydata.org/pandas-docs/stable/user_guide/indexing.html#returning-a-view-versus-a-copy\n",
      "  subframes[i]['answers'] = subframes[i]['question'].apply(get_answer_from_open_ai)\n",
      "C:\\Users\\Cam\\AppData\\Local\\Temp\\ipykernel_30852\\4193552803.py:5: SettingWithCopyWarning: \n",
      "A value is trying to be set on a copy of a slice from a DataFrame.\n",
      "Try using .loc[row_indexer,col_indexer] = value instead\n",
      "\n",
      "See the caveats in the documentation: https://pandas.pydata.org/pandas-docs/stable/user_guide/indexing.html#returning-a-view-versus-a-copy\n",
      "  subframes[i]['answers'] = subframes[i]['question'].apply(get_answer_from_open_ai)\n",
      "C:\\Users\\Cam\\AppData\\Local\\Temp\\ipykernel_30852\\4193552803.py:5: SettingWithCopyWarning: \n",
      "A value is trying to be set on a copy of a slice from a DataFrame.\n",
      "Try using .loc[row_indexer,col_indexer] = value instead\n",
      "\n",
      "See the caveats in the documentation: https://pandas.pydata.org/pandas-docs/stable/user_guide/indexing.html#returning-a-view-versus-a-copy\n",
      "  subframes[i]['answers'] = subframes[i]['question'].apply(get_answer_from_open_ai)\n",
      "C:\\Users\\Cam\\AppData\\Local\\Temp\\ipykernel_30852\\4193552803.py:5: SettingWithCopyWarning: \n",
      "A value is trying to be set on a copy of a slice from a DataFrame.\n",
      "Try using .loc[row_indexer,col_indexer] = value instead\n",
      "\n",
      "See the caveats in the documentation: https://pandas.pydata.org/pandas-docs/stable/user_guide/indexing.html#returning-a-view-versus-a-copy\n",
      "  subframes[i]['answers'] = subframes[i]['question'].apply(get_answer_from_open_ai)\n"
     ]
    }
   ],
   "source": [
    "from time import sleep\n",
    "\n",
    "for i in range(2, 8):\n",
    "    sleep(60)\n",
    "    subframes[i]['answers'] = subframes[i]['question'].apply(get_answer_from_open_ai)\n",
    "    subframes[i].to_csv('generated_data/it_' + str(i) + '.csv')"
   ],
   "metadata": {
    "collapsed": false,
    "ExecuteTime": {
     "end_time": "2024-04-15T19:08:24.376918800Z",
     "start_time": "2024-04-15T18:37:35.442219300Z"
    }
   },
   "id": "be4591a97e692256"
  },
  {
   "cell_type": "code",
   "execution_count": 48,
   "outputs": [
    {
     "name": "stderr",
     "output_type": "stream",
     "text": [
      "C:\\Users\\Cam\\AppData\\Local\\Temp\\ipykernel_30852\\2147219349.py:2: SettingWithCopyWarning: \n",
      "A value is trying to be set on a copy of a slice from a DataFrame.\n",
      "Try using .loc[row_indexer,col_indexer] = value instead\n",
      "\n",
      "See the caveats in the documentation: https://pandas.pydata.org/pandas-docs/stable/user_guide/indexing.html#returning-a-view-versus-a-copy\n",
      "  subframes[i]['answers'] = subframes[i]['answers'].apply(remove_punc)\n"
     ]
    }
   ],
   "source": [
    "for i in range(0, 8):\n",
    "    subframes[i]['answers'] = subframes[i]['answers'].apply(remove_punc)"
   ],
   "metadata": {
    "collapsed": false,
    "ExecuteTime": {
     "end_time": "2024-04-15T19:12:12.404425700Z",
     "start_time": "2024-04-15T19:12:12.375545100Z"
    }
   },
   "id": "60bdb68f69a62120"
  },
  {
   "cell_type": "code",
   "execution_count": 49,
   "outputs": [],
   "source": [
    "for i in range(0, 8):\n",
    "    subframes[i].to_csv('generated_and_cleaned/it_' + str(i) + '.csv')"
   ],
   "metadata": {
    "collapsed": false,
    "ExecuteTime": {
     "end_time": "2024-04-15T19:13:02.072888400Z",
     "start_time": "2024-04-15T19:13:01.978031Z"
    }
   },
   "id": "e8411e3543730c43"
  },
  {
   "cell_type": "code",
   "execution_count": null,
   "outputs": [],
   "source": [],
   "metadata": {
    "collapsed": false
   },
   "id": "a4729231d88c7cde"
  }
 ],
 "metadata": {
  "kernelspec": {
   "display_name": "Python 3",
   "language": "python",
   "name": "python3"
  },
  "language_info": {
   "codemirror_mode": {
    "name": "ipython",
    "version": 2
   },
   "file_extension": ".py",
   "mimetype": "text/x-python",
   "name": "python",
   "nbconvert_exporter": "python",
   "pygments_lexer": "ipython2",
   "version": "2.7.6"
  }
 },
 "nbformat": 4,
 "nbformat_minor": 5
}
