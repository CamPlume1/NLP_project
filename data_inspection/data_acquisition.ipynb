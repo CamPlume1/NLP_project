{
 "cells": [
  {
   "cell_type": "code",
   "execution_count": 1,
   "id": "initial_id",
   "metadata": {
    "collapsed": true,
    "ExecuteTime": {
     "end_time": "2024-04-18T16:08:12.570820300Z",
     "start_time": "2024-04-18T16:08:10.898099900Z"
    }
   },
   "outputs": [
    {
     "data": {
      "text/plain": "       index                                               text     user\n0          0  networking is always one of the more complicat...   Antero\n1          1                  not usually fun kind of challange   Antero\n2          2  so people don't usually answer those unless th...   Antero\n3          3  I feel like a gif recording of you running it ...     Lica\n4          4                                                 Ok   Tiegan\n...      ...                                                ...      ...\n56758  56758  Thinking I want to get some refactor action go...  Wrenley\n56759  56759  Alternatively fix my failing unit test. But I ...  Wrenley\n56760  56760                                                 oh   Farhad\n56761  56761                                                umm   Farhad\n56762  56762                                               good   Farhad\n\n[56763 rows x 3 columns]",
      "text/html": "<div>\n<style scoped>\n    .dataframe tbody tr th:only-of-type {\n        vertical-align: middle;\n    }\n\n    .dataframe tbody tr th {\n        vertical-align: top;\n    }\n\n    .dataframe thead th {\n        text-align: right;\n    }\n</style>\n<table border=\"1\" class=\"dataframe\">\n  <thead>\n    <tr style=\"text-align: right;\">\n      <th></th>\n      <th>index</th>\n      <th>text</th>\n      <th>user</th>\n    </tr>\n  </thead>\n  <tbody>\n    <tr>\n      <th>0</th>\n      <td>0</td>\n      <td>networking is always one of the more complicat...</td>\n      <td>Antero</td>\n    </tr>\n    <tr>\n      <th>1</th>\n      <td>1</td>\n      <td>not usually fun kind of challange</td>\n      <td>Antero</td>\n    </tr>\n    <tr>\n      <th>2</th>\n      <td>2</td>\n      <td>so people don't usually answer those unless th...</td>\n      <td>Antero</td>\n    </tr>\n    <tr>\n      <th>3</th>\n      <td>3</td>\n      <td>I feel like a gif recording of you running it ...</td>\n      <td>Lica</td>\n    </tr>\n    <tr>\n      <th>4</th>\n      <td>4</td>\n      <td>Ok</td>\n      <td>Tiegan</td>\n    </tr>\n    <tr>\n      <th>...</th>\n      <td>...</td>\n      <td>...</td>\n      <td>...</td>\n    </tr>\n    <tr>\n      <th>56758</th>\n      <td>56758</td>\n      <td>Thinking I want to get some refactor action go...</td>\n      <td>Wrenley</td>\n    </tr>\n    <tr>\n      <th>56759</th>\n      <td>56759</td>\n      <td>Alternatively fix my failing unit test. But I ...</td>\n      <td>Wrenley</td>\n    </tr>\n    <tr>\n      <th>56760</th>\n      <td>56760</td>\n      <td>oh</td>\n      <td>Farhad</td>\n    </tr>\n    <tr>\n      <th>56761</th>\n      <td>56761</td>\n      <td>umm</td>\n      <td>Farhad</td>\n    </tr>\n    <tr>\n      <th>56762</th>\n      <td>56762</td>\n      <td>good</td>\n      <td>Farhad</td>\n    </tr>\n  </tbody>\n</table>\n<p>56763 rows × 3 columns</p>\n</div>"
     },
     "execution_count": 1,
     "metadata": {},
     "output_type": "execute_result"
    }
   ],
   "source": [
    "from pprint import pprint\n",
    "import xml.etree.ElementTree as ET\n",
    "import pandas as pd\n",
    "\n",
    "# Parse the XML file\n",
    "tree = ET.parse('../data_inspection/data/discord/pythongeneralMar2020.xml')\n",
    "root = tree.getroot()\n",
    "\n",
    "messages = root.findall('message')\n",
    "\n",
    "message_list = []\n",
    "\n",
    "for message in messages:\n",
    "    temp = {'text': message.find('text').text, 'user': message.find('user').text}\n",
    "    message_list.append(temp)\n",
    "    \n",
    "df = pd.DataFrame(message_list)\n",
    "df.reset_index()\n",
    "    "
   ]
  },
  {
   "cell_type": "code",
   "execution_count": 3,
   "outputs": [],
   "source": [
    "first_500_rows = df.iloc[:500]\n",
    "test_200_rows = df.iloc[700: 900]"
   ],
   "metadata": {
    "collapsed": false,
    "ExecuteTime": {
     "end_time": "2024-04-18T16:08:20.862393500Z",
     "start_time": "2024-04-18T16:08:20.816920200Z"
    }
   },
   "id": "52a70eeda908f4f0"
  },
  {
   "cell_type": "code",
   "execution_count": 5,
   "outputs": [],
   "source": [
    "first_500_rows.to_csv('train_conversation.csv', index=False)\n",
    "test_200_rows.to_csv('test_conversation.csv', index=False)"
   ],
   "metadata": {
    "collapsed": false,
    "ExecuteTime": {
     "end_time": "2024-04-18T16:12:25.019091700Z",
     "start_time": "2024-04-18T16:12:24.987576900Z"
    }
   },
   "id": "baaeac6d9685ad64"
  },
  {
   "cell_type": "code",
   "execution_count": null,
   "outputs": [],
   "source": [],
   "metadata": {
    "collapsed": false
   },
   "id": "c36075c7048b3eac"
  }
 ],
 "metadata": {
  "kernelspec": {
   "display_name": "Python 3",
   "language": "python",
   "name": "python3"
  },
  "language_info": {
   "codemirror_mode": {
    "name": "ipython",
    "version": 2
   },
   "file_extension": ".py",
   "mimetype": "text/x-python",
   "name": "python",
   "nbconvert_exporter": "python",
   "pygments_lexer": "ipython2",
   "version": "2.7.6"
  }
 },
 "nbformat": 4,
 "nbformat_minor": 5
}
