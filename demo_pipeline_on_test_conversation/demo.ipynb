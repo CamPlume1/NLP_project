{
 "cells": [
  {
   "cell_type": "markdown",
   "source": [
    "# Given A path to a csv file with a single \"text\" column, this demo will:\n",
    "- Identify Questions in the set\n",
    "- Flag unanswered Questions\n",
    "- Print the number of questions identified\n",
    "- Print the number of questions answered\n",
    "- Print the index and content of unanswered questions as \"needs follow up\""
   ],
   "metadata": {
    "collapsed": false
   },
   "id": "35387b5cabbf82e2"
  },
  {
   "cell_type": "markdown",
   "source": [
    "# Setup"
   ],
   "metadata": {
    "collapsed": false
   },
   "id": "8f716d16b2dd67e7"
  },
  {
   "cell_type": "code",
   "execution_count": 57,
   "outputs": [],
   "source": [
    "from nltk import word_tokenize\n",
    "from nltk.stem import PorterStemmer\n",
    "stemmer = PorterStemmer()\n",
    "\n",
    "\n",
    "# Preprocessing import for tokenizer\n",
    "def tokenize_and_stem(text):\n",
    "    tokens = word_tokenize(text)\n",
    "    stemmed_tokens = [stemmer.stem(token) for token in tokens]\n",
    "    return stemmed_tokens"
   ],
   "metadata": {
    "collapsed": false,
    "ExecuteTime": {
     "end_time": "2024-04-19T00:17:00.622847300Z",
     "start_time": "2024-04-19T00:17:00.550330100Z"
    }
   },
   "id": "3f6e8e7691c04d49"
  },
  {
   "cell_type": "code",
   "execution_count": 58,
   "outputs": [],
   "source": [
    "# Load Pretrained Models, Tokenizers, and PDF\n",
    "import joblib\n",
    "import pickle\n",
    "import q_or_not_q_classification.q_or_not_q_api as q_or_not_q_api\n",
    "\n",
    "q_or_a_model = joblib.load('../models/q_or_no.pkl')\n",
    "q_or_a_vect = joblib.load('../models/q_or_a_vectorizer.pkl')\n",
    "pair_model = joblib.load('../models/pair_model.pkl')\n",
    "pair_vectorizer = joblib.load('../models/pair_vectorizer.pkl')\n",
    "with open('../models/pdf.pickle', 'rb') as f:\n",
    "    pdf = pickle.load(f)"
   ],
   "metadata": {
    "collapsed": false,
    "ExecuteTime": {
     "end_time": "2024-04-19T00:17:00.789457200Z",
     "start_time": "2024-04-19T00:17:00.555860500Z"
    }
   },
   "id": "f9f8f4ec6861c9e5"
  },
  {
   "cell_type": "code",
   "execution_count": 59,
   "outputs": [],
   "source": [
    "# Load test data, and drop all columns except text for testing, add r_index column\n",
    "import pandas as pd\n",
    "df = pd.read_csv('../question_flagging/test_conversation.csv')\n",
    "test_df = pd.DataFrame(df['text'], columns= ['text'])\n",
    "test_df.reset_index(inplace=True)\n",
    "test_df.columns= ['r_index', 'text']\n",
    "df.fillna(0, inplace= True)"
   ],
   "metadata": {
    "collapsed": false,
    "ExecuteTime": {
     "end_time": "2024-04-19T00:17:00.789457200Z",
     "start_time": "2024-04-19T00:17:00.603771300Z"
    }
   },
   "id": "7889c31c81b013a1"
  },
  {
   "cell_type": "markdown",
   "source": [
    "# Identify Questions"
   ],
   "metadata": {
    "collapsed": false
   },
   "id": "7fba04da48e01d81"
  },
  {
   "cell_type": "code",
   "execution_count": 60,
   "outputs": [],
   "source": [
    "# Vectorize text column using q_or_a\n",
    "q_id_in_vec = df['text'].astype(str)\n",
    "vectorized_input = q_or_a_vect.transform(q_id_in_vec)"
   ],
   "metadata": {
    "collapsed": false,
    "ExecuteTime": {
     "end_time": "2024-04-19T00:17:00.791456900Z",
     "start_time": "2024-04-19T00:17:00.653481Z"
    }
   },
   "id": "77d3d9bed851f5f4"
  },
  {
   "cell_type": "code",
   "execution_count": 61,
   "outputs": [],
   "source": [
    "# Make Question Predictions, and add to testDF\n",
    "preds = q_or_a_model.predict(vectorized_input)\n",
    "test_df['question'] = preds"
   ],
   "metadata": {
    "collapsed": false,
    "ExecuteTime": {
     "end_time": "2024-04-19T00:17:00.791456900Z",
     "start_time": "2024-04-19T00:17:00.662976100Z"
    }
   },
   "id": "f402ed1cde445ab1"
  },
  {
   "cell_type": "markdown",
   "source": [
    "# Now run Answered Model"
   ],
   "metadata": {
    "collapsed": false
   },
   "id": "da14d3f07b7cda80"
  },
  {
   "cell_type": "code",
   "execution_count": 62,
   "outputs": [],
   "source": [
    "# Now run Answered Model\n",
    "tf_idf_matrix = pair_vectorizer.transform(df['text'].astype(str))"
   ],
   "metadata": {
    "collapsed": false,
    "ExecuteTime": {
     "end_time": "2024-04-19T00:17:00.791456900Z",
     "start_time": "2024-04-19T00:17:00.678505300Z"
    }
   },
   "id": "efd436926b8d2b95"
  },
  {
   "cell_type": "code",
   "execution_count": 63,
   "outputs": [],
   "source": [
    "# Create cosine similarity matrix\n",
    "from sklearn.metrics.pairwise import cosine_similarity\n",
    "sim_matrix = cosine_similarity(tf_idf_matrix, tf_idf_matrix)"
   ],
   "metadata": {
    "collapsed": false,
    "ExecuteTime": {
     "end_time": "2024-04-19T00:17:00.791963100Z",
     "start_time": "2024-04-19T00:17:00.728817200Z"
    }
   },
   "id": "be3c5d6a41e16a78"
  },
  {
   "cell_type": "code",
   "execution_count": 64,
   "outputs": [],
   "source": [
    "# Calculates cosign similarity of a given row and its offset\n",
    "def calculate_cosign_similarity(index_a, offset):\n",
    "    if index_a + offset >= len(test_df):\n",
    "        return 0\n",
    "    return sim_matrix[index_a, index_a + offset]"
   ],
   "metadata": {
    "collapsed": false,
    "ExecuteTime": {
     "end_time": "2024-04-19T00:17:00.791963100Z",
     "start_time": "2024-04-19T00:17:00.740334900Z"
    }
   },
   "id": "9af2d1fd8fe56808"
  },
  {
   "cell_type": "code",
   "execution_count": 65,
   "outputs": [],
   "source": [
    "# Make prediction on row based on pdf and 4 probability values\n",
    "def pdf_prediction(num1, num2, num3, num4):\n",
    "    n = sum(pdf.values())\n",
    "    pdf_1 = num1 * (pdf[1]/n)\n",
    "    pdf_2 = num2 * (pdf[2]/n)\n",
    "    pdf_3 = num3 * (pdf[3]/n)\n",
    "    pdf_4 = num4 * (pdf[4]/n)\n",
    "    ev = pdf_1 + pdf_2 + pdf_3 + pdf_4\n",
    "    if ev >= 0.5:\n",
    "        return 1\n",
    "    return 0"
   ],
   "metadata": {
    "collapsed": false,
    "ExecuteTime": {
     "end_time": "2024-04-19T00:17:00.791963100Z",
     "start_time": "2024-04-19T00:17:00.755452800Z"
    }
   },
   "id": "2f571172b67b9c03"
  },
  {
   "cell_type": "code",
   "execution_count": 66,
   "outputs": [],
   "source": [
    "# Create Similarity Columns: \n",
    "test_df['pair_1_sim'] = test_df['r_index'].apply(lambda x: calculate_cosign_similarity(int(x), 1))\n",
    "test_df['pair_2_sim'] = test_df['r_index'].apply(lambda x: calculate_cosign_similarity(int(x), 2))\n",
    "test_df['pair_3_sim'] = test_df['r_index'].apply(lambda x: calculate_cosign_similarity(int(x), 3))\n",
    "test_df['pair_4_sim'] = test_df['r_index'].apply(lambda x: calculate_cosign_similarity(int(x), 4))"
   ],
   "metadata": {
    "collapsed": false,
    "ExecuteTime": {
     "end_time": "2024-04-19T00:17:00.791963100Z",
     "start_time": "2024-04-19T00:17:00.772952500Z"
    }
   },
   "id": "b2e5ca8e4023e4ec"
  },
  {
   "cell_type": "code",
   "execution_count": 67,
   "outputs": [],
   "source": [
    "# Filter df to only predicted questions\n",
    "questions_only = test_df[test_df['question'] == 1]"
   ],
   "metadata": {
    "collapsed": false,
    "ExecuteTime": {
     "end_time": "2024-04-19T00:17:00.821852800Z",
     "start_time": "2024-04-19T00:17:00.785449200Z"
    }
   },
   "id": "ff9b734b5fd7d13f"
  },
  {
   "cell_type": "code",
   "execution_count": 68,
   "outputs": [],
   "source": [
    "# Isolate and rename similarity columns for model compatibility\n",
    "offset_1 = questions_only[['question', 'pair_1_sim']]\n",
    "offset_1.columns = ['question', 'similarity']\n",
    "offset_2 = questions_only[['question', 'pair_2_sim']]\n",
    "offset_2.columns = ['question', 'similarity']\n",
    "offset_3 = questions_only[['question', 'pair_3_sim']]\n",
    "offset_3.columns = ['question', 'similarity']\n",
    "offset_4 = questions_only[['question', 'pair_4_sim']]\n",
    "offset_4.columns = ['question', 'similarity']"
   ],
   "metadata": {
    "collapsed": false,
    "ExecuteTime": {
     "end_time": "2024-04-19T00:17:00.845474800Z",
     "start_time": "2024-04-19T00:17:00.802320Z"
    }
   },
   "id": "d82c5d5bd994b5f"
  },
  {
   "cell_type": "code",
   "execution_count": 69,
   "outputs": [],
   "source": [
    "# Make probability predictions using q_a_pair model\n",
    "offset_1_preds = pair_model.predict_proba(offset_1[['similarity']])\n",
    "offset_2_preds = pair_model.predict_proba(offset_2[['similarity']])\n",
    "offset_3_preds = pair_model.predict_proba(offset_3[['similarity']])\n",
    "offset_4_preds = pair_model.predict_proba(offset_4[['similarity']])"
   ],
   "metadata": {
    "collapsed": false,
    "ExecuteTime": {
     "end_time": "2024-04-19T00:17:00.847476400Z",
     "start_time": "2024-04-19T00:17:00.822858Z"
    }
   },
   "id": "2bb2eeb6c6618206"
  },
  {
   "cell_type": "code",
   "execution_count": 70,
   "outputs": [
    {
     "name": "stderr",
     "output_type": "stream",
     "text": [
      "C:\\Users\\Cam\\AppData\\Local\\Temp\\ipykernel_15116\\2161971918.py:2: SettingWithCopyWarning: \n",
      "A value is trying to be set on a copy of a slice from a DataFrame.\n",
      "Try using .loc[row_indexer,col_indexer] = value instead\n",
      "\n",
      "See the caveats in the documentation: https://pandas.pydata.org/pandas-docs/stable/user_guide/indexing.html#returning-a-view-versus-a-copy\n",
      "  offset_1['predicted'] = offset_1_preds[:, 1]\n",
      "C:\\Users\\Cam\\AppData\\Local\\Temp\\ipykernel_15116\\2161971918.py:3: SettingWithCopyWarning: \n",
      "A value is trying to be set on a copy of a slice from a DataFrame.\n",
      "Try using .loc[row_indexer,col_indexer] = value instead\n",
      "\n",
      "See the caveats in the documentation: https://pandas.pydata.org/pandas-docs/stable/user_guide/indexing.html#returning-a-view-versus-a-copy\n",
      "  offset_2['predicted'] = offset_2_preds[:, 1]\n",
      "C:\\Users\\Cam\\AppData\\Local\\Temp\\ipykernel_15116\\2161971918.py:4: SettingWithCopyWarning: \n",
      "A value is trying to be set on a copy of a slice from a DataFrame.\n",
      "Try using .loc[row_indexer,col_indexer] = value instead\n",
      "\n",
      "See the caveats in the documentation: https://pandas.pydata.org/pandas-docs/stable/user_guide/indexing.html#returning-a-view-versus-a-copy\n",
      "  offset_3['predicted'] = offset_3_preds[:, 1]\n",
      "C:\\Users\\Cam\\AppData\\Local\\Temp\\ipykernel_15116\\2161971918.py:5: SettingWithCopyWarning: \n",
      "A value is trying to be set on a copy of a slice from a DataFrame.\n",
      "Try using .loc[row_indexer,col_indexer] = value instead\n",
      "\n",
      "See the caveats in the documentation: https://pandas.pydata.org/pandas-docs/stable/user_guide/indexing.html#returning-a-view-versus-a-copy\n",
      "  offset_4['predicted'] = offset_4_preds[:, 1]\n"
     ]
    }
   ],
   "source": [
    "# Add predicions back to offset dataframes\n",
    "offset_1['predicted'] = offset_1_preds[:, 1]\n",
    "offset_2['predicted'] = offset_2_preds[:, 1]\n",
    "offset_3['predicted'] = offset_3_preds[:, 1]\n",
    "offset_4['predicted'] = offset_4_preds[:, 1]"
   ],
   "metadata": {
    "collapsed": false,
    "ExecuteTime": {
     "end_time": "2024-04-19T00:17:00.859507600Z",
     "start_time": "2024-04-19T00:17:00.831868200Z"
    }
   },
   "id": "791511c75f934c66"
  },
  {
   "cell_type": "code",
   "execution_count": 71,
   "outputs": [
    {
     "name": "stderr",
     "output_type": "stream",
     "text": [
      "C:\\Users\\Cam\\AppData\\Local\\Temp\\ipykernel_15116\\4275087784.py:2: SettingWithCopyWarning: \n",
      "A value is trying to be set on a copy of a slice from a DataFrame.\n",
      "Try using .loc[row_indexer,col_indexer] = value instead\n",
      "\n",
      "See the caveats in the documentation: https://pandas.pydata.org/pandas-docs/stable/user_guide/indexing.html#returning-a-view-versus-a-copy\n",
      "  questions_only['pred_1'] = offset_1['predicted']\n",
      "C:\\Users\\Cam\\AppData\\Local\\Temp\\ipykernel_15116\\4275087784.py:3: SettingWithCopyWarning: \n",
      "A value is trying to be set on a copy of a slice from a DataFrame.\n",
      "Try using .loc[row_indexer,col_indexer] = value instead\n",
      "\n",
      "See the caveats in the documentation: https://pandas.pydata.org/pandas-docs/stable/user_guide/indexing.html#returning-a-view-versus-a-copy\n",
      "  questions_only['pred_2'] = offset_2['predicted']\n",
      "C:\\Users\\Cam\\AppData\\Local\\Temp\\ipykernel_15116\\4275087784.py:4: SettingWithCopyWarning: \n",
      "A value is trying to be set on a copy of a slice from a DataFrame.\n",
      "Try using .loc[row_indexer,col_indexer] = value instead\n",
      "\n",
      "See the caveats in the documentation: https://pandas.pydata.org/pandas-docs/stable/user_guide/indexing.html#returning-a-view-versus-a-copy\n",
      "  questions_only['pred_3'] = offset_3['predicted']\n",
      "C:\\Users\\Cam\\AppData\\Local\\Temp\\ipykernel_15116\\4275087784.py:5: SettingWithCopyWarning: \n",
      "A value is trying to be set on a copy of a slice from a DataFrame.\n",
      "Try using .loc[row_indexer,col_indexer] = value instead\n",
      "\n",
      "See the caveats in the documentation: https://pandas.pydata.org/pandas-docs/stable/user_guide/indexing.html#returning-a-view-versus-a-copy\n",
      "  questions_only['pred_4'] = offset_4['predicted']\n"
     ]
    }
   ],
   "source": [
    "# Add predictions to questions only df\n",
    "questions_only['pred_1'] = offset_1['predicted']\n",
    "questions_only['pred_2'] = offset_2['predicted']\n",
    "questions_only['pred_3'] = offset_3['predicted']\n",
    "questions_only['pred_4'] = offset_4['predicted']"
   ],
   "metadata": {
    "collapsed": false,
    "ExecuteTime": {
     "end_time": "2024-04-19T00:17:00.871565900Z",
     "start_time": "2024-04-19T00:17:00.849474700Z"
    }
   },
   "id": "9a90771353484d09"
  },
  {
   "cell_type": "code",
   "execution_count": 72,
   "outputs": [
    {
     "data": {
      "text/plain": "Index(['r_index', 'text', 'question', 'pair_1_sim', 'pair_2_sim', 'pair_3_sim',\n       'pair_4_sim', 'pred_1', 'pred_2', 'pred_3', 'pred_4'],\n      dtype='object')"
     },
     "execution_count": 72,
     "metadata": {},
     "output_type": "execute_result"
    }
   ],
   "source": [
    "questions_only.columns"
   ],
   "metadata": {
    "collapsed": false,
    "ExecuteTime": {
     "end_time": "2024-04-19T00:17:00.922786100Z",
     "start_time": "2024-04-19T00:17:00.862049500Z"
    }
   },
   "id": "503f3173e0a5f683"
  },
  {
   "cell_type": "code",
   "execution_count": 73,
   "outputs": [
    {
     "name": "stderr",
     "output_type": "stream",
     "text": [
      "C:\\Users\\Cam\\AppData\\Local\\Temp\\ipykernel_15116\\278083233.py:2: SettingWithCopyWarning: \n",
      "A value is trying to be set on a copy of a slice from a DataFrame.\n",
      "Try using .loc[row_indexer,col_indexer] = value instead\n",
      "\n",
      "See the caveats in the documentation: https://pandas.pydata.org/pandas-docs/stable/user_guide/indexing.html#returning-a-view-versus-a-copy\n",
      "  questions_only['answered_question_pred'] = questions_only.apply(lambda row: pdf_prediction(row['pred_1'], row['pred_2'], row['pred_3'], row['pred_4']), axis=1)\n"
     ]
    }
   ],
   "source": [
    "# Use pdf to generate final predictions\n",
    "questions_only['answered_question_pred'] = questions_only.apply(lambda row: pdf_prediction(row['pred_1'], row['pred_2'], row['pred_3'], row['pred_4']), axis=1)"
   ],
   "metadata": {
    "collapsed": false,
    "ExecuteTime": {
     "end_time": "2024-04-19T00:17:00.923788800Z",
     "start_time": "2024-04-19T00:17:00.878574800Z"
    }
   },
   "id": "b96aab0ddec4b0e9"
  },
  {
   "cell_type": "code",
   "execution_count": 74,
   "outputs": [
    {
     "name": "stdout",
     "output_type": "stream",
     "text": [
      "Follow up items:\n",
      "Unanswered question in message 0:  seems exactly what I want\n",
      "Unanswered question in message 8:  idk its not that terribly complicated although i dont know what you have used in the past\n",
      "Unanswered question in message 24:  What was meant by that\n",
      "Unanswered question in message 26:  i think what you are reaching at is the notion of namespace\n",
      "Unanswered question in message 33:  a class is more like a dictionary except a dictionary where the values can be functions which handily in Python is trivial\n",
      "Unanswered question in message 38:  or hierarchy of namespaces\n",
      "Unanswered question in message 57:  What library\n",
      "Unanswered question in message 59:  Bruh Py2 is impossible\n",
      "Unanswered question in message 85:  yeah ik what the differenences are but i just had a oubt where can u use elif muliple times\n",
      "Unanswered question in message 110:  Let's say I have a condition in the program to check if string doesn't include anything other than letters and want to successfully exit out if it's not. What I can use:```if False == s.isalpha(): exit() or return or what```\n",
      "Unanswered question in message 113:  what will be a Pythonic practice to stop the execution of the program gracefully\n",
      "Unanswered question in message 120:  or I should throw an exception telling the that user didn't enter correct input\n",
      "Unanswered question in message 124:  ```Create a Python databaseaccess API for accessing Question and Choice objects.``` what does this line mean? what does databaseaccess api mean?\n",
      "Unanswered question in message 126:  or you can do what squeeze said even though thats all sys.exit is doing in the background aswell\n",
      "Unanswered question in message 132:  what's an api 😅 ?\n",
      "Unanswered question in message 136:  what does it mean\n",
      "Unanswered question in message 141:  @battlefist can you define `pure function` im not quite sure what that intails\n",
      "Unanswered question in message 143:  What would happen is you'd write some code using SQL that lets future people interact with the database without SQL\n",
      "Unanswered question in message 145:  do you have more info about what you're doing?\n",
      "Unanswered question in message 173:  but thanks i get what it does now\n",
      "Unanswered question in message 178:  What is the code you're trying to run\n",
      "Unanswered question in message 194:  yep where range takes args like this `start end step` where step is what to count by\n"
     ]
    }
   ],
   "source": [
    "# Print questions for follow up for user\n",
    "print(\"Follow up items:\")\n",
    "for index, row in questions_only.iterrows():\n",
    "    str_out = \"Unanswered question in message \" + str(row['r_index']) + \":  \"\n",
    "    str_out += row['text']\n",
    "    print(str_out)"
   ],
   "metadata": {
    "collapsed": false,
    "ExecuteTime": {
     "end_time": "2024-04-19T00:17:00.932294Z",
     "start_time": "2024-04-19T00:17:00.893688300Z"
    }
   },
   "id": "3e95f16c7847c58e"
  },
  {
   "cell_type": "markdown",
   "source": [
    "# Final End to end analytics of Discord test data"
   ],
   "metadata": {
    "collapsed": false
   },
   "id": "cb60083a64c1d41"
  },
  {
   "cell_type": "code",
   "execution_count": 75,
   "outputs": [
    {
     "name": "stderr",
     "output_type": "stream",
     "text": [
      "C:\\Users\\Cam\\AppData\\Local\\Temp\\ipykernel_15116\\2555242219.py:5: SettingWithCopyWarning: \n",
      "A value is trying to be set on a copy of a slice from a DataFrame\n",
      "\n",
      "See the caveats in the documentation: https://pandas.pydata.org/pandas-docs/stable/user_guide/indexing.html#returning-a-view-versus-a-copy\n",
      "  questions_only.drop(columns=['pair_1_sim', 'pair_2_sim', 'pair_3_sim',\n"
     ]
    },
    {
     "data": {
      "text/plain": "     r_index                                               text  \\\n0          0                          seems exactly what I want   \n8          8  idk its not that terribly complicated although...   \n24        24                             What was meant by that   \n26        26  i think what you are reaching at is the notion...   \n33        33  a class is more like a dictionary except a dic...   \n38        38                         or hierarchy of namespaces   \n57        57                                       What library   \n59        59                             Bruh Py2 is impossible   \n85        85  yeah ik what the differenences are but i just ...   \n110      110  Let's say I have a condition in the program to...   \n113      113  what will be a Pythonic practice to stop the e...   \n120      120  or I should throw an exception telling the tha...   \n124      124  ```Create a Python databaseaccess API for acce...   \n126      126  or you can do what squeeze said even though th...   \n132      132                                  what's an api 😅 ?   \n136      136                                  what does it mean   \n141      141  @battlefist can you define `pure function` im ...   \n143      143  What would happen is you'd write some code usi...   \n145      145     do you have more info about what you're doing?   \n173      173                  but thanks i get what it does now   \n178      178              What is the code you're trying to run   \n194      194  yep where range takes args like this `start en...   \n\n     question_pred  answered_question_pred  \n0                1                       0  \n8                1                       0  \n24               1                       0  \n26               1                       0  \n33               1                       0  \n38               1                       0  \n57               1                       0  \n59               1                       0  \n85               1                       1  \n110              1                       1  \n113              1                       0  \n120              1                       0  \n124              1                       0  \n126              1                       0  \n132              1                       0  \n136              1                       1  \n141              1                       0  \n143              1                       0  \n145              1                       0  \n173              1                       1  \n178              1                       1  \n194              1                       0  ",
      "text/html": "<div>\n<style scoped>\n    .dataframe tbody tr th:only-of-type {\n        vertical-align: middle;\n    }\n\n    .dataframe tbody tr th {\n        vertical-align: top;\n    }\n\n    .dataframe thead th {\n        text-align: right;\n    }\n</style>\n<table border=\"1\" class=\"dataframe\">\n  <thead>\n    <tr style=\"text-align: right;\">\n      <th></th>\n      <th>r_index</th>\n      <th>text</th>\n      <th>question_pred</th>\n      <th>answered_question_pred</th>\n    </tr>\n  </thead>\n  <tbody>\n    <tr>\n      <th>0</th>\n      <td>0</td>\n      <td>seems exactly what I want</td>\n      <td>1</td>\n      <td>0</td>\n    </tr>\n    <tr>\n      <th>8</th>\n      <td>8</td>\n      <td>idk its not that terribly complicated although...</td>\n      <td>1</td>\n      <td>0</td>\n    </tr>\n    <tr>\n      <th>24</th>\n      <td>24</td>\n      <td>What was meant by that</td>\n      <td>1</td>\n      <td>0</td>\n    </tr>\n    <tr>\n      <th>26</th>\n      <td>26</td>\n      <td>i think what you are reaching at is the notion...</td>\n      <td>1</td>\n      <td>0</td>\n    </tr>\n    <tr>\n      <th>33</th>\n      <td>33</td>\n      <td>a class is more like a dictionary except a dic...</td>\n      <td>1</td>\n      <td>0</td>\n    </tr>\n    <tr>\n      <th>38</th>\n      <td>38</td>\n      <td>or hierarchy of namespaces</td>\n      <td>1</td>\n      <td>0</td>\n    </tr>\n    <tr>\n      <th>57</th>\n      <td>57</td>\n      <td>What library</td>\n      <td>1</td>\n      <td>0</td>\n    </tr>\n    <tr>\n      <th>59</th>\n      <td>59</td>\n      <td>Bruh Py2 is impossible</td>\n      <td>1</td>\n      <td>0</td>\n    </tr>\n    <tr>\n      <th>85</th>\n      <td>85</td>\n      <td>yeah ik what the differenences are but i just ...</td>\n      <td>1</td>\n      <td>1</td>\n    </tr>\n    <tr>\n      <th>110</th>\n      <td>110</td>\n      <td>Let's say I have a condition in the program to...</td>\n      <td>1</td>\n      <td>1</td>\n    </tr>\n    <tr>\n      <th>113</th>\n      <td>113</td>\n      <td>what will be a Pythonic practice to stop the e...</td>\n      <td>1</td>\n      <td>0</td>\n    </tr>\n    <tr>\n      <th>120</th>\n      <td>120</td>\n      <td>or I should throw an exception telling the tha...</td>\n      <td>1</td>\n      <td>0</td>\n    </tr>\n    <tr>\n      <th>124</th>\n      <td>124</td>\n      <td>```Create a Python databaseaccess API for acce...</td>\n      <td>1</td>\n      <td>0</td>\n    </tr>\n    <tr>\n      <th>126</th>\n      <td>126</td>\n      <td>or you can do what squeeze said even though th...</td>\n      <td>1</td>\n      <td>0</td>\n    </tr>\n    <tr>\n      <th>132</th>\n      <td>132</td>\n      <td>what's an api 😅 ?</td>\n      <td>1</td>\n      <td>0</td>\n    </tr>\n    <tr>\n      <th>136</th>\n      <td>136</td>\n      <td>what does it mean</td>\n      <td>1</td>\n      <td>1</td>\n    </tr>\n    <tr>\n      <th>141</th>\n      <td>141</td>\n      <td>@battlefist can you define `pure function` im ...</td>\n      <td>1</td>\n      <td>0</td>\n    </tr>\n    <tr>\n      <th>143</th>\n      <td>143</td>\n      <td>What would happen is you'd write some code usi...</td>\n      <td>1</td>\n      <td>0</td>\n    </tr>\n    <tr>\n      <th>145</th>\n      <td>145</td>\n      <td>do you have more info about what you're doing?</td>\n      <td>1</td>\n      <td>0</td>\n    </tr>\n    <tr>\n      <th>173</th>\n      <td>173</td>\n      <td>but thanks i get what it does now</td>\n      <td>1</td>\n      <td>1</td>\n    </tr>\n    <tr>\n      <th>178</th>\n      <td>178</td>\n      <td>What is the code you're trying to run</td>\n      <td>1</td>\n      <td>1</td>\n    </tr>\n    <tr>\n      <th>194</th>\n      <td>194</td>\n      <td>yep where range takes args like this `start en...</td>\n      <td>1</td>\n      <td>0</td>\n    </tr>\n  </tbody>\n</table>\n</div>"
     },
     "execution_count": 75,
     "metadata": {},
     "output_type": "execute_result"
    }
   ],
   "source": [
    "# Clean questions for mapping back to test set\n",
    "questions_only.columns= ['r_index', 'text', 'question_pred', 'pair_1_sim', 'pair_2_sim', 'pair_3_sim',\n",
    "       'pair_4_sim', 'pred_1', 'pred_2', 'pred_3', 'pred_4',\n",
    "       'answered_question_pred']\n",
    "questions_only.drop(columns=['pair_1_sim', 'pair_2_sim', 'pair_3_sim',\n",
    "       'pair_4_sim', 'pred_1', 'pred_2', 'pred_3', 'pred_4'], inplace=True)\n",
    "questions_only\n"
   ],
   "metadata": {
    "collapsed": false,
    "ExecuteTime": {
     "end_time": "2024-04-19T00:17:00.936302800Z",
     "start_time": "2024-04-19T00:17:00.914239400Z"
    }
   },
   "id": "cfa22f4d4fd52e4c"
  },
  {
   "cell_type": "code",
   "execution_count": 76,
   "outputs": [
    {
     "name": "stderr",
     "output_type": "stream",
     "text": [
      "C:\\Users\\Cam\\AppData\\Local\\Temp\\ipykernel_15116\\37784693.py:2: SettingWithCopyWarning: \n",
      "A value is trying to be set on a copy of a slice from a DataFrame.\n",
      "Try using .loc[row_indexer,col_indexer] = value instead\n",
      "\n",
      "See the caveats in the documentation: https://pandas.pydata.org/pandas-docs/stable/user_guide/indexing.html#returning-a-view-versus-a-copy\n",
      "  questions_only['final_pred'] = questions_only['question_pred'] - questions_only['answered_question_pred']\n"
     ]
    }
   ],
   "source": [
    "# Calculate difference of question and answered to get final prediction\n",
    "questions_only['final_pred'] = questions_only['question_pred'] - questions_only['answered_question_pred']"
   ],
   "metadata": {
    "collapsed": false,
    "ExecuteTime": {
     "end_time": "2024-04-19T00:17:00.966712200Z",
     "start_time": "2024-04-19T00:17:00.924787300Z"
    }
   },
   "id": "31ce95b3a2e470b7"
  },
  {
   "cell_type": "code",
   "execution_count": 83,
   "outputs": [],
   "source": [
    "# Drop User column\n",
    "df.drop(columns=['user'], inplace=True)"
   ],
   "metadata": {
    "collapsed": false,
    "ExecuteTime": {
     "end_time": "2024-04-19T00:18:53.255559300Z",
     "start_time": "2024-04-19T00:18:53.240522500Z"
    }
   },
   "id": "127309de8371c1b0"
  },
  {
   "cell_type": "code",
   "execution_count": 84,
   "outputs": [
    {
     "data": {
      "text/plain": "                                                  text  Question  Answer\n0                            seems exactly what I want       0.0     0.0\n1    for larger things I use a scratch file or pych...       0.0     0.0\n2      was about to say pycharm has an ipython console       0.0     0.0\n3    I use this normally because I don't want to la...       0.0     0.0\n4    for stuff like showing a get request in a help...       0.0     0.0\n..                                                 ...       ...     ...\n195  I am looking for an text/code editor where cop...       0.0     0.0\n196  with C/C++ Emacs was fine with python I am get...       0.0     0.0\n197  yeah i have no clue about emacs but if your lo...       0.0     0.0\n198  I also believe you can set up emacs to be smoo...       0.0     0.0\n199                 ok let me get with Atom and VScode       0.0     0.0\n\n[200 rows x 3 columns]",
      "text/html": "<div>\n<style scoped>\n    .dataframe tbody tr th:only-of-type {\n        vertical-align: middle;\n    }\n\n    .dataframe tbody tr th {\n        vertical-align: top;\n    }\n\n    .dataframe thead th {\n        text-align: right;\n    }\n</style>\n<table border=\"1\" class=\"dataframe\">\n  <thead>\n    <tr style=\"text-align: right;\">\n      <th></th>\n      <th>text</th>\n      <th>Question</th>\n      <th>Answer</th>\n    </tr>\n  </thead>\n  <tbody>\n    <tr>\n      <th>0</th>\n      <td>seems exactly what I want</td>\n      <td>0.0</td>\n      <td>0.0</td>\n    </tr>\n    <tr>\n      <th>1</th>\n      <td>for larger things I use a scratch file or pych...</td>\n      <td>0.0</td>\n      <td>0.0</td>\n    </tr>\n    <tr>\n      <th>2</th>\n      <td>was about to say pycharm has an ipython console</td>\n      <td>0.0</td>\n      <td>0.0</td>\n    </tr>\n    <tr>\n      <th>3</th>\n      <td>I use this normally because I don't want to la...</td>\n      <td>0.0</td>\n      <td>0.0</td>\n    </tr>\n    <tr>\n      <th>4</th>\n      <td>for stuff like showing a get request in a help...</td>\n      <td>0.0</td>\n      <td>0.0</td>\n    </tr>\n    <tr>\n      <th>...</th>\n      <td>...</td>\n      <td>...</td>\n      <td>...</td>\n    </tr>\n    <tr>\n      <th>195</th>\n      <td>I am looking for an text/code editor where cop...</td>\n      <td>0.0</td>\n      <td>0.0</td>\n    </tr>\n    <tr>\n      <th>196</th>\n      <td>with C/C++ Emacs was fine with python I am get...</td>\n      <td>0.0</td>\n      <td>0.0</td>\n    </tr>\n    <tr>\n      <th>197</th>\n      <td>yeah i have no clue about emacs but if your lo...</td>\n      <td>0.0</td>\n      <td>0.0</td>\n    </tr>\n    <tr>\n      <th>198</th>\n      <td>I also believe you can set up emacs to be smoo...</td>\n      <td>0.0</td>\n      <td>0.0</td>\n    </tr>\n    <tr>\n      <th>199</th>\n      <td>ok let me get with Atom and VScode</td>\n      <td>0.0</td>\n      <td>0.0</td>\n    </tr>\n  </tbody>\n</table>\n<p>200 rows × 3 columns</p>\n</div>"
     },
     "execution_count": 84,
     "metadata": {},
     "output_type": "execute_result"
    }
   ],
   "source": [
    "df"
   ],
   "metadata": {
    "collapsed": false,
    "ExecuteTime": {
     "end_time": "2024-04-19T00:19:12.520267500Z",
     "start_time": "2024-04-19T00:19:12.487627500Z"
    }
   },
   "id": "c866eca0df348b26"
  },
  {
   "cell_type": "code",
   "execution_count": 87,
   "outputs": [],
   "source": [
    "# Copy question predictions to main dataframe\n",
    "df['question_predicted'] = test_df['question']"
   ],
   "metadata": {
    "collapsed": false,
    "ExecuteTime": {
     "end_time": "2024-04-19T00:20:33.152754800Z",
     "start_time": "2024-04-19T00:20:33.124215900Z"
    }
   },
   "id": "6d8182880048c856"
  },
  {
   "cell_type": "code",
   "execution_count": 91,
   "outputs": [],
   "source": [
    "# Reset index in place to generate r_index column\n",
    "df.reset_index(inplace=True)"
   ],
   "metadata": {
    "collapsed": false,
    "ExecuteTime": {
     "end_time": "2024-04-19T00:25:12.036473500Z",
     "start_time": "2024-04-19T00:25:12.017722900Z"
    }
   },
   "id": "99e8120f90e676fb"
  },
  {
   "cell_type": "code",
   "execution_count": 96,
   "outputs": [],
   "source": [
    "# Initialize answered predictions to 0\n",
    "df['answered_question_pred'] = 0"
   ],
   "metadata": {
    "collapsed": false,
    "ExecuteTime": {
     "end_time": "2024-04-19T00:28:06.908420500Z",
     "start_time": "2024-04-19T00:28:06.887601Z"
    }
   },
   "id": "96e9c6d8cadebab"
  },
  {
   "cell_type": "code",
   "execution_count": 100,
   "outputs": [],
   "source": [
    "# Impute answer predicitons from questions only\n",
    "for index_1, row in questions_only.iterrows():\n",
    "    df.at[int(row['r_index']), 'answered_question_pred'] = row['answered_question_pred']"
   ],
   "metadata": {
    "collapsed": false,
    "ExecuteTime": {
     "end_time": "2024-04-19T00:30:58.317513100Z",
     "start_time": "2024-04-19T00:30:58.304696300Z"
    }
   },
   "id": "5db0c8e9002302bc"
  },
  {
   "cell_type": "code",
   "execution_count": 106,
   "outputs": [],
   "source": [
    "# Initialize final preds to 0\n",
    "df['final_pred'] = 0"
   ],
   "metadata": {
    "collapsed": false,
    "ExecuteTime": {
     "end_time": "2024-04-19T00:32:54.465184Z",
     "start_time": "2024-04-19T00:32:54.449937100Z"
    }
   },
   "id": "6b988c17842a0a8d"
  },
  {
   "cell_type": "code",
   "execution_count": 107,
   "outputs": [],
   "source": [
    "# Impute final predictions into main df from questions only\n",
    "for index_1, row in questions_only.iterrows():\n",
    "    df.at[int(row['r_index']), 'final_pred'] = row['final_pred']"
   ],
   "metadata": {
    "collapsed": false,
    "ExecuteTime": {
     "end_time": "2024-04-19T00:32:55.085592700Z",
     "start_time": "2024-04-19T00:32:55.070539Z"
    }
   },
   "id": "563c622098b57d1a"
  },
  {
   "cell_type": "code",
   "execution_count": 108,
   "outputs": [
    {
     "data": {
      "text/plain": "count    200.000000\nmean       0.085000\nstd        0.279582\nmin        0.000000\n25%        0.000000\n50%        0.000000\n75%        0.000000\nmax        1.000000\nName: final_pred, dtype: float64"
     },
     "execution_count": 108,
     "metadata": {},
     "output_type": "execute_result"
    }
   ],
   "source": [
    "df['final_pred'].describe()"
   ],
   "metadata": {
    "collapsed": false,
    "ExecuteTime": {
     "end_time": "2024-04-19T00:32:55.963321400Z",
     "start_time": "2024-04-19T00:32:55.945166600Z"
    }
   },
   "id": "70220ad035b2b04"
  },
  {
   "cell_type": "code",
   "execution_count": 111,
   "outputs": [],
   "source": [
    "# calculate actual final results\n",
    "df['final_actual'] = df.apply(lambda row: max(row['Question'] - row['Answer'], 0), axis=1)"
   ],
   "metadata": {
    "collapsed": false,
    "ExecuteTime": {
     "end_time": "2024-04-19T00:34:36.614654700Z",
     "start_time": "2024-04-19T00:34:36.596549300Z"
    }
   },
   "id": "b5832a3600ee7f06"
  },
  {
   "cell_type": "code",
   "execution_count": 113,
   "outputs": [
    {
     "name": "stdout",
     "output_type": "stream",
     "text": [
      "Identification of Questions in test corpus\n",
      "Accuracy: 0.84\n",
      "Classification Report:\n",
      "               precision    recall  f1-score   support\n",
      "\n",
      "         0.0       0.90      0.92      0.91       174\n",
      "         1.0       0.36      0.31      0.33        26\n",
      "\n",
      "    accuracy                           0.84       200\n",
      "   macro avg       0.63      0.61      0.62       200\n",
      "weighted avg       0.83      0.84      0.83       200\n"
     ]
    }
   ],
   "source": [
    "# Question Identification on test corpus classification report\n",
    "from sklearn.metrics import accuracy_score, classification_report\n",
    "\n",
    "# Evaluation\n",
    "print(\"Identification of Questions in test corpus\")\n",
    "print(\"Accuracy:\", accuracy_score(df['Question'], df['question_predicted']))\n",
    "print(\"Classification Report:\\n\", classification_report(df['Question'], df['question_predicted']))"
   ],
   "metadata": {
    "collapsed": false,
    "ExecuteTime": {
     "end_time": "2024-04-19T00:36:39.501775800Z",
     "start_time": "2024-04-19T00:36:39.470197900Z"
    }
   },
   "id": "ae8220918d1336be"
  },
  {
   "cell_type": "code",
   "execution_count": 127,
   "outputs": [
    {
     "name": "stdout",
     "output_type": "stream",
     "text": [
      "Identification of Questions in test corpus\n",
      "Accuracy: 0.7272727272727273\n",
      "Classification Report:\n",
      "               precision    recall  f1-score   support\n",
      "\n",
      "         0.0       0.82      0.82      0.82        17\n",
      "         1.0       0.40      0.40      0.40         5\n",
      "\n",
      "    accuracy                           0.73        22\n",
      "   macro avg       0.61      0.61      0.61        22\n",
      "weighted avg       0.73      0.73      0.73        22\n"
     ]
    }
   ],
   "source": [
    "# Prediction of an Answer Given the prediction of an answer vs actual answers\n",
    "print(\"Identification of Questions in test corpus\")\n",
    "print(\"Accuracy:\", accuracy_score(df[df['question_predicted'] == 1]['Answer'], df[df['question_predicted'] == 1]['answered_question_pred']))\n",
    "print(\"Classification Report:\\n\", classification_report(df[df['question_predicted'] == 1]['Answer'], df[df['question_predicted'] == 1]['answered_question_pred']))"
   ],
   "metadata": {
    "collapsed": false,
    "ExecuteTime": {
     "end_time": "2024-04-19T01:39:24.610008900Z",
     "start_time": "2024-04-19T01:39:24.583697300Z"
    }
   },
   "id": "bdf5efb7db4ba613"
  },
  {
   "cell_type": "code",
   "execution_count": 115,
   "outputs": [
    {
     "data": {
      "text/plain": "Index(['index', 'text', 'Question', 'Answer', 'question_predicted',\n       'answered_question_pred', 'final_pred', 'final_actual'],\n      dtype='object')"
     },
     "execution_count": 115,
     "metadata": {},
     "output_type": "execute_result"
    }
   ],
   "source": [
    "df.columns"
   ],
   "metadata": {
    "collapsed": false,
    "ExecuteTime": {
     "end_time": "2024-04-19T00:38:48.059313100Z",
     "start_time": "2024-04-19T00:38:48.026702100Z"
    }
   },
   "id": "2bd9360325373287"
  },
  {
   "cell_type": "code",
   "execution_count": 116,
   "outputs": [
    {
     "name": "stdout",
     "output_type": "stream",
     "text": [
      "Final Report of predicted unanswered questions\n",
      "Accuracy: 0.89\n",
      "Classification Report:\n",
      "               precision    recall  f1-score   support\n",
      "\n",
      "         0.0       0.96      0.93      0.94       189\n",
      "         1.0       0.18      0.27      0.21        11\n",
      "\n",
      "    accuracy                           0.89       200\n",
      "   macro avg       0.57      0.60      0.58       200\n",
      "weighted avg       0.91      0.89      0.90       200\n"
     ]
    }
   ],
   "source": [
    "# Prediction of an Answer Given the prediction of an answer vs actual answers\n",
    "print(\"Final Report of predicted unanswered questions\")\n",
    "print(\"Accuracy:\", accuracy_score(df['final_actual'], df['final_pred']))\n",
    "print(\"Classification Report:\\n\", classification_report(df['final_actual'], df['final_pred']))"
   ],
   "metadata": {
    "collapsed": false,
    "ExecuteTime": {
     "end_time": "2024-04-19T00:39:10.809274300Z",
     "start_time": "2024-04-19T00:39:10.774151200Z"
    }
   },
   "id": "2be4f6998d7388e8"
  },
  {
   "cell_type": "code",
   "execution_count": 118,
   "outputs": [
    {
     "data": {
      "text/plain": "17"
     },
     "execution_count": 118,
     "metadata": {},
     "output_type": "execute_result"
    }
   ],
   "source": [
    "# Total Positive predictions\n",
    "df['final_pred'].sum()"
   ],
   "metadata": {
    "collapsed": false,
    "ExecuteTime": {
     "end_time": "2024-04-19T00:41:13.528580500Z",
     "start_time": "2024-04-19T00:41:13.509511300Z"
    }
   },
   "id": "62d55f9a96e664ca"
  },
  {
   "cell_type": "code",
   "execution_count": 119,
   "outputs": [
    {
     "data": {
      "text/plain": "11.0"
     },
     "execution_count": 119,
     "metadata": {},
     "output_type": "execute_result"
    }
   ],
   "source": [
    "# Total positive cases\n",
    "df['final_actual'].sum()"
   ],
   "metadata": {
    "collapsed": false,
    "ExecuteTime": {
     "end_time": "2024-04-19T00:41:41.009631900Z",
     "start_time": "2024-04-19T00:41:40.959196900Z"
    }
   },
   "id": "9c268791bc694de4"
  },
  {
   "cell_type": "code",
   "execution_count": 125,
   "outputs": [
    {
     "data": {
      "text/plain": "     index                                               text  Question  \\\n24      24                             What was meant by that       1.0   \n57      57                                       What library       1.0   \n120    120  or I should throw an exception telling the tha...       1.0   \n\n     Answer  question_predicted  answered_question_pred  final_pred  \\\n24      0.0                   1                       0           1   \n57      0.0                   1                       0           1   \n120     0.0                   1                       0           1   \n\n     final_actual  \n24            1.0  \n57            1.0  \n120           1.0  ",
      "text/html": "<div>\n<style scoped>\n    .dataframe tbody tr th:only-of-type {\n        vertical-align: middle;\n    }\n\n    .dataframe tbody tr th {\n        vertical-align: top;\n    }\n\n    .dataframe thead th {\n        text-align: right;\n    }\n</style>\n<table border=\"1\" class=\"dataframe\">\n  <thead>\n    <tr style=\"text-align: right;\">\n      <th></th>\n      <th>index</th>\n      <th>text</th>\n      <th>Question</th>\n      <th>Answer</th>\n      <th>question_predicted</th>\n      <th>answered_question_pred</th>\n      <th>final_pred</th>\n      <th>final_actual</th>\n    </tr>\n  </thead>\n  <tbody>\n    <tr>\n      <th>24</th>\n      <td>24</td>\n      <td>What was meant by that</td>\n      <td>1.0</td>\n      <td>0.0</td>\n      <td>1</td>\n      <td>0</td>\n      <td>1</td>\n      <td>1.0</td>\n    </tr>\n    <tr>\n      <th>57</th>\n      <td>57</td>\n      <td>What library</td>\n      <td>1.0</td>\n      <td>0.0</td>\n      <td>1</td>\n      <td>0</td>\n      <td>1</td>\n      <td>1.0</td>\n    </tr>\n    <tr>\n      <th>120</th>\n      <td>120</td>\n      <td>or I should throw an exception telling the tha...</td>\n      <td>1.0</td>\n      <td>0.0</td>\n      <td>1</td>\n      <td>0</td>\n      <td>1</td>\n      <td>1.0</td>\n    </tr>\n  </tbody>\n</table>\n</div>"
     },
     "execution_count": 125,
     "metadata": {},
     "output_type": "execute_result"
    }
   ],
   "source": [
    "# Filter and display correct positive predictions\n",
    "correct_positive_preds= df[df['final_pred'] == 1]\n",
    "correct_positive_preds= correct_positive_preds[correct_positive_preds['final_actual'] == 1]\n",
    "correct_positive_preds"
   ],
   "metadata": {
    "collapsed": false,
    "ExecuteTime": {
     "end_time": "2024-04-19T00:45:12.856521800Z",
     "start_time": "2024-04-19T00:45:12.818015300Z"
    }
   },
   "id": "b21fc07a5ebd89"
  },
  {
   "cell_type": "code",
   "execution_count": null,
   "outputs": [],
   "source": [],
   "metadata": {
    "collapsed": false
   },
   "id": "3656c63df3456a66"
  }
 ],
 "metadata": {
  "kernelspec": {
   "display_name": "Python 3",
   "language": "python",
   "name": "python3"
  },
  "language_info": {
   "codemirror_mode": {
    "name": "ipython",
    "version": 2
   },
   "file_extension": ".py",
   "mimetype": "text/x-python",
   "name": "python",
   "nbconvert_exporter": "python",
   "pygments_lexer": "ipython2",
   "version": "2.7.6"
  }
 },
 "nbformat": 4,
 "nbformat_minor": 5
}
