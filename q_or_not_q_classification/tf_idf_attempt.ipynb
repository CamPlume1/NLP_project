{
 "cells": [
  {
   "cell_type": "code",
   "execution_count": 28,
   "outputs": [],
   "source": [
    "# Read in previously generated data\n",
    "def retrieve_subframes():\n",
    "    '''\n",
    "    Gets partitioned dataframes from source\n",
    "    :return: list of dataframes\n",
    "    '''\n",
    "    subframes = []\n",
    "    for i in range(0, 8):\n",
    "        subframes.append(pd.read_csv('../data_inspection/generated_and_cleaned/it_' + str(i) + '.csv'))\n",
    "    return subframes"
   ],
   "metadata": {
    "collapsed": false,
    "ExecuteTime": {
     "end_time": "2024-04-18T23:57:56.712022Z",
     "start_time": "2024-04-18T23:57:56.364821900Z"
    }
   },
   "id": "d28c1f6bf813abb3"
  },
  {
   "cell_type": "code",
   "execution_count": 29,
   "outputs": [],
   "source": [
    "def drop_unnamed(subframes):\n",
    "    for df in subframes:\n",
    "        if 'Unnamed: 0' in df.columns:\n",
    "            df.drop(columns=['Unnamed: 0'], inplace=True)\n",
    "    return subframes"
   ],
   "metadata": {
    "collapsed": false,
    "ExecuteTime": {
     "end_time": "2024-04-18T23:57:56.715035Z",
     "start_time": "2024-04-18T23:57:56.391883500Z"
    }
   },
   "id": "776ec491479ef6ee"
  },
  {
   "cell_type": "code",
   "execution_count": 30,
   "outputs": [],
   "source": [
    "def create_all_sentence_set(merged_df):\n",
    "    df = pd.DataFrame()\n",
    "    df['text'] = pd.concat([merged_df['question'], merged_df['answers']], ignore_index=True)\n",
    "\n",
    "    # Add 'is_question' column\n",
    "    df['is_question'] = [1] * len(merged_df['question']) + [0] * len(merged_df['answers'])\n",
    "    return df"
   ],
   "metadata": {
    "collapsed": false,
    "ExecuteTime": {
     "end_time": "2024-04-18T23:57:56.716032900Z",
     "start_time": "2024-04-18T23:57:56.402771500Z"
    }
   },
   "id": "f205ea403284ede4"
  },
  {
   "cell_type": "code",
   "execution_count": 31,
   "outputs": [],
   "source": [
    "from nltk import word_tokenize\n",
    "## Stemmer\n",
    "# Tokenization and stemming\n",
    "from nltk.stem import PorterStemmer\n",
    "\n",
    "stemmer = PorterStemmer()\n",
    "\n",
    "\n",
    "def tokenize_and_stem(text):\n",
    "    tokens = word_tokenize(text)\n",
    "    stemmed_tokens = [stemmer.stem(token) for token in tokens]\n",
    "    return stemmed_tokens"
   ],
   "metadata": {
    "collapsed": false,
    "ExecuteTime": {
     "end_time": "2024-04-18T23:57:56.716032900Z",
     "start_time": "2024-04-18T23:57:56.431834800Z"
    }
   },
   "id": "490015a272cbac84"
  },
  {
   "cell_type": "code",
   "execution_count": 32,
   "outputs": [],
   "source": [
    "from sklearn.model_selection import train_test_split\n",
    "\n",
    "\n",
    "def get_train_test(df):\n",
    "    # reset index, create train + Test splits\n",
    "    df.reset_index(drop=True, inplace=True)\n",
    "    return train_test_split(df['text'], df['is_question'], test_size=0.2, random_state=7)"
   ],
   "metadata": {
    "collapsed": false,
    "ExecuteTime": {
     "end_time": "2024-04-18T23:57:56.716032900Z",
     "start_time": "2024-04-18T23:57:56.451938300Z"
    }
   },
   "id": "8ee85b82f59d407c"
  },
  {
   "cell_type": "code",
   "execution_count": 33,
   "outputs": [],
   "source": [
    "def halve_df(a_df):\n",
    "    midpoint = len(a_df) // 2\n",
    "    subframes = [a_df.iloc[i * midpoint: (i + 1) * midpoint] for i in range(2)]\n",
    "    return subframes"
   ],
   "metadata": {
    "collapsed": false,
    "ExecuteTime": {
     "end_time": "2024-04-18T23:57:56.716032900Z",
     "start_time": "2024-04-18T23:57:56.465488200Z"
    }
   },
   "id": "ee68a7ff98756ff6"
  },
  {
   "cell_type": "code",
   "execution_count": 34,
   "outputs": [],
   "source": [
    "def offest_df(incorrect):\n",
    "    # Get last value\n",
    "    final_val = incorrect['answers'].iloc[-1]\n",
    "    print(final_val)\n",
    "\n",
    "    # Shift values in the 'y' column down by one row\n",
    "    incorrect['answers'] = incorrect['answers'].shift(1)\n",
    "\n",
    "    # Replace the last value of 'y' at position 0\n",
    "    incorrect.iloc[0, incorrect.columns.get_loc('answers')] = final_val\n",
    "    return incorrect"
   ],
   "metadata": {
    "collapsed": false,
    "ExecuteTime": {
     "end_time": "2024-04-18T23:57:56.716032900Z",
     "start_time": "2024-04-18T23:57:56.508467Z"
    }
   },
   "id": "4a0df0a64289390a"
  },
  {
   "cell_type": "code",
   "execution_count": 35,
   "outputs": [],
   "source": [
    "def create_corpus(correct, incorrect):\n",
    "    corpus = pd.DataFrame()\n",
    "    corpus['text'] = pd.concat([correct['question'], correct['answers'], incorrect['question'], incorrect['answers']],\n",
    "                               ignore_index=True)\n",
    "    corpus.reset_index(drop=True, inplace=True)\n",
    "    return corpus"
   ],
   "metadata": {
    "collapsed": false,
    "ExecuteTime": {
     "end_time": "2024-04-18T23:57:56.716032900Z",
     "start_time": "2024-04-18T23:57:56.515004600Z"
    }
   },
   "id": "15e6f02b3fe54f86"
  },
  {
   "cell_type": "code",
   "execution_count": 36,
   "outputs": [],
   "source": [
    "def find_reference_index(str_val, corpus):\n",
    "    for index, row in corpus.iterrows():\n",
    "        if row['text'] == str_val:\n",
    "            return index\n",
    "    return -1"
   ],
   "metadata": {
    "collapsed": false,
    "ExecuteTime": {
     "end_time": "2024-04-18T23:57:56.716032900Z",
     "start_time": "2024-04-18T23:57:56.557141900Z"
    }
   },
   "id": "eb6c654ff41d9868"
  },
  {
   "cell_type": "code",
   "execution_count": 37,
   "outputs": [],
   "source": [
    "def calculate_cosign_similarity(index_a, index_b, sim_matrix):\n",
    "    return sim_matrix[index_a, index_b]"
   ],
   "metadata": {
    "collapsed": false,
    "ExecuteTime": {
     "end_time": "2024-04-18T23:57:56.716032900Z",
     "start_time": "2024-04-18T23:57:56.560139600Z"
    }
   },
   "id": "fd2da3483939eed0"
  },
  {
   "cell_type": "code",
   "execution_count": 38,
   "id": "initial_id",
   "metadata": {
    "collapsed": true,
    "ExecuteTime": {
     "end_time": "2024-04-18T23:57:56.716032900Z",
     "start_time": "2024-04-18T23:57:56.576745300Z"
    }
   },
   "outputs": [],
   "source": [
    "import pandas as pd"
   ]
  },
  {
   "cell_type": "markdown",
   "source": [
    "# Data Acquisition"
   ],
   "metadata": {
    "collapsed": false
   },
   "id": "a61f7cd2130dc6ad"
  },
  {
   "cell_type": "code",
   "execution_count": 39,
   "outputs": [
    {
     "name": "stdout",
     "output_type": "stream",
     "text": [
      "500\n",
      "500\n",
      "500\n",
      "500\n",
      "500\n",
      "500\n",
      "500\n",
      "500\n"
     ]
    }
   ],
   "source": [
    "# Validate subframe lengths\n",
    "subframes = retrieve_subframes()\n",
    "for df in subframes:\n",
    "    print(len(df))"
   ],
   "metadata": {
    "collapsed": false,
    "ExecuteTime": {
     "end_time": "2024-04-18T23:57:56.724562800Z",
     "start_time": "2024-04-18T23:57:56.619426600Z"
    }
   },
   "id": "754abc87f6520504"
  },
  {
   "cell_type": "code",
   "execution_count": 40,
   "outputs": [],
   "source": [
    "# For each of these dataframes, drop the 'Unnamed: 0' column if it exists\n",
    "# Drop the 'Unnamed: 0' column if it exists\n",
    "subframes = drop_unnamed(subframes)"
   ],
   "metadata": {
    "collapsed": false,
    "ExecuteTime": {
     "end_time": "2024-04-18T23:57:56.724562800Z",
     "start_time": "2024-04-18T23:57:56.685042600Z"
    }
   },
   "id": "1eef3a86cc862aaa"
  },
  {
   "cell_type": "code",
   "execution_count": 41,
   "outputs": [
    {
     "data": {
      "text/plain": "8"
     },
     "execution_count": 41,
     "metadata": {},
     "output_type": "execute_result"
    }
   ],
   "source": [
    "# Validate\n",
    "len(subframes)"
   ],
   "metadata": {
    "collapsed": false,
    "ExecuteTime": {
     "end_time": "2024-04-18T23:57:56.744308900Z",
     "start_time": "2024-04-18T23:57:56.701486Z"
    }
   },
   "id": "5300ae185c3fc3a4"
  },
  {
   "cell_type": "code",
   "execution_count": 42,
   "outputs": [],
   "source": [
    "# Concatenate all DataFrames vertically -> Defined behvior\n",
    "merged_df = pd.concat(subframes, ignore_index=True)"
   ],
   "metadata": {
    "collapsed": false,
    "ExecuteTime": {
     "end_time": "2024-04-18T23:57:56.791748300Z",
     "start_time": "2024-04-18T23:57:56.717033100Z"
    }
   },
   "id": "7572face87ab4aa0"
  },
  {
   "cell_type": "code",
   "execution_count": 43,
   "outputs": [
    {
     "data": {
      "text/plain": "                                               question  \\\n0     who was the trump ocean club international hot...   \n1                          where was sasha vujačić born   \n2      what is a region that dead combo was released in   \n3      what is a film directed by wiebke von carolsfeld   \n4     what country was music for stock exchange  rel...   \n...                                                 ...   \n3995                 what horror films came out in 2002   \n3996       what language is with the angels composed in   \n3997  what is the release typ eof the album get in t...   \n3998          what is a commune in the country of italy   \n3999                        where was fred johnson born   \n\n                                                answers  \n0     the trump ocean club international hotel and t...  \n1            sasha vujačić was born in maribor slovenia  \n2                   dead combo was released in portugal  \n3                                         marion bridge  \n4                                     the united states  \n...                                                 ...  \n3995  the ring and 28 days later were popular horror...  \n3996  the language of the angels is composed in cele...  \n3997  the release type of the album get in the ring ...  \n3998  a commune in italy is a basic local administra...  \n3999             fred johnson was born in houston texas  \n\n[4000 rows x 2 columns]",
      "text/html": "<div>\n<style scoped>\n    .dataframe tbody tr th:only-of-type {\n        vertical-align: middle;\n    }\n\n    .dataframe tbody tr th {\n        vertical-align: top;\n    }\n\n    .dataframe thead th {\n        text-align: right;\n    }\n</style>\n<table border=\"1\" class=\"dataframe\">\n  <thead>\n    <tr style=\"text-align: right;\">\n      <th></th>\n      <th>question</th>\n      <th>answers</th>\n    </tr>\n  </thead>\n  <tbody>\n    <tr>\n      <th>0</th>\n      <td>who was the trump ocean club international hot...</td>\n      <td>the trump ocean club international hotel and t...</td>\n    </tr>\n    <tr>\n      <th>1</th>\n      <td>where was sasha vujačić born</td>\n      <td>sasha vujačić was born in maribor slovenia</td>\n    </tr>\n    <tr>\n      <th>2</th>\n      <td>what is a region that dead combo was released in</td>\n      <td>dead combo was released in portugal</td>\n    </tr>\n    <tr>\n      <th>3</th>\n      <td>what is a film directed by wiebke von carolsfeld</td>\n      <td>marion bridge</td>\n    </tr>\n    <tr>\n      <th>4</th>\n      <td>what country was music for stock exchange  rel...</td>\n      <td>the united states</td>\n    </tr>\n    <tr>\n      <th>...</th>\n      <td>...</td>\n      <td>...</td>\n    </tr>\n    <tr>\n      <th>3995</th>\n      <td>what horror films came out in 2002</td>\n      <td>the ring and 28 days later were popular horror...</td>\n    </tr>\n    <tr>\n      <th>3996</th>\n      <td>what language is with the angels composed in</td>\n      <td>the language of the angels is composed in cele...</td>\n    </tr>\n    <tr>\n      <th>3997</th>\n      <td>what is the release typ eof the album get in t...</td>\n      <td>the release type of the album get in the ring ...</td>\n    </tr>\n    <tr>\n      <th>3998</th>\n      <td>what is a commune in the country of italy</td>\n      <td>a commune in italy is a basic local administra...</td>\n    </tr>\n    <tr>\n      <th>3999</th>\n      <td>where was fred johnson born</td>\n      <td>fred johnson was born in houston texas</td>\n    </tr>\n  </tbody>\n</table>\n<p>4000 rows × 2 columns</p>\n</div>"
     },
     "execution_count": 43,
     "metadata": {},
     "output_type": "execute_result"
    }
   ],
   "source": [
    "merged_df"
   ],
   "metadata": {
    "collapsed": false,
    "ExecuteTime": {
     "end_time": "2024-04-18T23:57:56.839077Z",
     "start_time": "2024-04-18T23:57:56.738766Z"
    }
   },
   "id": "94957cb8b5bd5bd7"
  },
  {
   "cell_type": "code",
   "execution_count": 44,
   "outputs": [],
   "source": [
    "# Create sentence set\n",
    "df = create_all_sentence_set(merged_df)"
   ],
   "metadata": {
    "collapsed": false,
    "ExecuteTime": {
     "end_time": "2024-04-18T23:57:56.854483800Z",
     "start_time": "2024-04-18T23:57:56.757837300Z"
    }
   },
   "id": "c9498af12454a19d"
  },
  {
   "cell_type": "code",
   "execution_count": 45,
   "outputs": [],
   "source": [
    "# Randomly Shuffle -> avoid adjacencies\n",
    "df = df.sample(frac=1, random_state=7)"
   ],
   "metadata": {
    "collapsed": false,
    "ExecuteTime": {
     "end_time": "2024-04-18T23:57:56.859478200Z",
     "start_time": "2024-04-18T23:57:56.779916500Z"
    }
   },
   "id": "185a9b4d51e35163"
  },
  {
   "cell_type": "code",
   "execution_count": 46,
   "outputs": [
    {
     "data": {
      "text/plain": "                                                   text  is_question\n3641        what is the legal structure of tellus leads            1\n5086                                   romeo and juliet            0\n1657                          who was born in krasnodar            1\n6842                               the greatest showman            0\n788           what tract is released by derek sherinian            1\n...                                                 ...          ...\n5699  the track list from the release titled lounge ...            0\n2550         what type of album is the album milestones            1\n537   what company published the game bejeweled 2 de...            1\n1220           what country is john viener a citizen of            1\n4271                                            friends            0\n\n[8000 rows x 2 columns]",
      "text/html": "<div>\n<style scoped>\n    .dataframe tbody tr th:only-of-type {\n        vertical-align: middle;\n    }\n\n    .dataframe tbody tr th {\n        vertical-align: top;\n    }\n\n    .dataframe thead th {\n        text-align: right;\n    }\n</style>\n<table border=\"1\" class=\"dataframe\">\n  <thead>\n    <tr style=\"text-align: right;\">\n      <th></th>\n      <th>text</th>\n      <th>is_question</th>\n    </tr>\n  </thead>\n  <tbody>\n    <tr>\n      <th>3641</th>\n      <td>what is the legal structure of tellus leads</td>\n      <td>1</td>\n    </tr>\n    <tr>\n      <th>5086</th>\n      <td>romeo and juliet</td>\n      <td>0</td>\n    </tr>\n    <tr>\n      <th>1657</th>\n      <td>who was born in krasnodar</td>\n      <td>1</td>\n    </tr>\n    <tr>\n      <th>6842</th>\n      <td>the greatest showman</td>\n      <td>0</td>\n    </tr>\n    <tr>\n      <th>788</th>\n      <td>what tract is released by derek sherinian</td>\n      <td>1</td>\n    </tr>\n    <tr>\n      <th>...</th>\n      <td>...</td>\n      <td>...</td>\n    </tr>\n    <tr>\n      <th>5699</th>\n      <td>the track list from the release titled lounge ...</td>\n      <td>0</td>\n    </tr>\n    <tr>\n      <th>2550</th>\n      <td>what type of album is the album milestones</td>\n      <td>1</td>\n    </tr>\n    <tr>\n      <th>537</th>\n      <td>what company published the game bejeweled 2 de...</td>\n      <td>1</td>\n    </tr>\n    <tr>\n      <th>1220</th>\n      <td>what country is john viener a citizen of</td>\n      <td>1</td>\n    </tr>\n    <tr>\n      <th>4271</th>\n      <td>friends</td>\n      <td>0</td>\n    </tr>\n  </tbody>\n</table>\n<p>8000 rows × 2 columns</p>\n</div>"
     },
     "execution_count": 46,
     "metadata": {},
     "output_type": "execute_result"
    }
   ],
   "source": [
    "# validate\n",
    "df"
   ],
   "metadata": {
    "collapsed": false,
    "ExecuteTime": {
     "end_time": "2024-04-18T23:57:56.861997900Z",
     "start_time": "2024-04-18T23:57:56.795279600Z"
    }
   },
   "id": "2c049f3cb1e5613f"
  },
  {
   "cell_type": "markdown",
   "source": [
    "# Begin TF-IDF Model"
   ],
   "metadata": {
    "collapsed": false
   },
   "id": "da65c5ead37fcdc4"
  },
  {
   "cell_type": "code",
   "execution_count": 47,
   "outputs": [],
   "source": [
    "from sklearn.feature_extraction.text import TfidfVectorizer\n",
    "# Create Vectorizer\n",
    "tfidf_vectorizer = TfidfVectorizer(tokenizer=tokenize_and_stem)"
   ],
   "metadata": {
    "collapsed": false,
    "ExecuteTime": {
     "end_time": "2024-04-18T23:57:56.869013700Z",
     "start_time": "2024-04-18T23:57:56.810837800Z"
    }
   },
   "id": "7eaf2191129cf699"
  },
  {
   "cell_type": "code",
   "execution_count": 48,
   "outputs": [],
   "source": [
    "# Get train and testing splits\n",
    "X_train, X_test, y_train, y_test = get_train_test(df)"
   ],
   "metadata": {
    "collapsed": false,
    "ExecuteTime": {
     "end_time": "2024-04-18T23:57:56.901828800Z",
     "start_time": "2024-04-18T23:57:56.826540Z"
    }
   },
   "id": "ce9b9f7541c1a3fe"
  },
  {
   "cell_type": "code",
   "execution_count": 49,
   "outputs": [
    {
     "data": {
      "text/plain": "6400"
     },
     "execution_count": 49,
     "metadata": {},
     "output_type": "execute_result"
    }
   ],
   "source": [
    "len(X_train)"
   ],
   "metadata": {
    "collapsed": false,
    "ExecuteTime": {
     "end_time": "2024-04-18T23:57:56.964818900Z",
     "start_time": "2024-04-18T23:57:56.858482500Z"
    }
   },
   "id": "89a0035b1fe598f0"
  },
  {
   "cell_type": "code",
   "execution_count": 50,
   "outputs": [
    {
     "data": {
      "text/plain": "1600"
     },
     "execution_count": 50,
     "metadata": {},
     "output_type": "execute_result"
    }
   ],
   "source": [
    "len(X_test)"
   ],
   "metadata": {
    "collapsed": false,
    "ExecuteTime": {
     "end_time": "2024-04-18T23:57:56.986871300Z",
     "start_time": "2024-04-18T23:57:56.874554600Z"
    }
   },
   "id": "daf1dce0e5aa2b80"
  },
  {
   "cell_type": "code",
   "execution_count": 51,
   "outputs": [
    {
     "name": "stderr",
     "output_type": "stream",
     "text": [
      "C:\\Users\\Cam\\PycharmProjects\\QARoute\\venv\\lib\\site-packages\\sklearn\\feature_extraction\\text.py:525: UserWarning: The parameter 'token_pattern' will not be used since 'tokenizer' is not None'\n",
      "  warnings.warn(\n"
     ]
    }
   ],
   "source": [
    "# Fit and transform on training data, transform test data\n",
    "X_train_tfidf = tfidf_vectorizer.fit_transform(X_train)\n",
    "X_test_tfidf = tfidf_vectorizer.transform(X_test)"
   ],
   "metadata": {
    "collapsed": false,
    "ExecuteTime": {
     "end_time": "2024-04-18T23:57:58.084880Z",
     "start_time": "2024-04-18T23:57:56.902744200Z"
    }
   },
   "id": "d56970969ec14259"
  },
  {
   "cell_type": "code",
   "execution_count": 52,
   "outputs": [],
   "source": [
    "from sklearn.linear_model import LogisticRegression\n",
    "\n",
    "# Init model\n",
    "lr_classifier = LogisticRegression()"
   ],
   "metadata": {
    "collapsed": false,
    "ExecuteTime": {
     "end_time": "2024-04-18T23:57:58.098779300Z",
     "start_time": "2024-04-18T23:57:58.086869400Z"
    }
   },
   "id": "f4ea2e71b042600"
  },
  {
   "cell_type": "code",
   "execution_count": 53,
   "outputs": [
    {
     "data": {
      "text/plain": "LogisticRegression()",
      "text/html": "<style>#sk-container-id-2 {\n  /* Definition of color scheme common for light and dark mode */\n  --sklearn-color-text: black;\n  --sklearn-color-line: gray;\n  /* Definition of color scheme for unfitted estimators */\n  --sklearn-color-unfitted-level-0: #fff5e6;\n  --sklearn-color-unfitted-level-1: #f6e4d2;\n  --sklearn-color-unfitted-level-2: #ffe0b3;\n  --sklearn-color-unfitted-level-3: chocolate;\n  /* Definition of color scheme for fitted estimators */\n  --sklearn-color-fitted-level-0: #f0f8ff;\n  --sklearn-color-fitted-level-1: #d4ebff;\n  --sklearn-color-fitted-level-2: #b3dbfd;\n  --sklearn-color-fitted-level-3: cornflowerblue;\n\n  /* Specific color for light theme */\n  --sklearn-color-text-on-default-background: var(--sg-text-color, var(--theme-code-foreground, var(--jp-content-font-color1, black)));\n  --sklearn-color-background: var(--sg-background-color, var(--theme-background, var(--jp-layout-color0, white)));\n  --sklearn-color-border-box: var(--sg-text-color, var(--theme-code-foreground, var(--jp-content-font-color1, black)));\n  --sklearn-color-icon: #696969;\n\n  @media (prefers-color-scheme: dark) {\n    /* Redefinition of color scheme for dark theme */\n    --sklearn-color-text-on-default-background: var(--sg-text-color, var(--theme-code-foreground, var(--jp-content-font-color1, white)));\n    --sklearn-color-background: var(--sg-background-color, var(--theme-background, var(--jp-layout-color0, #111)));\n    --sklearn-color-border-box: var(--sg-text-color, var(--theme-code-foreground, var(--jp-content-font-color1, white)));\n    --sklearn-color-icon: #878787;\n  }\n}\n\n#sk-container-id-2 {\n  color: var(--sklearn-color-text);\n}\n\n#sk-container-id-2 pre {\n  padding: 0;\n}\n\n#sk-container-id-2 input.sk-hidden--visually {\n  border: 0;\n  clip: rect(1px 1px 1px 1px);\n  clip: rect(1px, 1px, 1px, 1px);\n  height: 1px;\n  margin: -1px;\n  overflow: hidden;\n  padding: 0;\n  position: absolute;\n  width: 1px;\n}\n\n#sk-container-id-2 div.sk-dashed-wrapped {\n  border: 1px dashed var(--sklearn-color-line);\n  margin: 0 0.4em 0.5em 0.4em;\n  box-sizing: border-box;\n  padding-bottom: 0.4em;\n  background-color: var(--sklearn-color-background);\n}\n\n#sk-container-id-2 div.sk-container {\n  /* jupyter's `normalize.less` sets `[hidden] { display: none; }`\n     but bootstrap.min.css set `[hidden] { display: none !important; }`\n     so we also need the `!important` here to be able to override the\n     default hidden behavior on the sphinx rendered scikit-learn.org.\n     See: https://github.com/scikit-learn/scikit-learn/issues/21755 */\n  display: inline-block !important;\n  position: relative;\n}\n\n#sk-container-id-2 div.sk-text-repr-fallback {\n  display: none;\n}\n\ndiv.sk-parallel-item,\ndiv.sk-serial,\ndiv.sk-item {\n  /* draw centered vertical line to link estimators */\n  background-image: linear-gradient(var(--sklearn-color-text-on-default-background), var(--sklearn-color-text-on-default-background));\n  background-size: 2px 100%;\n  background-repeat: no-repeat;\n  background-position: center center;\n}\n\n/* Parallel-specific style estimator block */\n\n#sk-container-id-2 div.sk-parallel-item::after {\n  content: \"\";\n  width: 100%;\n  border-bottom: 2px solid var(--sklearn-color-text-on-default-background);\n  flex-grow: 1;\n}\n\n#sk-container-id-2 div.sk-parallel {\n  display: flex;\n  align-items: stretch;\n  justify-content: center;\n  background-color: var(--sklearn-color-background);\n  position: relative;\n}\n\n#sk-container-id-2 div.sk-parallel-item {\n  display: flex;\n  flex-direction: column;\n}\n\n#sk-container-id-2 div.sk-parallel-item:first-child::after {\n  align-self: flex-end;\n  width: 50%;\n}\n\n#sk-container-id-2 div.sk-parallel-item:last-child::after {\n  align-self: flex-start;\n  width: 50%;\n}\n\n#sk-container-id-2 div.sk-parallel-item:only-child::after {\n  width: 0;\n}\n\n/* Serial-specific style estimator block */\n\n#sk-container-id-2 div.sk-serial {\n  display: flex;\n  flex-direction: column;\n  align-items: center;\n  background-color: var(--sklearn-color-background);\n  padding-right: 1em;\n  padding-left: 1em;\n}\n\n\n/* Toggleable style: style used for estimator/Pipeline/ColumnTransformer box that is\nclickable and can be expanded/collapsed.\n- Pipeline and ColumnTransformer use this feature and define the default style\n- Estimators will overwrite some part of the style using the `sk-estimator` class\n*/\n\n/* Pipeline and ColumnTransformer style (default) */\n\n#sk-container-id-2 div.sk-toggleable {\n  /* Default theme specific background. It is overwritten whether we have a\n  specific estimator or a Pipeline/ColumnTransformer */\n  background-color: var(--sklearn-color-background);\n}\n\n/* Toggleable label */\n#sk-container-id-2 label.sk-toggleable__label {\n  cursor: pointer;\n  display: block;\n  width: 100%;\n  margin-bottom: 0;\n  padding: 0.5em;\n  box-sizing: border-box;\n  text-align: center;\n}\n\n#sk-container-id-2 label.sk-toggleable__label-arrow:before {\n  /* Arrow on the left of the label */\n  content: \"▸\";\n  float: left;\n  margin-right: 0.25em;\n  color: var(--sklearn-color-icon);\n}\n\n#sk-container-id-2 label.sk-toggleable__label-arrow:hover:before {\n  color: var(--sklearn-color-text);\n}\n\n/* Toggleable content - dropdown */\n\n#sk-container-id-2 div.sk-toggleable__content {\n  max-height: 0;\n  max-width: 0;\n  overflow: hidden;\n  text-align: left;\n  /* unfitted */\n  background-color: var(--sklearn-color-unfitted-level-0);\n}\n\n#sk-container-id-2 div.sk-toggleable__content.fitted {\n  /* fitted */\n  background-color: var(--sklearn-color-fitted-level-0);\n}\n\n#sk-container-id-2 div.sk-toggleable__content pre {\n  margin: 0.2em;\n  border-radius: 0.25em;\n  color: var(--sklearn-color-text);\n  /* unfitted */\n  background-color: var(--sklearn-color-unfitted-level-0);\n}\n\n#sk-container-id-2 div.sk-toggleable__content.fitted pre {\n  /* unfitted */\n  background-color: var(--sklearn-color-fitted-level-0);\n}\n\n#sk-container-id-2 input.sk-toggleable__control:checked~div.sk-toggleable__content {\n  /* Expand drop-down */\n  max-height: 200px;\n  max-width: 100%;\n  overflow: auto;\n}\n\n#sk-container-id-2 input.sk-toggleable__control:checked~label.sk-toggleable__label-arrow:before {\n  content: \"▾\";\n}\n\n/* Pipeline/ColumnTransformer-specific style */\n\n#sk-container-id-2 div.sk-label input.sk-toggleable__control:checked~label.sk-toggleable__label {\n  color: var(--sklearn-color-text);\n  background-color: var(--sklearn-color-unfitted-level-2);\n}\n\n#sk-container-id-2 div.sk-label.fitted input.sk-toggleable__control:checked~label.sk-toggleable__label {\n  background-color: var(--sklearn-color-fitted-level-2);\n}\n\n/* Estimator-specific style */\n\n/* Colorize estimator box */\n#sk-container-id-2 div.sk-estimator input.sk-toggleable__control:checked~label.sk-toggleable__label {\n  /* unfitted */\n  background-color: var(--sklearn-color-unfitted-level-2);\n}\n\n#sk-container-id-2 div.sk-estimator.fitted input.sk-toggleable__control:checked~label.sk-toggleable__label {\n  /* fitted */\n  background-color: var(--sklearn-color-fitted-level-2);\n}\n\n#sk-container-id-2 div.sk-label label.sk-toggleable__label,\n#sk-container-id-2 div.sk-label label {\n  /* The background is the default theme color */\n  color: var(--sklearn-color-text-on-default-background);\n}\n\n/* On hover, darken the color of the background */\n#sk-container-id-2 div.sk-label:hover label.sk-toggleable__label {\n  color: var(--sklearn-color-text);\n  background-color: var(--sklearn-color-unfitted-level-2);\n}\n\n/* Label box, darken color on hover, fitted */\n#sk-container-id-2 div.sk-label.fitted:hover label.sk-toggleable__label.fitted {\n  color: var(--sklearn-color-text);\n  background-color: var(--sklearn-color-fitted-level-2);\n}\n\n/* Estimator label */\n\n#sk-container-id-2 div.sk-label label {\n  font-family: monospace;\n  font-weight: bold;\n  display: inline-block;\n  line-height: 1.2em;\n}\n\n#sk-container-id-2 div.sk-label-container {\n  text-align: center;\n}\n\n/* Estimator-specific */\n#sk-container-id-2 div.sk-estimator {\n  font-family: monospace;\n  border: 1px dotted var(--sklearn-color-border-box);\n  border-radius: 0.25em;\n  box-sizing: border-box;\n  margin-bottom: 0.5em;\n  /* unfitted */\n  background-color: var(--sklearn-color-unfitted-level-0);\n}\n\n#sk-container-id-2 div.sk-estimator.fitted {\n  /* fitted */\n  background-color: var(--sklearn-color-fitted-level-0);\n}\n\n/* on hover */\n#sk-container-id-2 div.sk-estimator:hover {\n  /* unfitted */\n  background-color: var(--sklearn-color-unfitted-level-2);\n}\n\n#sk-container-id-2 div.sk-estimator.fitted:hover {\n  /* fitted */\n  background-color: var(--sklearn-color-fitted-level-2);\n}\n\n/* Specification for estimator info (e.g. \"i\" and \"?\") */\n\n/* Common style for \"i\" and \"?\" */\n\n.sk-estimator-doc-link,\na:link.sk-estimator-doc-link,\na:visited.sk-estimator-doc-link {\n  float: right;\n  font-size: smaller;\n  line-height: 1em;\n  font-family: monospace;\n  background-color: var(--sklearn-color-background);\n  border-radius: 1em;\n  height: 1em;\n  width: 1em;\n  text-decoration: none !important;\n  margin-left: 1ex;\n  /* unfitted */\n  border: var(--sklearn-color-unfitted-level-1) 1pt solid;\n  color: var(--sklearn-color-unfitted-level-1);\n}\n\n.sk-estimator-doc-link.fitted,\na:link.sk-estimator-doc-link.fitted,\na:visited.sk-estimator-doc-link.fitted {\n  /* fitted */\n  border: var(--sklearn-color-fitted-level-1) 1pt solid;\n  color: var(--sklearn-color-fitted-level-1);\n}\n\n/* On hover */\ndiv.sk-estimator:hover .sk-estimator-doc-link:hover,\n.sk-estimator-doc-link:hover,\ndiv.sk-label-container:hover .sk-estimator-doc-link:hover,\n.sk-estimator-doc-link:hover {\n  /* unfitted */\n  background-color: var(--sklearn-color-unfitted-level-3);\n  color: var(--sklearn-color-background);\n  text-decoration: none;\n}\n\ndiv.sk-estimator.fitted:hover .sk-estimator-doc-link.fitted:hover,\n.sk-estimator-doc-link.fitted:hover,\ndiv.sk-label-container:hover .sk-estimator-doc-link.fitted:hover,\n.sk-estimator-doc-link.fitted:hover {\n  /* fitted */\n  background-color: var(--sklearn-color-fitted-level-3);\n  color: var(--sklearn-color-background);\n  text-decoration: none;\n}\n\n/* Span, style for the box shown on hovering the info icon */\n.sk-estimator-doc-link span {\n  display: none;\n  z-index: 9999;\n  position: relative;\n  font-weight: normal;\n  right: .2ex;\n  padding: .5ex;\n  margin: .5ex;\n  width: min-content;\n  min-width: 20ex;\n  max-width: 50ex;\n  color: var(--sklearn-color-text);\n  box-shadow: 2pt 2pt 4pt #999;\n  /* unfitted */\n  background: var(--sklearn-color-unfitted-level-0);\n  border: .5pt solid var(--sklearn-color-unfitted-level-3);\n}\n\n.sk-estimator-doc-link.fitted span {\n  /* fitted */\n  background: var(--sklearn-color-fitted-level-0);\n  border: var(--sklearn-color-fitted-level-3);\n}\n\n.sk-estimator-doc-link:hover span {\n  display: block;\n}\n\n/* \"?\"-specific style due to the `<a>` HTML tag */\n\n#sk-container-id-2 a.estimator_doc_link {\n  float: right;\n  font-size: 1rem;\n  line-height: 1em;\n  font-family: monospace;\n  background-color: var(--sklearn-color-background);\n  border-radius: 1rem;\n  height: 1rem;\n  width: 1rem;\n  text-decoration: none;\n  /* unfitted */\n  color: var(--sklearn-color-unfitted-level-1);\n  border: var(--sklearn-color-unfitted-level-1) 1pt solid;\n}\n\n#sk-container-id-2 a.estimator_doc_link.fitted {\n  /* fitted */\n  border: var(--sklearn-color-fitted-level-1) 1pt solid;\n  color: var(--sklearn-color-fitted-level-1);\n}\n\n/* On hover */\n#sk-container-id-2 a.estimator_doc_link:hover {\n  /* unfitted */\n  background-color: var(--sklearn-color-unfitted-level-3);\n  color: var(--sklearn-color-background);\n  text-decoration: none;\n}\n\n#sk-container-id-2 a.estimator_doc_link.fitted:hover {\n  /* fitted */\n  background-color: var(--sklearn-color-fitted-level-3);\n}\n</style><div id=\"sk-container-id-2\" class=\"sk-top-container\"><div class=\"sk-text-repr-fallback\"><pre>LogisticRegression()</pre><b>In a Jupyter environment, please rerun this cell to show the HTML representation or trust the notebook. <br />On GitHub, the HTML representation is unable to render, please try loading this page with nbviewer.org.</b></div><div class=\"sk-container\" hidden><div class=\"sk-item\"><div class=\"sk-estimator fitted sk-toggleable\"><input class=\"sk-toggleable__control sk-hidden--visually\" id=\"sk-estimator-id-2\" type=\"checkbox\" checked><label for=\"sk-estimator-id-2\" class=\"sk-toggleable__label fitted sk-toggleable__label-arrow fitted\">&nbsp;&nbsp;LogisticRegression<a class=\"sk-estimator-doc-link fitted\" rel=\"noreferrer\" target=\"_blank\" href=\"https://scikit-learn.org/1.4/modules/generated/sklearn.linear_model.LogisticRegression.html\">?<span>Documentation for LogisticRegression</span></a><span class=\"sk-estimator-doc-link fitted\">i<span>Fitted</span></span></label><div class=\"sk-toggleable__content fitted\"><pre>LogisticRegression()</pre></div> </div></div></div></div>"
     },
     "execution_count": 53,
     "metadata": {},
     "output_type": "execute_result"
    }
   ],
   "source": [
    "# Train the model\n",
    "lr_classifier.fit(X_train_tfidf, y_train)"
   ],
   "metadata": {
    "collapsed": false,
    "ExecuteTime": {
     "end_time": "2024-04-18T23:57:58.148058900Z",
     "start_time": "2024-04-18T23:57:58.099771700Z"
    }
   },
   "id": "fc16ed2e4d8a2bcd"
  },
  {
   "cell_type": "code",
   "execution_count": 54,
   "outputs": [],
   "source": [
    "# Predictions\n",
    "y_pred_lr = lr_classifier.predict(X_test_tfidf)"
   ],
   "metadata": {
    "collapsed": false,
    "ExecuteTime": {
     "end_time": "2024-04-18T23:57:58.165097700Z",
     "start_time": "2024-04-18T23:57:58.148058900Z"
    }
   },
   "id": "5d87ee13b9c6435b"
  },
  {
   "cell_type": "code",
   "execution_count": 55,
   "outputs": [
    {
     "name": "stdout",
     "output_type": "stream",
     "text": [
      "TF-IDF + Logistic Regression Classifier with Tokenization and Stemming for Identifying Questions:\n",
      "Accuracy: 0.97875\n",
      "Classification Report:\n",
      "               precision    recall  f1-score   support\n",
      "\n",
      "           0       0.98      0.98      0.98       796\n",
      "           1       0.98      0.98      0.98       804\n",
      "\n",
      "    accuracy                           0.98      1600\n",
      "   macro avg       0.98      0.98      0.98      1600\n",
      "weighted avg       0.98      0.98      0.98      1600\n"
     ]
    }
   ],
   "source": [
    "from sklearn.metrics import accuracy_score, classification_report\n",
    "\n",
    "# Evaluation\n",
    "print(\"TF-IDF + Logistic Regression Classifier with Tokenization and Stemming for Identifying Questions:\")\n",
    "print(\"Accuracy:\", accuracy_score(y_test, y_pred_lr))\n",
    "print(\"Classification Report:\\n\", classification_report(y_test, y_pred_lr))"
   ],
   "metadata": {
    "collapsed": false,
    "ExecuteTime": {
     "end_time": "2024-04-18T23:57:58.186087600Z",
     "start_time": "2024-04-18T23:57:58.165097700Z"
    }
   },
   "id": "610038450c80fef3"
  },
  {
   "cell_type": "code",
   "execution_count": 56,
   "outputs": [
    {
     "name": "stdout",
     "output_type": "stream",
     "text": [
      "<class 'pandas.core.series.Series'>\n",
      "<class 'numpy.ndarray'>\n"
     ]
    }
   ],
   "source": [
    "print(type(y_test))\n",
    "print(type(y_pred_lr))"
   ],
   "metadata": {
    "collapsed": false,
    "ExecuteTime": {
     "end_time": "2024-04-18T23:57:58.202680300Z",
     "start_time": "2024-04-18T23:57:58.179620500Z"
    }
   },
   "id": "6cd28c8d3354a6ba"
  },
  {
   "cell_type": "markdown",
   "source": [
    "# Inspect Error Cases"
   ],
   "metadata": {
    "collapsed": false
   },
   "id": "3fb6c5c7b213f886"
  },
  {
   "cell_type": "code",
   "execution_count": 57,
   "outputs": [],
   "source": [
    "error_analysis_df = pd.DataFrame({'phrase': X_test, 'actual': y_test, 'predicted': y_pred_lr})"
   ],
   "metadata": {
    "collapsed": false,
    "ExecuteTime": {
     "end_time": "2024-04-18T23:57:58.239722200Z",
     "start_time": "2024-04-18T23:57:58.197598100Z"
    }
   },
   "id": "36667e304ae20614"
  },
  {
   "cell_type": "code",
   "execution_count": 58,
   "outputs": [],
   "source": [
    "errors = error_analysis_df[error_analysis_df['actual'] != error_analysis_df['predicted']]"
   ],
   "metadata": {
    "collapsed": false,
    "ExecuteTime": {
     "end_time": "2024-04-18T23:57:58.248254200Z",
     "start_time": "2024-04-18T23:57:58.212177800Z"
    }
   },
   "id": "5954805f1faef529"
  },
  {
   "cell_type": "code",
   "execution_count": 59,
   "outputs": [
    {
     "data": {
      "text/plain": "                                                 phrase  actual  predicted\n6339                  gridiron is a type of sports book       0          1\n6661  lebanon is in the eastern european time zone e...       0          1\n4539             the name of the song is the collection       0          1\n3582  one famous person who died from pneumonia was ...       0          1\n5980           westlifes studio album is named westlife       0          1\n799   now thats what i call music 18 was released in...       0          1\n8     the developer who designed asterix and the gre...       0          1\n6898                        now thats what i call music       0          1\n3547  people who are exposed to extremely high tempe...       0          1\n7321  meitner is named after the austrian physicist ...       0          1\n3835  one player who is in the rugby league is sonny...       0          1\n318   peters was born in koldenbüttel which is locat...       0          1\n1094       bob dylan is a musician who plays folk music       0          1\n3717  the costume designer for the film a modern her...       0          1\n7249  the featured song from evolution is girl named...       0          1\n3846  a person who follows veganism avoids consuming...       0          1\n760   the editor of the die softly reissue was inser...       0          1",
      "text/html": "<div>\n<style scoped>\n    .dataframe tbody tr th:only-of-type {\n        vertical-align: middle;\n    }\n\n    .dataframe tbody tr th {\n        vertical-align: top;\n    }\n\n    .dataframe thead th {\n        text-align: right;\n    }\n</style>\n<table border=\"1\" class=\"dataframe\">\n  <thead>\n    <tr style=\"text-align: right;\">\n      <th></th>\n      <th>phrase</th>\n      <th>actual</th>\n      <th>predicted</th>\n    </tr>\n  </thead>\n  <tbody>\n    <tr>\n      <th>6339</th>\n      <td>gridiron is a type of sports book</td>\n      <td>0</td>\n      <td>1</td>\n    </tr>\n    <tr>\n      <th>6661</th>\n      <td>lebanon is in the eastern european time zone e...</td>\n      <td>0</td>\n      <td>1</td>\n    </tr>\n    <tr>\n      <th>4539</th>\n      <td>the name of the song is the collection</td>\n      <td>0</td>\n      <td>1</td>\n    </tr>\n    <tr>\n      <th>3582</th>\n      <td>one famous person who died from pneumonia was ...</td>\n      <td>0</td>\n      <td>1</td>\n    </tr>\n    <tr>\n      <th>5980</th>\n      <td>westlifes studio album is named westlife</td>\n      <td>0</td>\n      <td>1</td>\n    </tr>\n    <tr>\n      <th>799</th>\n      <td>now thats what i call music 18 was released in...</td>\n      <td>0</td>\n      <td>1</td>\n    </tr>\n    <tr>\n      <th>8</th>\n      <td>the developer who designed asterix and the gre...</td>\n      <td>0</td>\n      <td>1</td>\n    </tr>\n    <tr>\n      <th>6898</th>\n      <td>now thats what i call music</td>\n      <td>0</td>\n      <td>1</td>\n    </tr>\n    <tr>\n      <th>3547</th>\n      <td>people who are exposed to extremely high tempe...</td>\n      <td>0</td>\n      <td>1</td>\n    </tr>\n    <tr>\n      <th>7321</th>\n      <td>meitner is named after the austrian physicist ...</td>\n      <td>0</td>\n      <td>1</td>\n    </tr>\n    <tr>\n      <th>3835</th>\n      <td>one player who is in the rugby league is sonny...</td>\n      <td>0</td>\n      <td>1</td>\n    </tr>\n    <tr>\n      <th>318</th>\n      <td>peters was born in koldenbüttel which is locat...</td>\n      <td>0</td>\n      <td>1</td>\n    </tr>\n    <tr>\n      <th>1094</th>\n      <td>bob dylan is a musician who plays folk music</td>\n      <td>0</td>\n      <td>1</td>\n    </tr>\n    <tr>\n      <th>3717</th>\n      <td>the costume designer for the film a modern her...</td>\n      <td>0</td>\n      <td>1</td>\n    </tr>\n    <tr>\n      <th>7249</th>\n      <td>the featured song from evolution is girl named...</td>\n      <td>0</td>\n      <td>1</td>\n    </tr>\n    <tr>\n      <th>3846</th>\n      <td>a person who follows veganism avoids consuming...</td>\n      <td>0</td>\n      <td>1</td>\n    </tr>\n    <tr>\n      <th>760</th>\n      <td>the editor of the die softly reissue was inser...</td>\n      <td>0</td>\n      <td>1</td>\n    </tr>\n  </tbody>\n</table>\n</div>"
     },
     "execution_count": 59,
     "metadata": {},
     "output_type": "execute_result"
    }
   ],
   "source": [
    "errors[errors['actual'] == 0]"
   ],
   "metadata": {
    "collapsed": false,
    "ExecuteTime": {
     "end_time": "2024-04-18T23:57:58.250262200Z",
     "start_time": "2024-04-18T23:57:58.227174200Z"
    }
   },
   "id": "4dee5934713b3422"
  },
  {
   "cell_type": "code",
   "execution_count": 60,
   "outputs": [
    {
     "data": {
      "text/plain": "                                                 phrase  actual  predicted\n3626               is punk rock rarities a album or dvd       1          0\n6239  how is the drug nefazodone hydrochloride  admi...       1          0\n3331                    is nightsongs a drama or comedy       1          0\n4483  name a 2002 indian tamil romantic biographical...       1          0\n4133                          how is venoforce i dosed        1          0\n491   is feel the noise of liar liar considered a drama       1          0\n2467                      steve hackett wrote this song       1          0\n6589  how is a bupivacaine hydrochloride 5 injectabl...       1          0\n1329                    is one to one pop music or rock       1          0\n757   name a year the boston celtics won the nba fin...       1          0\n2290            theudigisels religion can be said to be       1          0\n615                       how was joe dirt car released       1          0\n1118   is the the unusual suspects a fantasy or mystery       1          0\n987    when did rugby union stop being an olympic sport       1          0\n4752  name of album by the alternative metal band dr...       1          0\n3841         name an asteroid discovered on may 11 1985       1          0\n683                  is carlyle chalmers male or female       1          0",
      "text/html": "<div>\n<style scoped>\n    .dataframe tbody tr th:only-of-type {\n        vertical-align: middle;\n    }\n\n    .dataframe tbody tr th {\n        vertical-align: top;\n    }\n\n    .dataframe thead th {\n        text-align: right;\n    }\n</style>\n<table border=\"1\" class=\"dataframe\">\n  <thead>\n    <tr style=\"text-align: right;\">\n      <th></th>\n      <th>phrase</th>\n      <th>actual</th>\n      <th>predicted</th>\n    </tr>\n  </thead>\n  <tbody>\n    <tr>\n      <th>3626</th>\n      <td>is punk rock rarities a album or dvd</td>\n      <td>1</td>\n      <td>0</td>\n    </tr>\n    <tr>\n      <th>6239</th>\n      <td>how is the drug nefazodone hydrochloride  admi...</td>\n      <td>1</td>\n      <td>0</td>\n    </tr>\n    <tr>\n      <th>3331</th>\n      <td>is nightsongs a drama or comedy</td>\n      <td>1</td>\n      <td>0</td>\n    </tr>\n    <tr>\n      <th>4483</th>\n      <td>name a 2002 indian tamil romantic biographical...</td>\n      <td>1</td>\n      <td>0</td>\n    </tr>\n    <tr>\n      <th>4133</th>\n      <td>how is venoforce i dosed</td>\n      <td>1</td>\n      <td>0</td>\n    </tr>\n    <tr>\n      <th>491</th>\n      <td>is feel the noise of liar liar considered a drama</td>\n      <td>1</td>\n      <td>0</td>\n    </tr>\n    <tr>\n      <th>2467</th>\n      <td>steve hackett wrote this song</td>\n      <td>1</td>\n      <td>0</td>\n    </tr>\n    <tr>\n      <th>6589</th>\n      <td>how is a bupivacaine hydrochloride 5 injectabl...</td>\n      <td>1</td>\n      <td>0</td>\n    </tr>\n    <tr>\n      <th>1329</th>\n      <td>is one to one pop music or rock</td>\n      <td>1</td>\n      <td>0</td>\n    </tr>\n    <tr>\n      <th>757</th>\n      <td>name a year the boston celtics won the nba fin...</td>\n      <td>1</td>\n      <td>0</td>\n    </tr>\n    <tr>\n      <th>2290</th>\n      <td>theudigisels religion can be said to be</td>\n      <td>1</td>\n      <td>0</td>\n    </tr>\n    <tr>\n      <th>615</th>\n      <td>how was joe dirt car released</td>\n      <td>1</td>\n      <td>0</td>\n    </tr>\n    <tr>\n      <th>1118</th>\n      <td>is the the unusual suspects a fantasy or mystery</td>\n      <td>1</td>\n      <td>0</td>\n    </tr>\n    <tr>\n      <th>987</th>\n      <td>when did rugby union stop being an olympic sport</td>\n      <td>1</td>\n      <td>0</td>\n    </tr>\n    <tr>\n      <th>4752</th>\n      <td>name of album by the alternative metal band dr...</td>\n      <td>1</td>\n      <td>0</td>\n    </tr>\n    <tr>\n      <th>3841</th>\n      <td>name an asteroid discovered on may 11 1985</td>\n      <td>1</td>\n      <td>0</td>\n    </tr>\n    <tr>\n      <th>683</th>\n      <td>is carlyle chalmers male or female</td>\n      <td>1</td>\n      <td>0</td>\n    </tr>\n  </tbody>\n</table>\n</div>"
     },
     "execution_count": 60,
     "metadata": {},
     "output_type": "execute_result"
    }
   ],
   "source": [
    "errors[errors['actual'] == 1]"
   ],
   "metadata": {
    "collapsed": false,
    "ExecuteTime": {
     "end_time": "2024-04-18T23:57:58.267313800Z",
     "start_time": "2024-04-18T23:57:58.243254Z"
    }
   },
   "id": "42420c2f3e9f342"
  },
  {
   "cell_type": "code",
   "execution_count": 61,
   "outputs": [],
   "source": [
    "# Overall Analysis: Pretty Good-> No false negatives which is good for my use case\n",
    "# Errors are intensely skewed to sentences using \"question words\"\n",
    "# Still - This is very good"
   ],
   "metadata": {
    "collapsed": false,
    "ExecuteTime": {
     "end_time": "2024-04-18T23:57:58.288788300Z",
     "start_time": "2024-04-18T23:57:58.258771Z"
    }
   },
   "id": "7f2875f0d010e47a"
  },
  {
   "cell_type": "code",
   "execution_count": 62,
   "outputs": [
    {
     "data": {
      "text/plain": "['../models/q_or_a_vectorizer.pkl']"
     },
     "execution_count": 62,
     "metadata": {},
     "output_type": "execute_result"
    }
   ],
   "source": [
    "# Save Model\n",
    "import joblib\n",
    "\n",
    "joblib.dump(lr_classifier, '../models/q_or_no.pkl')\n",
    "joblib.dump(tfidf_vectorizer, '../models/q_or_a_vectorizer.pkl')"
   ],
   "metadata": {
    "collapsed": false,
    "ExecuteTime": {
     "end_time": "2024-04-18T23:57:58.412566800Z",
     "start_time": "2024-04-18T23:57:58.276845500Z"
    }
   },
   "id": "3c3bd0be10c9c3a0"
  },
  {
   "cell_type": "code",
   "execution_count": 63,
   "outputs": [],
   "source": [
    "# Visualizations"
   ],
   "metadata": {
    "collapsed": false,
    "ExecuteTime": {
     "end_time": "2024-04-18T23:57:58.415508700Z",
     "start_time": "2024-04-18T23:57:58.321367600Z"
    }
   },
   "id": "a3c31c85290e40ad"
  },
  {
   "cell_type": "code",
   "execution_count": 63,
   "outputs": [],
   "source": [],
   "metadata": {
    "collapsed": false,
    "ExecuteTime": {
     "end_time": "2024-04-18T23:57:58.417484400Z",
     "start_time": "2024-04-18T23:57:58.337994400Z"
    }
   },
   "id": "ec4f3e84e004d9d9"
  }
 ],
 "metadata": {
  "kernelspec": {
   "display_name": "Python 3",
   "language": "python",
   "name": "python3"
  },
  "language_info": {
   "codemirror_mode": {
    "name": "ipython",
    "version": 2
   },
   "file_extension": ".py",
   "mimetype": "text/x-python",
   "name": "python",
   "nbconvert_exporter": "python",
   "pygments_lexer": "ipython2",
   "version": "2.7.6"
  }
 },
 "nbformat": 4,
 "nbformat_minor": 5
}
