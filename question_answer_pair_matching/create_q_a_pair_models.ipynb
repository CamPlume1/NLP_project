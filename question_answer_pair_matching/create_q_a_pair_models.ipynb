{
 "cells": [
  {
   "cell_type": "code",
   "execution_count": 45,
   "outputs": [],
   "source": [
    "\n",
    "# Read in previously generated data\n",
    "def retrieve_subframes():\n",
    "    '''\n",
    "    Gets partitioned dataframes from source\n",
    "    :return: list of dataframes\n",
    "    '''\n",
    "    subframes = []\n",
    "    for i in range(0, 8):\n",
    "        subframes.append(pd.read_csv('../data_inspection/generated_and_cleaned/it_' + str(i) + '.csv'))\n",
    "    return subframes"
   ],
   "metadata": {
    "collapsed": false,
    "ExecuteTime": {
     "end_time": "2024-04-18T23:35:44.907668300Z",
     "start_time": "2024-04-18T23:35:44.437905100Z"
    }
   },
   "id": "c6a27c2c9abf18ec"
  },
  {
   "cell_type": "code",
   "execution_count": 46,
   "outputs": [],
   "source": [
    "def drop_unnamed(subframes):\n",
    "    for df in subframes:\n",
    "        if 'Unnamed: 0' in df.columns:\n",
    "            df.drop(columns=['Unnamed: 0'], inplace=True)\n",
    "    return subframes"
   ],
   "metadata": {
    "collapsed": false,
    "ExecuteTime": {
     "end_time": "2024-04-18T23:35:44.987706300Z",
     "start_time": "2024-04-18T23:35:44.446414900Z"
    }
   },
   "id": "6f92fe35cf6c1ba6"
  },
  {
   "cell_type": "code",
   "execution_count": 47,
   "outputs": [],
   "source": [
    "def create_all_sentence_set(merged_df):\n",
    "    df = pd.DataFrame()\n",
    "    df['text'] = pd.concat([merged_df['question'], merged_df['answers']], ignore_index=True)\n",
    "\n",
    "    # Add 'is_question' column\n",
    "    df['is_question'] = [1] * len(merged_df['question']) + [0] * len(merged_df['answers'])\n",
    "    return df\n"
   ],
   "metadata": {
    "collapsed": false,
    "ExecuteTime": {
     "end_time": "2024-04-18T23:35:44.988698800Z",
     "start_time": "2024-04-18T23:35:44.462448300Z"
    }
   },
   "id": "122733a4d617e3c0"
  },
  {
   "cell_type": "code",
   "execution_count": 48,
   "outputs": [],
   "source": [
    "from nltk import word_tokenize\n",
    "## Stemmer\n",
    "# Tokenization and stemming\n",
    "from nltk.stem import PorterStemmer\n",
    "\n",
    "stemmer = PorterStemmer()\n",
    "\n",
    "\n",
    "def tokenize_and_stem(text):\n",
    "    tokens = word_tokenize(text)\n",
    "    stemmed_tokens = [stemmer.stem(token) for token in tokens]\n",
    "    return stemmed_tokens"
   ],
   "metadata": {
    "collapsed": false,
    "ExecuteTime": {
     "end_time": "2024-04-18T23:35:44.988698800Z",
     "start_time": "2024-04-18T23:35:44.479110100Z"
    }
   },
   "id": "fba08390aead4144"
  },
  {
   "cell_type": "code",
   "execution_count": 49,
   "outputs": [],
   "source": [
    "def get_train_test(df):\n",
    "    # reset index, create train + Test splits\n",
    "    df.reset_index(drop=True, inplace=True)\n",
    "    return train_test_split(df['text'], df['is_question'], test_size=0.2, random_state=7)"
   ],
   "metadata": {
    "collapsed": false,
    "ExecuteTime": {
     "end_time": "2024-04-18T23:35:44.988698800Z",
     "start_time": "2024-04-18T23:35:44.493953300Z"
    }
   },
   "id": "ed72b53474f9999"
  },
  {
   "cell_type": "code",
   "execution_count": 50,
   "outputs": [],
   "source": [
    "def halve_df(a_df):\n",
    "    midpoint = len(a_df) // 2\n",
    "    subframes = [a_df.iloc[i * midpoint: (i + 1) * midpoint] for i in range(2)]\n",
    "    return subframes"
   ],
   "metadata": {
    "collapsed": false,
    "ExecuteTime": {
     "end_time": "2024-04-18T23:35:44.988698800Z",
     "start_time": "2024-04-18T23:35:44.509460300Z"
    }
   },
   "id": "d7101371f8fc31e2"
  },
  {
   "cell_type": "code",
   "execution_count": 51,
   "outputs": [],
   "source": [
    "def offest_df(incorrect):\n",
    "    # Get last value\n",
    "    final_val = incorrect['answers'].iloc[-1]\n",
    "    print(final_val)\n",
    "\n",
    "    # Shift values in the 'y' column down by one row\n",
    "    incorrect['answers'] = incorrect['answers'].shift(1)\n",
    "\n",
    "    # Replace the last value of 'y' at position 0\n",
    "    incorrect.iloc[0, incorrect.columns.get_loc('answers')] = final_val\n",
    "    return incorrect"
   ],
   "metadata": {
    "collapsed": false,
    "ExecuteTime": {
     "end_time": "2024-04-18T23:35:44.988698800Z",
     "start_time": "2024-04-18T23:35:44.523180300Z"
    }
   },
   "id": "9883c5ef47807467"
  },
  {
   "cell_type": "code",
   "execution_count": 52,
   "outputs": [],
   "source": [
    "def create_corpus(correct, incorrect):\n",
    "    corpus = pd.DataFrame()\n",
    "    corpus['text'] = pd.concat([correct['question'], correct['answers'], incorrect['question'], incorrect['answers']],\n",
    "                               ignore_index=True)\n",
    "    corpus.reset_index(drop=True, inplace=True)\n",
    "    return corpus"
   ],
   "metadata": {
    "collapsed": false,
    "ExecuteTime": {
     "end_time": "2024-04-18T23:35:44.988698800Z",
     "start_time": "2024-04-18T23:35:44.539692200Z"
    }
   },
   "id": "6ac7415a4ffe2521"
  },
  {
   "cell_type": "code",
   "execution_count": 53,
   "outputs": [],
   "source": [
    "def find_reference_index(str_val, corpus):\n",
    "    for index, row in corpus.iterrows():\n",
    "        if row['text'] == str_val:\n",
    "            return index\n",
    "    return -1"
   ],
   "metadata": {
    "collapsed": false,
    "ExecuteTime": {
     "end_time": "2024-04-18T23:35:44.988698800Z",
     "start_time": "2024-04-18T23:35:44.554725500Z"
    }
   },
   "id": "d5bd0d5569eed444"
  },
  {
   "cell_type": "code",
   "execution_count": 54,
   "outputs": [],
   "source": [
    "def calculate_cosign_similarity(index_a, index_b, sim_matrix):\n",
    "    return sim_matrix[index_a, index_b]"
   ],
   "metadata": {
    "collapsed": false,
    "ExecuteTime": {
     "end_time": "2024-04-18T23:35:44.988698800Z",
     "start_time": "2024-04-18T23:35:44.571737Z"
    }
   },
   "id": "c24978c816a4db8e"
  },
  {
   "cell_type": "code",
   "execution_count": 55,
   "id": "initial_id",
   "metadata": {
    "collapsed": true,
    "ExecuteTime": {
     "end_time": "2024-04-18T23:35:44.988698800Z",
     "start_time": "2024-04-18T23:35:44.587768200Z"
    }
   },
   "outputs": [],
   "source": [
    "import pandas as pd\n",
    "\n",
    "# Read in previously generated data\n",
    "subframes = retrieve_subframes()"
   ]
  },
  {
   "cell_type": "code",
   "execution_count": 56,
   "outputs": [],
   "source": [
    "# For each of these dataframes, drop the 'Unnamed: 0' column if it exists\n",
    "# Drop the 'Unnamed: 0' column if it exists\n",
    "subframes = drop_unnamed(subframes)"
   ],
   "metadata": {
    "collapsed": false,
    "ExecuteTime": {
     "end_time": "2024-04-18T23:35:44.988698800Z",
     "start_time": "2024-04-18T23:35:44.622818Z"
    }
   },
   "id": "de923cc9b1ced01d"
  },
  {
   "cell_type": "code",
   "execution_count": 57,
   "outputs": [],
   "source": [
    "# Concatenate all DataFrames vertically\n",
    "merged_df = pd.concat(subframes, ignore_index=True)"
   ],
   "metadata": {
    "collapsed": false,
    "ExecuteTime": {
     "end_time": "2024-04-18T23:35:44.989699600Z",
     "start_time": "2024-04-18T23:35:44.633318Z"
    }
   },
   "id": "ea0fcb15af38d65b"
  },
  {
   "cell_type": "code",
   "execution_count": 58,
   "outputs": [
    {
     "data": {
      "text/plain": "                                               question  \\\n0     who was the trump ocean club international hot...   \n1                          where was sasha vujačić born   \n2      what is a region that dead combo was released in   \n3      what is a film directed by wiebke von carolsfeld   \n4     what country was music for stock exchange  rel...   \n...                                                 ...   \n3995                 what horror films came out in 2002   \n3996       what language is with the angels composed in   \n3997  what is the release typ eof the album get in t...   \n3998          what is a commune in the country of italy   \n3999                        where was fred johnson born   \n\n                                                answers  \n0     the trump ocean club international hotel and t...  \n1            sasha vujačić was born in maribor slovenia  \n2                   dead combo was released in portugal  \n3                                         marion bridge  \n4                                     the united states  \n...                                                 ...  \n3995  the ring and 28 days later were popular horror...  \n3996  the language of the angels is composed in cele...  \n3997  the release type of the album get in the ring ...  \n3998  a commune in italy is a basic local administra...  \n3999             fred johnson was born in houston texas  \n\n[4000 rows x 2 columns]",
      "text/html": "<div>\n<style scoped>\n    .dataframe tbody tr th:only-of-type {\n        vertical-align: middle;\n    }\n\n    .dataframe tbody tr th {\n        vertical-align: top;\n    }\n\n    .dataframe thead th {\n        text-align: right;\n    }\n</style>\n<table border=\"1\" class=\"dataframe\">\n  <thead>\n    <tr style=\"text-align: right;\">\n      <th></th>\n      <th>question</th>\n      <th>answers</th>\n    </tr>\n  </thead>\n  <tbody>\n    <tr>\n      <th>0</th>\n      <td>who was the trump ocean club international hot...</td>\n      <td>the trump ocean club international hotel and t...</td>\n    </tr>\n    <tr>\n      <th>1</th>\n      <td>where was sasha vujačić born</td>\n      <td>sasha vujačić was born in maribor slovenia</td>\n    </tr>\n    <tr>\n      <th>2</th>\n      <td>what is a region that dead combo was released in</td>\n      <td>dead combo was released in portugal</td>\n    </tr>\n    <tr>\n      <th>3</th>\n      <td>what is a film directed by wiebke von carolsfeld</td>\n      <td>marion bridge</td>\n    </tr>\n    <tr>\n      <th>4</th>\n      <td>what country was music for stock exchange  rel...</td>\n      <td>the united states</td>\n    </tr>\n    <tr>\n      <th>...</th>\n      <td>...</td>\n      <td>...</td>\n    </tr>\n    <tr>\n      <th>3995</th>\n      <td>what horror films came out in 2002</td>\n      <td>the ring and 28 days later were popular horror...</td>\n    </tr>\n    <tr>\n      <th>3996</th>\n      <td>what language is with the angels composed in</td>\n      <td>the language of the angels is composed in cele...</td>\n    </tr>\n    <tr>\n      <th>3997</th>\n      <td>what is the release typ eof the album get in t...</td>\n      <td>the release type of the album get in the ring ...</td>\n    </tr>\n    <tr>\n      <th>3998</th>\n      <td>what is a commune in the country of italy</td>\n      <td>a commune in italy is a basic local administra...</td>\n    </tr>\n    <tr>\n      <th>3999</th>\n      <td>where was fred johnson born</td>\n      <td>fred johnson was born in houston texas</td>\n    </tr>\n  </tbody>\n</table>\n<p>4000 rows × 2 columns</p>\n</div>"
     },
     "execution_count": 58,
     "metadata": {},
     "output_type": "execute_result"
    }
   ],
   "source": [
    "merged_df"
   ],
   "metadata": {
    "collapsed": false,
    "ExecuteTime": {
     "end_time": "2024-04-18T23:35:44.989699600Z",
     "start_time": "2024-04-18T23:35:44.649848900Z"
    }
   },
   "id": "fe2a8608bd919dce"
  },
  {
   "cell_type": "code",
   "execution_count": 59,
   "outputs": [],
   "source": [
    "# Split in half\n",
    "subframes = halve_df(merged_df)"
   ],
   "metadata": {
    "collapsed": false,
    "ExecuteTime": {
     "end_time": "2024-04-18T23:35:44.990701800Z",
     "start_time": "2024-04-18T23:35:44.664921500Z"
    }
   },
   "id": "e64037b5b7978f34"
  },
  {
   "cell_type": "code",
   "execution_count": 60,
   "outputs": [],
   "source": [
    "\n",
    "correct = subframes[0]\n",
    "incorrect = subframes[1]"
   ],
   "metadata": {
    "collapsed": false,
    "ExecuteTime": {
     "end_time": "2024-04-18T23:35:44.990701800Z",
     "start_time": "2024-04-18T23:35:44.681458800Z"
    }
   },
   "id": "724a92121b949b2d"
  },
  {
   "cell_type": "code",
   "execution_count": 61,
   "outputs": [
    {
     "data": {
      "text/plain": "Index(['question', 'answers'], dtype='object')"
     },
     "execution_count": 61,
     "metadata": {},
     "output_type": "execute_result"
    }
   ],
   "source": [
    "incorrect.columns"
   ],
   "metadata": {
    "collapsed": false,
    "ExecuteTime": {
     "end_time": "2024-04-18T23:35:44.990701800Z",
     "start_time": "2024-04-18T23:35:44.694681200Z"
    }
   },
   "id": "5234e820b42d07bb"
  },
  {
   "cell_type": "code",
   "execution_count": 62,
   "outputs": [
    {
     "name": "stdout",
     "output_type": "stream",
     "text": [
      "fred johnson was born in houston texas\n"
     ]
    },
    {
     "name": "stderr",
     "output_type": "stream",
     "text": [
      "C:\\Users\\Cam\\AppData\\Local\\Temp\\ipykernel_15732\\3507489817.py:7: SettingWithCopyWarning: \n",
      "A value is trying to be set on a copy of a slice from a DataFrame.\n",
      "Try using .loc[row_indexer,col_indexer] = value instead\n",
      "\n",
      "See the caveats in the documentation: https://pandas.pydata.org/pandas-docs/stable/user_guide/indexing.html#returning-a-view-versus-a-copy\n",
      "  incorrect['answers'] = incorrect['answers'].shift(1)\n"
     ]
    }
   ],
   "source": [
    "# Offset answers to create incorrect pairings\n",
    "incorrect = offest_df(incorrect)"
   ],
   "metadata": {
    "collapsed": false,
    "ExecuteTime": {
     "end_time": "2024-04-18T23:35:44.990701800Z",
     "start_time": "2024-04-18T23:35:44.711734800Z"
    }
   },
   "id": "b0603c1be4089123"
  },
  {
   "cell_type": "code",
   "execution_count": 63,
   "outputs": [
    {
     "data": {
      "text/plain": "                                               question  \\\n2000                  what albums were released in 2000   \n2001                 which time zone is mifflin part of   \n2002  what is the active ingredient in the drug povi...   \n2003  what is a broadcast station where los lobos is...   \n2004      what can be found in houghton county michigan   \n...                                                 ...   \n3995                 what horror films came out in 2002   \n3996       what language is with the angels composed in   \n3997  what is the release typ eof the album get in t...   \n3998          what is a commune in the country of italy   \n3999                        where was fred johnson born   \n\n                                                answers  \n2000             fred johnson was born in houston texas  \n2001  kid a by radiohead and stankonia by outkast we...  \n2002                mifflin is in the eastern time zone  \n2003  the active ingredient in the drug povidoneiodi...  \n2004               a radio station that plays los lobos  \n...                                                 ...  \n3995        senorita by shawn mendes and camila cabello  \n3996  the ring and 28 days later were popular horror...  \n3997  the language of the angels is composed in cele...  \n3998  the release type of the album get in the ring ...  \n3999  a commune in italy is a basic local administra...  \n\n[2000 rows x 2 columns]",
      "text/html": "<div>\n<style scoped>\n    .dataframe tbody tr th:only-of-type {\n        vertical-align: middle;\n    }\n\n    .dataframe tbody tr th {\n        vertical-align: top;\n    }\n\n    .dataframe thead th {\n        text-align: right;\n    }\n</style>\n<table border=\"1\" class=\"dataframe\">\n  <thead>\n    <tr style=\"text-align: right;\">\n      <th></th>\n      <th>question</th>\n      <th>answers</th>\n    </tr>\n  </thead>\n  <tbody>\n    <tr>\n      <th>2000</th>\n      <td>what albums were released in 2000</td>\n      <td>fred johnson was born in houston texas</td>\n    </tr>\n    <tr>\n      <th>2001</th>\n      <td>which time zone is mifflin part of</td>\n      <td>kid a by radiohead and stankonia by outkast we...</td>\n    </tr>\n    <tr>\n      <th>2002</th>\n      <td>what is the active ingredient in the drug povi...</td>\n      <td>mifflin is in the eastern time zone</td>\n    </tr>\n    <tr>\n      <th>2003</th>\n      <td>what is a broadcast station where los lobos is...</td>\n      <td>the active ingredient in the drug povidoneiodi...</td>\n    </tr>\n    <tr>\n      <th>2004</th>\n      <td>what can be found in houghton county michigan</td>\n      <td>a radio station that plays los lobos</td>\n    </tr>\n    <tr>\n      <th>...</th>\n      <td>...</td>\n      <td>...</td>\n    </tr>\n    <tr>\n      <th>3995</th>\n      <td>what horror films came out in 2002</td>\n      <td>senorita by shawn mendes and camila cabello</td>\n    </tr>\n    <tr>\n      <th>3996</th>\n      <td>what language is with the angels composed in</td>\n      <td>the ring and 28 days later were popular horror...</td>\n    </tr>\n    <tr>\n      <th>3997</th>\n      <td>what is the release typ eof the album get in t...</td>\n      <td>the language of the angels is composed in cele...</td>\n    </tr>\n    <tr>\n      <th>3998</th>\n      <td>what is a commune in the country of italy</td>\n      <td>the release type of the album get in the ring ...</td>\n    </tr>\n    <tr>\n      <th>3999</th>\n      <td>where was fred johnson born</td>\n      <td>a commune in italy is a basic local administra...</td>\n    </tr>\n  </tbody>\n</table>\n<p>2000 rows × 2 columns</p>\n</div>"
     },
     "execution_count": 63,
     "metadata": {},
     "output_type": "execute_result"
    }
   ],
   "source": [
    "# validate\n",
    "incorrect"
   ],
   "metadata": {
    "collapsed": false,
    "ExecuteTime": {
     "end_time": "2024-04-18T23:35:44.991699700Z",
     "start_time": "2024-04-18T23:35:44.732811300Z"
    }
   },
   "id": "60756fdf023d1b34"
  },
  {
   "cell_type": "code",
   "execution_count": 64,
   "outputs": [
    {
     "name": "stderr",
     "output_type": "stream",
     "text": [
      "C:\\Users\\Cam\\AppData\\Local\\Temp\\ipykernel_15732\\3542805647.py:2: SettingWithCopyWarning: \n",
      "A value is trying to be set on a copy of a slice from a DataFrame.\n",
      "Try using .loc[row_indexer,col_indexer] = value instead\n",
      "\n",
      "See the caveats in the documentation: https://pandas.pydata.org/pandas-docs/stable/user_guide/indexing.html#returning-a-view-versus-a-copy\n",
      "  correct['is_pair'] = [1] * len(correct)\n",
      "C:\\Users\\Cam\\AppData\\Local\\Temp\\ipykernel_15732\\3542805647.py:3: SettingWithCopyWarning: \n",
      "A value is trying to be set on a copy of a slice from a DataFrame.\n",
      "Try using .loc[row_indexer,col_indexer] = value instead\n",
      "\n",
      "See the caveats in the documentation: https://pandas.pydata.org/pandas-docs/stable/user_guide/indexing.html#returning-a-view-versus-a-copy\n",
      "  incorrect['is_pair'] = 0 * len(incorrect)\n"
     ]
    }
   ],
   "source": [
    "# Set target values\n",
    "correct['is_pair'] = [1] * len(correct)\n",
    "incorrect['is_pair'] = 0 * len(incorrect)"
   ],
   "metadata": {
    "collapsed": false,
    "ExecuteTime": {
     "end_time": "2024-04-18T23:35:44.992762200Z",
     "start_time": "2024-04-18T23:35:44.744349700Z"
    }
   },
   "id": "9e856cfdaa24513b"
  },
  {
   "cell_type": "code",
   "execution_count": 65,
   "outputs": [
    {
     "data": {
      "text/plain": "                                               question  \\\n0     who was the trump ocean club international hot...   \n1                          where was sasha vujačić born   \n2      what is a region that dead combo was released in   \n3      what is a film directed by wiebke von carolsfeld   \n4     what country was music for stock exchange  rel...   \n...                                                 ...   \n1995              what is sebastian knights nationality   \n1996                               who founded synopsys   \n1997             what is daniel domachowskis profession   \n1998                        who is bill oddies daughter   \n1999          what is a book with the subject of murder   \n\n                                                answers  is_pair  \n0     the trump ocean club international hotel and t...        1  \n1            sasha vujačić was born in maribor slovenia        1  \n2                   dead combo was released in portugal        1  \n3                                         marion bridge        1  \n4                                     the united states        1  \n...                                                 ...      ...  \n1995           sebastian knights nationality is russian        1  \n1996  a avantikadapalayam and aart de geus founded s...        1  \n1997                  daniel domachowski is a physicist        1  \n1998          bill oddies daughter is named rosie oddie        1  \n1999    murder on the orient express by agatha christie        1  \n\n[2000 rows x 3 columns]",
      "text/html": "<div>\n<style scoped>\n    .dataframe tbody tr th:only-of-type {\n        vertical-align: middle;\n    }\n\n    .dataframe tbody tr th {\n        vertical-align: top;\n    }\n\n    .dataframe thead th {\n        text-align: right;\n    }\n</style>\n<table border=\"1\" class=\"dataframe\">\n  <thead>\n    <tr style=\"text-align: right;\">\n      <th></th>\n      <th>question</th>\n      <th>answers</th>\n      <th>is_pair</th>\n    </tr>\n  </thead>\n  <tbody>\n    <tr>\n      <th>0</th>\n      <td>who was the trump ocean club international hot...</td>\n      <td>the trump ocean club international hotel and t...</td>\n      <td>1</td>\n    </tr>\n    <tr>\n      <th>1</th>\n      <td>where was sasha vujačić born</td>\n      <td>sasha vujačić was born in maribor slovenia</td>\n      <td>1</td>\n    </tr>\n    <tr>\n      <th>2</th>\n      <td>what is a region that dead combo was released in</td>\n      <td>dead combo was released in portugal</td>\n      <td>1</td>\n    </tr>\n    <tr>\n      <th>3</th>\n      <td>what is a film directed by wiebke von carolsfeld</td>\n      <td>marion bridge</td>\n      <td>1</td>\n    </tr>\n    <tr>\n      <th>4</th>\n      <td>what country was music for stock exchange  rel...</td>\n      <td>the united states</td>\n      <td>1</td>\n    </tr>\n    <tr>\n      <th>...</th>\n      <td>...</td>\n      <td>...</td>\n      <td>...</td>\n    </tr>\n    <tr>\n      <th>1995</th>\n      <td>what is sebastian knights nationality</td>\n      <td>sebastian knights nationality is russian</td>\n      <td>1</td>\n    </tr>\n    <tr>\n      <th>1996</th>\n      <td>who founded synopsys</td>\n      <td>a avantikadapalayam and aart de geus founded s...</td>\n      <td>1</td>\n    </tr>\n    <tr>\n      <th>1997</th>\n      <td>what is daniel domachowskis profession</td>\n      <td>daniel domachowski is a physicist</td>\n      <td>1</td>\n    </tr>\n    <tr>\n      <th>1998</th>\n      <td>who is bill oddies daughter</td>\n      <td>bill oddies daughter is named rosie oddie</td>\n      <td>1</td>\n    </tr>\n    <tr>\n      <th>1999</th>\n      <td>what is a book with the subject of murder</td>\n      <td>murder on the orient express by agatha christie</td>\n      <td>1</td>\n    </tr>\n  </tbody>\n</table>\n<p>2000 rows × 3 columns</p>\n</div>"
     },
     "execution_count": 65,
     "metadata": {},
     "output_type": "execute_result"
    }
   ],
   "source": [
    "correct"
   ],
   "metadata": {
    "collapsed": false,
    "ExecuteTime": {
     "end_time": "2024-04-18T23:35:44.992762200Z",
     "start_time": "2024-04-18T23:35:44.763405200Z"
    }
   },
   "id": "2842a51c25f5defe"
  },
  {
   "cell_type": "code",
   "execution_count": 66,
   "outputs": [
    {
     "data": {
      "text/plain": "                                               question  \\\n2000                  what albums were released in 2000   \n2001                 which time zone is mifflin part of   \n2002  what is the active ingredient in the drug povi...   \n2003  what is a broadcast station where los lobos is...   \n2004      what can be found in houghton county michigan   \n...                                                 ...   \n3995                 what horror films came out in 2002   \n3996       what language is with the angels composed in   \n3997  what is the release typ eof the album get in t...   \n3998          what is a commune in the country of italy   \n3999                        where was fred johnson born   \n\n                                                answers  is_pair  \n2000             fred johnson was born in houston texas        0  \n2001  kid a by radiohead and stankonia by outkast we...        0  \n2002                mifflin is in the eastern time zone        0  \n2003  the active ingredient in the drug povidoneiodi...        0  \n2004               a radio station that plays los lobos        0  \n...                                                 ...      ...  \n3995        senorita by shawn mendes and camila cabello        0  \n3996  the ring and 28 days later were popular horror...        0  \n3997  the language of the angels is composed in cele...        0  \n3998  the release type of the album get in the ring ...        0  \n3999  a commune in italy is a basic local administra...        0  \n\n[2000 rows x 3 columns]",
      "text/html": "<div>\n<style scoped>\n    .dataframe tbody tr th:only-of-type {\n        vertical-align: middle;\n    }\n\n    .dataframe tbody tr th {\n        vertical-align: top;\n    }\n\n    .dataframe thead th {\n        text-align: right;\n    }\n</style>\n<table border=\"1\" class=\"dataframe\">\n  <thead>\n    <tr style=\"text-align: right;\">\n      <th></th>\n      <th>question</th>\n      <th>answers</th>\n      <th>is_pair</th>\n    </tr>\n  </thead>\n  <tbody>\n    <tr>\n      <th>2000</th>\n      <td>what albums were released in 2000</td>\n      <td>fred johnson was born in houston texas</td>\n      <td>0</td>\n    </tr>\n    <tr>\n      <th>2001</th>\n      <td>which time zone is mifflin part of</td>\n      <td>kid a by radiohead and stankonia by outkast we...</td>\n      <td>0</td>\n    </tr>\n    <tr>\n      <th>2002</th>\n      <td>what is the active ingredient in the drug povi...</td>\n      <td>mifflin is in the eastern time zone</td>\n      <td>0</td>\n    </tr>\n    <tr>\n      <th>2003</th>\n      <td>what is a broadcast station where los lobos is...</td>\n      <td>the active ingredient in the drug povidoneiodi...</td>\n      <td>0</td>\n    </tr>\n    <tr>\n      <th>2004</th>\n      <td>what can be found in houghton county michigan</td>\n      <td>a radio station that plays los lobos</td>\n      <td>0</td>\n    </tr>\n    <tr>\n      <th>...</th>\n      <td>...</td>\n      <td>...</td>\n      <td>...</td>\n    </tr>\n    <tr>\n      <th>3995</th>\n      <td>what horror films came out in 2002</td>\n      <td>senorita by shawn mendes and camila cabello</td>\n      <td>0</td>\n    </tr>\n    <tr>\n      <th>3996</th>\n      <td>what language is with the angels composed in</td>\n      <td>the ring and 28 days later were popular horror...</td>\n      <td>0</td>\n    </tr>\n    <tr>\n      <th>3997</th>\n      <td>what is the release typ eof the album get in t...</td>\n      <td>the language of the angels is composed in cele...</td>\n      <td>0</td>\n    </tr>\n    <tr>\n      <th>3998</th>\n      <td>what is a commune in the country of italy</td>\n      <td>the release type of the album get in the ring ...</td>\n      <td>0</td>\n    </tr>\n    <tr>\n      <th>3999</th>\n      <td>where was fred johnson born</td>\n      <td>a commune in italy is a basic local administra...</td>\n      <td>0</td>\n    </tr>\n  </tbody>\n</table>\n<p>2000 rows × 3 columns</p>\n</div>"
     },
     "execution_count": 66,
     "metadata": {},
     "output_type": "execute_result"
    }
   ],
   "source": [
    "incorrect"
   ],
   "metadata": {
    "collapsed": false,
    "ExecuteTime": {
     "end_time": "2024-04-18T23:35:45.004304200Z",
     "start_time": "2024-04-18T23:35:44.777933Z"
    }
   },
   "id": "aa78956c3c5b0b20"
  },
  {
   "cell_type": "code",
   "execution_count": 67,
   "outputs": [],
   "source": [
    "# Get Stop Words\n",
    "from nltk.corpus import stopwords\n",
    "stop_ = stopwords.words('english')"
   ],
   "metadata": {
    "collapsed": false,
    "ExecuteTime": {
     "end_time": "2024-04-18T23:35:45.004304200Z",
     "start_time": "2024-04-18T23:35:44.789986500Z"
    }
   },
   "id": "bce064d9163d608a"
  },
  {
   "cell_type": "code",
   "execution_count": 68,
   "outputs": [
    {
     "data": {
      "text/plain": "                                               question  \\\n0     who was the trump ocean club international hot...   \n1                          where was sasha vujačić born   \n2      what is a region that dead combo was released in   \n3      what is a film directed by wiebke von carolsfeld   \n4     what country was music for stock exchange  rel...   \n...                                                 ...   \n1995              what is sebastian knights nationality   \n1996                               who founded synopsys   \n1997             what is daniel domachowskis profession   \n1998                        who is bill oddies daughter   \n1999          what is a book with the subject of murder   \n\n                                                answers  is_pair  \n0     the trump ocean club international hotel and t...        1  \n1            sasha vujačić was born in maribor slovenia        1  \n2                   dead combo was released in portugal        1  \n3                                         marion bridge        1  \n4                                     the united states        1  \n...                                                 ...      ...  \n1995           sebastian knights nationality is russian        1  \n1996  a avantikadapalayam and aart de geus founded s...        1  \n1997                  daniel domachowski is a physicist        1  \n1998          bill oddies daughter is named rosie oddie        1  \n1999    murder on the orient express by agatha christie        1  \n\n[2000 rows x 3 columns]",
      "text/html": "<div>\n<style scoped>\n    .dataframe tbody tr th:only-of-type {\n        vertical-align: middle;\n    }\n\n    .dataframe tbody tr th {\n        vertical-align: top;\n    }\n\n    .dataframe thead th {\n        text-align: right;\n    }\n</style>\n<table border=\"1\" class=\"dataframe\">\n  <thead>\n    <tr style=\"text-align: right;\">\n      <th></th>\n      <th>question</th>\n      <th>answers</th>\n      <th>is_pair</th>\n    </tr>\n  </thead>\n  <tbody>\n    <tr>\n      <th>0</th>\n      <td>who was the trump ocean club international hot...</td>\n      <td>the trump ocean club international hotel and t...</td>\n      <td>1</td>\n    </tr>\n    <tr>\n      <th>1</th>\n      <td>where was sasha vujačić born</td>\n      <td>sasha vujačić was born in maribor slovenia</td>\n      <td>1</td>\n    </tr>\n    <tr>\n      <th>2</th>\n      <td>what is a region that dead combo was released in</td>\n      <td>dead combo was released in portugal</td>\n      <td>1</td>\n    </tr>\n    <tr>\n      <th>3</th>\n      <td>what is a film directed by wiebke von carolsfeld</td>\n      <td>marion bridge</td>\n      <td>1</td>\n    </tr>\n    <tr>\n      <th>4</th>\n      <td>what country was music for stock exchange  rel...</td>\n      <td>the united states</td>\n      <td>1</td>\n    </tr>\n    <tr>\n      <th>...</th>\n      <td>...</td>\n      <td>...</td>\n      <td>...</td>\n    </tr>\n    <tr>\n      <th>1995</th>\n      <td>what is sebastian knights nationality</td>\n      <td>sebastian knights nationality is russian</td>\n      <td>1</td>\n    </tr>\n    <tr>\n      <th>1996</th>\n      <td>who founded synopsys</td>\n      <td>a avantikadapalayam and aart de geus founded s...</td>\n      <td>1</td>\n    </tr>\n    <tr>\n      <th>1997</th>\n      <td>what is daniel domachowskis profession</td>\n      <td>daniel domachowski is a physicist</td>\n      <td>1</td>\n    </tr>\n    <tr>\n      <th>1998</th>\n      <td>who is bill oddies daughter</td>\n      <td>bill oddies daughter is named rosie oddie</td>\n      <td>1</td>\n    </tr>\n    <tr>\n      <th>1999</th>\n      <td>what is a book with the subject of murder</td>\n      <td>murder on the orient express by agatha christie</td>\n      <td>1</td>\n    </tr>\n  </tbody>\n</table>\n<p>2000 rows × 3 columns</p>\n</div>"
     },
     "execution_count": 68,
     "metadata": {},
     "output_type": "execute_result"
    }
   ],
   "source": [
    "correct"
   ],
   "metadata": {
    "collapsed": false,
    "ExecuteTime": {
     "end_time": "2024-04-18T23:35:45.004304200Z",
     "start_time": "2024-04-18T23:35:44.807043600Z"
    }
   },
   "id": "b30c53558aac4852"
  },
  {
   "cell_type": "code",
   "execution_count": 69,
   "outputs": [],
   "source": [
    "# Create Corpus\n",
    "corpus = create_corpus(correct, incorrect)"
   ],
   "metadata": {
    "collapsed": false,
    "ExecuteTime": {
     "end_time": "2024-04-18T23:35:45.004304200Z",
     "start_time": "2024-04-18T23:35:44.820584500Z"
    }
   },
   "id": "8df3c11ad00b46b7"
  },
  {
   "cell_type": "markdown",
   "source": [
    "# Create TF-IDF Matrix"
   ],
   "metadata": {
    "collapsed": false
   },
   "id": "aeb08fd6b70ff49a"
  },
  {
   "cell_type": "code",
   "execution_count": 70,
   "outputs": [
    {
     "name": "stderr",
     "output_type": "stream",
     "text": [
      "C:\\Users\\Cam\\PycharmProjects\\QARoute\\venv\\lib\\site-packages\\sklearn\\feature_extraction\\text.py:525: UserWarning: The parameter 'token_pattern' will not be used since 'tokenizer' is not None'\n",
      "  warnings.warn(\n"
     ]
    }
   ],
   "source": [
    "from sklearn.feature_extraction.text import TfidfVectorizer\n",
    "# Vectorize\n",
    "tfidf_vectorizer = TfidfVectorizer(tokenizer=tokenize_and_stem)\n",
    "tfidf_matrix = tfidf_vectorizer.fit_transform(corpus['text'])"
   ],
   "metadata": {
    "collapsed": false,
    "ExecuteTime": {
     "end_time": "2024-04-18T23:35:46.004618700Z",
     "start_time": "2024-04-18T23:35:44.836625900Z"
    }
   },
   "id": "72971cab0dce1bf9"
  },
  {
   "cell_type": "code",
   "execution_count": 71,
   "outputs": [],
   "source": [
    "def find_reference_index(str_val):\n",
    "    for index, row in corpus.iterrows():\n",
    "        if row['text'] == str_val:\n",
    "            return index\n",
    "    return -1"
   ],
   "metadata": {
    "collapsed": false,
    "ExecuteTime": {
     "end_time": "2024-04-18T23:35:46.017667900Z",
     "start_time": "2024-04-18T23:35:46.004618700Z"
    }
   },
   "id": "666f2ab33cf2a4f2"
  },
  {
   "cell_type": "code",
   "execution_count": 72,
   "outputs": [
    {
     "name": "stderr",
     "output_type": "stream",
     "text": [
      "C:\\Users\\Cam\\AppData\\Local\\Temp\\ipykernel_15732\\3521320651.py:1: SettingWithCopyWarning: \n",
      "A value is trying to be set on a copy of a slice from a DataFrame.\n",
      "Try using .loc[row_indexer,col_indexer] = value instead\n",
      "\n",
      "See the caveats in the documentation: https://pandas.pydata.org/pandas-docs/stable/user_guide/indexing.html#returning-a-view-versus-a-copy\n",
      "  correct['question_matrix_index'] = correct['question'].apply(find_reference_index)\n"
     ]
    }
   ],
   "source": [
    "correct['question_matrix_index'] = correct['question'].apply(find_reference_index)"
   ],
   "metadata": {
    "collapsed": false,
    "ExecuteTime": {
     "end_time": "2024-04-18T23:36:29.677161200Z",
     "start_time": "2024-04-18T23:35:46.018667300Z"
    }
   },
   "id": "e21e063348449404"
  },
  {
   "cell_type": "code",
   "execution_count": 73,
   "outputs": [
    {
     "name": "stderr",
     "output_type": "stream",
     "text": [
      "C:\\Users\\Cam\\AppData\\Local\\Temp\\ipykernel_15732\\3406456683.py:1: SettingWithCopyWarning: \n",
      "A value is trying to be set on a copy of a slice from a DataFrame.\n",
      "Try using .loc[row_indexer,col_indexer] = value instead\n",
      "\n",
      "See the caveats in the documentation: https://pandas.pydata.org/pandas-docs/stable/user_guide/indexing.html#returning-a-view-versus-a-copy\n",
      "  correct['answer_matrix_index'] = correct['answers'].apply(find_reference_index)\n"
     ]
    }
   ],
   "source": [
    "correct['answer_matrix_index'] = correct['answers'].apply(find_reference_index)"
   ],
   "metadata": {
    "collapsed": false,
    "ExecuteTime": {
     "end_time": "2024-04-18T23:38:43.294456300Z",
     "start_time": "2024-04-18T23:36:29.691698700Z"
    }
   },
   "id": "2e449289c469e6c3"
  },
  {
   "cell_type": "code",
   "execution_count": 74,
   "outputs": [
    {
     "data": {
      "text/plain": "                                               question  \\\n0     who was the trump ocean club international hot...   \n1                          where was sasha vujačić born   \n2      what is a region that dead combo was released in   \n3      what is a film directed by wiebke von carolsfeld   \n4     what country was music for stock exchange  rel...   \n...                                                 ...   \n1995              what is sebastian knights nationality   \n1996                               who founded synopsys   \n1997             what is daniel domachowskis profession   \n1998                        who is bill oddies daughter   \n1999          what is a book with the subject of murder   \n\n                                                answers  is_pair  \\\n0     the trump ocean club international hotel and t...        1   \n1            sasha vujačić was born in maribor slovenia        1   \n2                   dead combo was released in portugal        1   \n3                                         marion bridge        1   \n4                                     the united states        1   \n...                                                 ...      ...   \n1995           sebastian knights nationality is russian        1   \n1996  a avantikadapalayam and aart de geus founded s...        1   \n1997                  daniel domachowski is a physicist        1   \n1998          bill oddies daughter is named rosie oddie        1   \n1999    murder on the orient express by agatha christie        1   \n\n      question_matrix_index  answer_matrix_index  \n0                         0                 2000  \n1                         1                 2001  \n2                         2                 2002  \n3                         3                 2003  \n4                         4                 2004  \n...                     ...                  ...  \n1995                   1995                 3995  \n1996                   1996                 3996  \n1997                   1997                 3997  \n1998                   1998                 3998  \n1999                   1999                 3999  \n\n[2000 rows x 5 columns]",
      "text/html": "<div>\n<style scoped>\n    .dataframe tbody tr th:only-of-type {\n        vertical-align: middle;\n    }\n\n    .dataframe tbody tr th {\n        vertical-align: top;\n    }\n\n    .dataframe thead th {\n        text-align: right;\n    }\n</style>\n<table border=\"1\" class=\"dataframe\">\n  <thead>\n    <tr style=\"text-align: right;\">\n      <th></th>\n      <th>question</th>\n      <th>answers</th>\n      <th>is_pair</th>\n      <th>question_matrix_index</th>\n      <th>answer_matrix_index</th>\n    </tr>\n  </thead>\n  <tbody>\n    <tr>\n      <th>0</th>\n      <td>who was the trump ocean club international hot...</td>\n      <td>the trump ocean club international hotel and t...</td>\n      <td>1</td>\n      <td>0</td>\n      <td>2000</td>\n    </tr>\n    <tr>\n      <th>1</th>\n      <td>where was sasha vujačić born</td>\n      <td>sasha vujačić was born in maribor slovenia</td>\n      <td>1</td>\n      <td>1</td>\n      <td>2001</td>\n    </tr>\n    <tr>\n      <th>2</th>\n      <td>what is a region that dead combo was released in</td>\n      <td>dead combo was released in portugal</td>\n      <td>1</td>\n      <td>2</td>\n      <td>2002</td>\n    </tr>\n    <tr>\n      <th>3</th>\n      <td>what is a film directed by wiebke von carolsfeld</td>\n      <td>marion bridge</td>\n      <td>1</td>\n      <td>3</td>\n      <td>2003</td>\n    </tr>\n    <tr>\n      <th>4</th>\n      <td>what country was music for stock exchange  rel...</td>\n      <td>the united states</td>\n      <td>1</td>\n      <td>4</td>\n      <td>2004</td>\n    </tr>\n    <tr>\n      <th>...</th>\n      <td>...</td>\n      <td>...</td>\n      <td>...</td>\n      <td>...</td>\n      <td>...</td>\n    </tr>\n    <tr>\n      <th>1995</th>\n      <td>what is sebastian knights nationality</td>\n      <td>sebastian knights nationality is russian</td>\n      <td>1</td>\n      <td>1995</td>\n      <td>3995</td>\n    </tr>\n    <tr>\n      <th>1996</th>\n      <td>who founded synopsys</td>\n      <td>a avantikadapalayam and aart de geus founded s...</td>\n      <td>1</td>\n      <td>1996</td>\n      <td>3996</td>\n    </tr>\n    <tr>\n      <th>1997</th>\n      <td>what is daniel domachowskis profession</td>\n      <td>daniel domachowski is a physicist</td>\n      <td>1</td>\n      <td>1997</td>\n      <td>3997</td>\n    </tr>\n    <tr>\n      <th>1998</th>\n      <td>who is bill oddies daughter</td>\n      <td>bill oddies daughter is named rosie oddie</td>\n      <td>1</td>\n      <td>1998</td>\n      <td>3998</td>\n    </tr>\n    <tr>\n      <th>1999</th>\n      <td>what is a book with the subject of murder</td>\n      <td>murder on the orient express by agatha christie</td>\n      <td>1</td>\n      <td>1999</td>\n      <td>3999</td>\n    </tr>\n  </tbody>\n</table>\n<p>2000 rows × 5 columns</p>\n</div>"
     },
     "execution_count": 74,
     "metadata": {},
     "output_type": "execute_result"
    }
   ],
   "source": [
    "correct"
   ],
   "metadata": {
    "collapsed": false,
    "ExecuteTime": {
     "end_time": "2024-04-18T23:38:43.339764200Z",
     "start_time": "2024-04-18T23:38:43.300462200Z"
    }
   },
   "id": "7daa9423ea4c34a"
  },
  {
   "cell_type": "code",
   "execution_count": 75,
   "outputs": [
    {
     "name": "stderr",
     "output_type": "stream",
     "text": [
      "C:\\Users\\Cam\\AppData\\Local\\Temp\\ipykernel_15732\\331219049.py:1: SettingWithCopyWarning: \n",
      "A value is trying to be set on a copy of a slice from a DataFrame.\n",
      "Try using .loc[row_indexer,col_indexer] = value instead\n",
      "\n",
      "See the caveats in the documentation: https://pandas.pydata.org/pandas-docs/stable/user_guide/indexing.html#returning-a-view-versus-a-copy\n",
      "  incorrect['answer_matrix_index'] = incorrect['answers'].apply(find_reference_index)\n"
     ]
    }
   ],
   "source": [
    "incorrect['answer_matrix_index'] = incorrect['answers'].apply(find_reference_index)"
   ],
   "metadata": {
    "collapsed": false,
    "ExecuteTime": {
     "end_time": "2024-04-18T23:43:44.810045900Z",
     "start_time": "2024-04-18T23:38:43.310052200Z"
    }
   },
   "id": "7b7b8ab80bcf7a84"
  },
  {
   "cell_type": "code",
   "execution_count": 76,
   "outputs": [
    {
     "name": "stderr",
     "output_type": "stream",
     "text": [
      "C:\\Users\\Cam\\AppData\\Local\\Temp\\ipykernel_15732\\3358026043.py:1: SettingWithCopyWarning: \n",
      "A value is trying to be set on a copy of a slice from a DataFrame.\n",
      "Try using .loc[row_indexer,col_indexer] = value instead\n",
      "\n",
      "See the caveats in the documentation: https://pandas.pydata.org/pandas-docs/stable/user_guide/indexing.html#returning-a-view-versus-a-copy\n",
      "  incorrect['question_matrix_index'] = incorrect['question'].apply(find_reference_index)\n"
     ]
    }
   ],
   "source": [
    "incorrect['question_matrix_index'] = incorrect['question'].apply(find_reference_index)"
   ],
   "metadata": {
    "collapsed": false,
    "ExecuteTime": {
     "end_time": "2024-04-18T23:47:30.554611700Z",
     "start_time": "2024-04-18T23:43:44.813590900Z"
    }
   },
   "id": "4ef73eb3e3adba4f"
  },
  {
   "cell_type": "code",
   "execution_count": 77,
   "outputs": [],
   "source": [
    "# Now that I have indexes, compare tf_idf\n",
    "from sklearn.metrics.pairwise import cosine_similarity\n",
    "sim_matrix = cosine_similarity(tfidf_matrix, tfidf_matrix)"
   ],
   "metadata": {
    "collapsed": false,
    "ExecuteTime": {
     "end_time": "2024-04-18T23:47:31.132953700Z",
     "start_time": "2024-04-18T23:47:30.551607200Z"
    }
   },
   "id": "703bc3378a31bdf5"
  },
  {
   "cell_type": "code",
   "execution_count": 78,
   "outputs": [
    {
     "name": "stderr",
     "output_type": "stream",
     "text": [
      "C:\\Users\\Cam\\AppData\\Local\\Temp\\ipykernel_15732\\3798136410.py:2: SettingWithCopyWarning: \n",
      "A value is trying to be set on a copy of a slice from a DataFrame.\n",
      "Try using .loc[row_indexer,col_indexer] = value instead\n",
      "\n",
      "See the caveats in the documentation: https://pandas.pydata.org/pandas-docs/stable/user_guide/indexing.html#returning-a-view-versus-a-copy\n",
      "  correct['similarity'] = correct.apply(lambda row: calculate_cosign_similarity(row['question_matrix_index'], row['answer_matrix_index'], sim_matrix), axis=1)\n"
     ]
    }
   ],
   "source": [
    "# Calculate cosign similarities across correct frame\n",
    "correct['similarity'] = correct.apply(lambda row: calculate_cosign_similarity(row['question_matrix_index'], row['answer_matrix_index'], sim_matrix), axis=1)"
   ],
   "metadata": {
    "collapsed": false,
    "ExecuteTime": {
     "end_time": "2024-04-18T23:47:31.193103900Z",
     "start_time": "2024-04-18T23:47:31.134952600Z"
    }
   },
   "id": "7225f28c98baade2"
  },
  {
   "cell_type": "code",
   "execution_count": 79,
   "outputs": [
    {
     "name": "stderr",
     "output_type": "stream",
     "text": [
      "C:\\Users\\Cam\\AppData\\Local\\Temp\\ipykernel_15732\\2816194546.py:1: SettingWithCopyWarning: \n",
      "A value is trying to be set on a copy of a slice from a DataFrame.\n",
      "Try using .loc[row_indexer,col_indexer] = value instead\n",
      "\n",
      "See the caveats in the documentation: https://pandas.pydata.org/pandas-docs/stable/user_guide/indexing.html#returning-a-view-versus-a-copy\n",
      "  incorrect['similarity'] = incorrect.apply(lambda row: calculate_cosign_similarity(row['question_matrix_index'], row['answer_matrix_index'], sim_matrix), axis=1)\n"
     ]
    }
   ],
   "source": [
    "incorrect['similarity'] = incorrect.apply(lambda row: calculate_cosign_similarity(row['question_matrix_index'], row['answer_matrix_index'], sim_matrix), axis=1)"
   ],
   "metadata": {
    "collapsed": false,
    "ExecuteTime": {
     "end_time": "2024-04-18T23:47:31.207642600Z",
     "start_time": "2024-04-18T23:47:31.169579900Z"
    }
   },
   "id": "a851e3edd89cf86a"
  },
  {
   "cell_type": "code",
   "execution_count": 80,
   "outputs": [
    {
     "data": {
      "text/plain": "Index(['question', 'answers', 'is_pair', 'question_matrix_index',\n       'answer_matrix_index', 'similarity'],\n      dtype='object')"
     },
     "execution_count": 80,
     "metadata": {},
     "output_type": "execute_result"
    }
   ],
   "source": [
    "# validate column imputation\n",
    "correct.columns"
   ],
   "metadata": {
    "collapsed": false,
    "ExecuteTime": {
     "end_time": "2024-04-18T23:47:31.238841500Z",
     "start_time": "2024-04-18T23:47:31.197115600Z"
    }
   },
   "id": "16dc4e45a51cabcf"
  },
  {
   "cell_type": "code",
   "execution_count": 81,
   "outputs": [
    {
     "data": {
      "text/plain": "Index(['question', 'answers', 'is_pair', 'answer_matrix_index',\n       'question_matrix_index', 'similarity'],\n      dtype='object')"
     },
     "execution_count": 81,
     "metadata": {},
     "output_type": "execute_result"
    }
   ],
   "source": [
    "# Validate column imputation\n",
    "incorrect.columns"
   ],
   "metadata": {
    "collapsed": false,
    "ExecuteTime": {
     "end_time": "2024-04-18T23:47:31.270673800Z",
     "start_time": "2024-04-18T23:47:31.212776100Z"
    }
   },
   "id": "94cabbdcf8e8b17f"
  },
  {
   "cell_type": "code",
   "execution_count": 82,
   "outputs": [
    {
     "data": {
      "text/plain": "count    2000.000000\nmean        0.500824\nstd         0.310374\nmin         0.000000\n25%         0.249718\n50%         0.602006\n75%         0.746086\nmax         0.966790\nName: similarity, dtype: float64"
     },
     "execution_count": 82,
     "metadata": {},
     "output_type": "execute_result"
    }
   ],
   "source": [
    "# EDA\n",
    "correct['similarity'].describe()"
   ],
   "metadata": {
    "collapsed": false,
    "ExecuteTime": {
     "end_time": "2024-04-18T23:47:31.287240100Z",
     "start_time": "2024-04-18T23:47:31.230317900Z"
    }
   },
   "id": "1cff12db9b55ef7b"
  },
  {
   "cell_type": "code",
   "execution_count": 83,
   "outputs": [
    {
     "data": {
      "text/plain": "count    2000.000000\nmean        0.014309\nstd         0.027916\nmin         0.000000\n25%         0.000000\n50%         0.000000\n75%         0.017735\nmax         0.390301\nName: similarity, dtype: float64"
     },
     "execution_count": 83,
     "metadata": {},
     "output_type": "execute_result"
    }
   ],
   "source": [
    "# More EDA\n",
    "incorrect['similarity'].describe()"
   ],
   "metadata": {
    "collapsed": false,
    "ExecuteTime": {
     "end_time": "2024-04-18T23:47:31.288249900Z",
     "start_time": "2024-04-18T23:47:31.243388Z"
    }
   },
   "id": "fe7439dad9728098"
  },
  {
   "cell_type": "code",
   "execution_count": 84,
   "outputs": [],
   "source": [
    "## There is a significant difference in cosine similarity between correct and incorrect pairings\n",
    "# This is probably good?"
   ],
   "metadata": {
    "collapsed": false,
    "ExecuteTime": {
     "end_time": "2024-04-18T23:47:31.306367400Z",
     "start_time": "2024-04-18T23:47:31.259405500Z"
    }
   },
   "id": "aa081da56d20217f"
  },
  {
   "cell_type": "code",
   "execution_count": 85,
   "outputs": [],
   "source": [
    "# Rename columns and concatenate frames\n",
    "model_correct = correct[['question', 'answers', 'is_pair', 'similarity']]\n",
    "model_incorrect = incorrect[['question', 'answers', 'is_pair', 'similarity']]\n",
    "\n",
    "model_df = pd.concat([model_correct, model_incorrect], ignore_index=True)"
   ],
   "metadata": {
    "collapsed": false,
    "ExecuteTime": {
     "end_time": "2024-04-18T23:47:31.317907400Z",
     "start_time": "2024-04-18T23:47:31.278699700Z"
    }
   },
   "id": "df67699e69c214f0"
  },
  {
   "cell_type": "code",
   "execution_count": 86,
   "outputs": [
    {
     "data": {
      "text/plain": "                                               question  \\\n0      what is the key element used in eczema treatment   \n1                what is a public school in rigby idaho   \n2            what is jeanchristophe sanchezs profession   \n3     whats the active ingredient in menthol methyl ...   \n4                            who is clara harris parent   \n...                                                 ...   \n3995            what is the genre of the album faithful   \n3996         what type of album is the album milestones   \n3997  what company published the game bejeweled 2 de...   \n3998           what country is john viener a citizen of   \n3999                      what is a book by jules verne   \n\n                                                answers  is_pair  similarity  \n0                          i dont have that information        0    0.000000  \n1     a public school in rigby idaho is rigby high s...        1    0.908614  \n2         jeanchristophe sanchez is a professional chef        1    0.669353  \n3     the music for the film italian for beginners w...        0    0.016729  \n4        clara harriss parents are vic and becky mcleod        1    0.383299  \n...                                                 ...      ...         ...  \n3995         the genre of the album faithful is poprock        1    0.732963  \n3996        natalia castellanos was born in mexico city        0    0.000000  \n3997                                       popcap games        1    0.137448  \n3998      john viener is a citizen of the united states        1    0.825588  \n3999              twenty thousand leagues under the sea        1    0.000000  \n\n[4000 rows x 4 columns]",
      "text/html": "<div>\n<style scoped>\n    .dataframe tbody tr th:only-of-type {\n        vertical-align: middle;\n    }\n\n    .dataframe tbody tr th {\n        vertical-align: top;\n    }\n\n    .dataframe thead th {\n        text-align: right;\n    }\n</style>\n<table border=\"1\" class=\"dataframe\">\n  <thead>\n    <tr style=\"text-align: right;\">\n      <th></th>\n      <th>question</th>\n      <th>answers</th>\n      <th>is_pair</th>\n      <th>similarity</th>\n    </tr>\n  </thead>\n  <tbody>\n    <tr>\n      <th>0</th>\n      <td>what is the key element used in eczema treatment</td>\n      <td>i dont have that information</td>\n      <td>0</td>\n      <td>0.000000</td>\n    </tr>\n    <tr>\n      <th>1</th>\n      <td>what is a public school in rigby idaho</td>\n      <td>a public school in rigby idaho is rigby high s...</td>\n      <td>1</td>\n      <td>0.908614</td>\n    </tr>\n    <tr>\n      <th>2</th>\n      <td>what is jeanchristophe sanchezs profession</td>\n      <td>jeanchristophe sanchez is a professional chef</td>\n      <td>1</td>\n      <td>0.669353</td>\n    </tr>\n    <tr>\n      <th>3</th>\n      <td>whats the active ingredient in menthol methyl ...</td>\n      <td>the music for the film italian for beginners w...</td>\n      <td>0</td>\n      <td>0.016729</td>\n    </tr>\n    <tr>\n      <th>4</th>\n      <td>who is clara harris parent</td>\n      <td>clara harriss parents are vic and becky mcleod</td>\n      <td>1</td>\n      <td>0.383299</td>\n    </tr>\n    <tr>\n      <th>...</th>\n      <td>...</td>\n      <td>...</td>\n      <td>...</td>\n      <td>...</td>\n    </tr>\n    <tr>\n      <th>3995</th>\n      <td>what is the genre of the album faithful</td>\n      <td>the genre of the album faithful is poprock</td>\n      <td>1</td>\n      <td>0.732963</td>\n    </tr>\n    <tr>\n      <th>3996</th>\n      <td>what type of album is the album milestones</td>\n      <td>natalia castellanos was born in mexico city</td>\n      <td>0</td>\n      <td>0.000000</td>\n    </tr>\n    <tr>\n      <th>3997</th>\n      <td>what company published the game bejeweled 2 de...</td>\n      <td>popcap games</td>\n      <td>1</td>\n      <td>0.137448</td>\n    </tr>\n    <tr>\n      <th>3998</th>\n      <td>what country is john viener a citizen of</td>\n      <td>john viener is a citizen of the united states</td>\n      <td>1</td>\n      <td>0.825588</td>\n    </tr>\n    <tr>\n      <th>3999</th>\n      <td>what is a book by jules verne</td>\n      <td>twenty thousand leagues under the sea</td>\n      <td>1</td>\n      <td>0.000000</td>\n    </tr>\n  </tbody>\n</table>\n<p>4000 rows × 4 columns</p>\n</div>"
     },
     "execution_count": 86,
     "metadata": {},
     "output_type": "execute_result"
    }
   ],
   "source": [
    "# Shuffle dataframe and reset index\n",
    "model_df= model_df.sample(frac=1, random_state=7)\n",
    "model_df.reset_index(drop=True, inplace=True)\n",
    "model_df"
   ],
   "metadata": {
    "collapsed": false,
    "ExecuteTime": {
     "end_time": "2024-04-18T23:47:31.346919Z",
     "start_time": "2024-04-18T23:47:31.290530200Z"
    }
   },
   "id": "71f0e57200dbc90a"
  },
  {
   "cell_type": "code",
   "execution_count": 87,
   "outputs": [],
   "source": [
    "from sklearn.model_selection import train_test_split\n",
    "\n",
    "# train test split\n",
    "X_train, X_test, y_train, y_test = train_test_split(model_df[['similarity']], model_df['is_pair'], test_size=0.2, random_state=7)"
   ],
   "metadata": {
    "collapsed": false,
    "ExecuteTime": {
     "end_time": "2024-04-18T23:47:31.362736700Z",
     "start_time": "2024-04-18T23:47:31.305360600Z"
    }
   },
   "id": "9762993f5ea5901b"
  },
  {
   "cell_type": "code",
   "execution_count": 88,
   "outputs": [
    {
     "data": {
      "text/plain": "LogisticRegression()",
      "text/html": "<style>#sk-container-id-2 {\n  /* Definition of color scheme common for light and dark mode */\n  --sklearn-color-text: black;\n  --sklearn-color-line: gray;\n  /* Definition of color scheme for unfitted estimators */\n  --sklearn-color-unfitted-level-0: #fff5e6;\n  --sklearn-color-unfitted-level-1: #f6e4d2;\n  --sklearn-color-unfitted-level-2: #ffe0b3;\n  --sklearn-color-unfitted-level-3: chocolate;\n  /* Definition of color scheme for fitted estimators */\n  --sklearn-color-fitted-level-0: #f0f8ff;\n  --sklearn-color-fitted-level-1: #d4ebff;\n  --sklearn-color-fitted-level-2: #b3dbfd;\n  --sklearn-color-fitted-level-3: cornflowerblue;\n\n  /* Specific color for light theme */\n  --sklearn-color-text-on-default-background: var(--sg-text-color, var(--theme-code-foreground, var(--jp-content-font-color1, black)));\n  --sklearn-color-background: var(--sg-background-color, var(--theme-background, var(--jp-layout-color0, white)));\n  --sklearn-color-border-box: var(--sg-text-color, var(--theme-code-foreground, var(--jp-content-font-color1, black)));\n  --sklearn-color-icon: #696969;\n\n  @media (prefers-color-scheme: dark) {\n    /* Redefinition of color scheme for dark theme */\n    --sklearn-color-text-on-default-background: var(--sg-text-color, var(--theme-code-foreground, var(--jp-content-font-color1, white)));\n    --sklearn-color-background: var(--sg-background-color, var(--theme-background, var(--jp-layout-color0, #111)));\n    --sklearn-color-border-box: var(--sg-text-color, var(--theme-code-foreground, var(--jp-content-font-color1, white)));\n    --sklearn-color-icon: #878787;\n  }\n}\n\n#sk-container-id-2 {\n  color: var(--sklearn-color-text);\n}\n\n#sk-container-id-2 pre {\n  padding: 0;\n}\n\n#sk-container-id-2 input.sk-hidden--visually {\n  border: 0;\n  clip: rect(1px 1px 1px 1px);\n  clip: rect(1px, 1px, 1px, 1px);\n  height: 1px;\n  margin: -1px;\n  overflow: hidden;\n  padding: 0;\n  position: absolute;\n  width: 1px;\n}\n\n#sk-container-id-2 div.sk-dashed-wrapped {\n  border: 1px dashed var(--sklearn-color-line);\n  margin: 0 0.4em 0.5em 0.4em;\n  box-sizing: border-box;\n  padding-bottom: 0.4em;\n  background-color: var(--sklearn-color-background);\n}\n\n#sk-container-id-2 div.sk-container {\n  /* jupyter's `normalize.less` sets `[hidden] { display: none; }`\n     but bootstrap.min.css set `[hidden] { display: none !important; }`\n     so we also need the `!important` here to be able to override the\n     default hidden behavior on the sphinx rendered scikit-learn.org.\n     See: https://github.com/scikit-learn/scikit-learn/issues/21755 */\n  display: inline-block !important;\n  position: relative;\n}\n\n#sk-container-id-2 div.sk-text-repr-fallback {\n  display: none;\n}\n\ndiv.sk-parallel-item,\ndiv.sk-serial,\ndiv.sk-item {\n  /* draw centered vertical line to link estimators */\n  background-image: linear-gradient(var(--sklearn-color-text-on-default-background), var(--sklearn-color-text-on-default-background));\n  background-size: 2px 100%;\n  background-repeat: no-repeat;\n  background-position: center center;\n}\n\n/* Parallel-specific style estimator block */\n\n#sk-container-id-2 div.sk-parallel-item::after {\n  content: \"\";\n  width: 100%;\n  border-bottom: 2px solid var(--sklearn-color-text-on-default-background);\n  flex-grow: 1;\n}\n\n#sk-container-id-2 div.sk-parallel {\n  display: flex;\n  align-items: stretch;\n  justify-content: center;\n  background-color: var(--sklearn-color-background);\n  position: relative;\n}\n\n#sk-container-id-2 div.sk-parallel-item {\n  display: flex;\n  flex-direction: column;\n}\n\n#sk-container-id-2 div.sk-parallel-item:first-child::after {\n  align-self: flex-end;\n  width: 50%;\n}\n\n#sk-container-id-2 div.sk-parallel-item:last-child::after {\n  align-self: flex-start;\n  width: 50%;\n}\n\n#sk-container-id-2 div.sk-parallel-item:only-child::after {\n  width: 0;\n}\n\n/* Serial-specific style estimator block */\n\n#sk-container-id-2 div.sk-serial {\n  display: flex;\n  flex-direction: column;\n  align-items: center;\n  background-color: var(--sklearn-color-background);\n  padding-right: 1em;\n  padding-left: 1em;\n}\n\n\n/* Toggleable style: style used for estimator/Pipeline/ColumnTransformer box that is\nclickable and can be expanded/collapsed.\n- Pipeline and ColumnTransformer use this feature and define the default style\n- Estimators will overwrite some part of the style using the `sk-estimator` class\n*/\n\n/* Pipeline and ColumnTransformer style (default) */\n\n#sk-container-id-2 div.sk-toggleable {\n  /* Default theme specific background. It is overwritten whether we have a\n  specific estimator or a Pipeline/ColumnTransformer */\n  background-color: var(--sklearn-color-background);\n}\n\n/* Toggleable label */\n#sk-container-id-2 label.sk-toggleable__label {\n  cursor: pointer;\n  display: block;\n  width: 100%;\n  margin-bottom: 0;\n  padding: 0.5em;\n  box-sizing: border-box;\n  text-align: center;\n}\n\n#sk-container-id-2 label.sk-toggleable__label-arrow:before {\n  /* Arrow on the left of the label */\n  content: \"▸\";\n  float: left;\n  margin-right: 0.25em;\n  color: var(--sklearn-color-icon);\n}\n\n#sk-container-id-2 label.sk-toggleable__label-arrow:hover:before {\n  color: var(--sklearn-color-text);\n}\n\n/* Toggleable content - dropdown */\n\n#sk-container-id-2 div.sk-toggleable__content {\n  max-height: 0;\n  max-width: 0;\n  overflow: hidden;\n  text-align: left;\n  /* unfitted */\n  background-color: var(--sklearn-color-unfitted-level-0);\n}\n\n#sk-container-id-2 div.sk-toggleable__content.fitted {\n  /* fitted */\n  background-color: var(--sklearn-color-fitted-level-0);\n}\n\n#sk-container-id-2 div.sk-toggleable__content pre {\n  margin: 0.2em;\n  border-radius: 0.25em;\n  color: var(--sklearn-color-text);\n  /* unfitted */\n  background-color: var(--sklearn-color-unfitted-level-0);\n}\n\n#sk-container-id-2 div.sk-toggleable__content.fitted pre {\n  /* unfitted */\n  background-color: var(--sklearn-color-fitted-level-0);\n}\n\n#sk-container-id-2 input.sk-toggleable__control:checked~div.sk-toggleable__content {\n  /* Expand drop-down */\n  max-height: 200px;\n  max-width: 100%;\n  overflow: auto;\n}\n\n#sk-container-id-2 input.sk-toggleable__control:checked~label.sk-toggleable__label-arrow:before {\n  content: \"▾\";\n}\n\n/* Pipeline/ColumnTransformer-specific style */\n\n#sk-container-id-2 div.sk-label input.sk-toggleable__control:checked~label.sk-toggleable__label {\n  color: var(--sklearn-color-text);\n  background-color: var(--sklearn-color-unfitted-level-2);\n}\n\n#sk-container-id-2 div.sk-label.fitted input.sk-toggleable__control:checked~label.sk-toggleable__label {\n  background-color: var(--sklearn-color-fitted-level-2);\n}\n\n/* Estimator-specific style */\n\n/* Colorize estimator box */\n#sk-container-id-2 div.sk-estimator input.sk-toggleable__control:checked~label.sk-toggleable__label {\n  /* unfitted */\n  background-color: var(--sklearn-color-unfitted-level-2);\n}\n\n#sk-container-id-2 div.sk-estimator.fitted input.sk-toggleable__control:checked~label.sk-toggleable__label {\n  /* fitted */\n  background-color: var(--sklearn-color-fitted-level-2);\n}\n\n#sk-container-id-2 div.sk-label label.sk-toggleable__label,\n#sk-container-id-2 div.sk-label label {\n  /* The background is the default theme color */\n  color: var(--sklearn-color-text-on-default-background);\n}\n\n/* On hover, darken the color of the background */\n#sk-container-id-2 div.sk-label:hover label.sk-toggleable__label {\n  color: var(--sklearn-color-text);\n  background-color: var(--sklearn-color-unfitted-level-2);\n}\n\n/* Label box, darken color on hover, fitted */\n#sk-container-id-2 div.sk-label.fitted:hover label.sk-toggleable__label.fitted {\n  color: var(--sklearn-color-text);\n  background-color: var(--sklearn-color-fitted-level-2);\n}\n\n/* Estimator label */\n\n#sk-container-id-2 div.sk-label label {\n  font-family: monospace;\n  font-weight: bold;\n  display: inline-block;\n  line-height: 1.2em;\n}\n\n#sk-container-id-2 div.sk-label-container {\n  text-align: center;\n}\n\n/* Estimator-specific */\n#sk-container-id-2 div.sk-estimator {\n  font-family: monospace;\n  border: 1px dotted var(--sklearn-color-border-box);\n  border-radius: 0.25em;\n  box-sizing: border-box;\n  margin-bottom: 0.5em;\n  /* unfitted */\n  background-color: var(--sklearn-color-unfitted-level-0);\n}\n\n#sk-container-id-2 div.sk-estimator.fitted {\n  /* fitted */\n  background-color: var(--sklearn-color-fitted-level-0);\n}\n\n/* on hover */\n#sk-container-id-2 div.sk-estimator:hover {\n  /* unfitted */\n  background-color: var(--sklearn-color-unfitted-level-2);\n}\n\n#sk-container-id-2 div.sk-estimator.fitted:hover {\n  /* fitted */\n  background-color: var(--sklearn-color-fitted-level-2);\n}\n\n/* Specification for estimator info (e.g. \"i\" and \"?\") */\n\n/* Common style for \"i\" and \"?\" */\n\n.sk-estimator-doc-link,\na:link.sk-estimator-doc-link,\na:visited.sk-estimator-doc-link {\n  float: right;\n  font-size: smaller;\n  line-height: 1em;\n  font-family: monospace;\n  background-color: var(--sklearn-color-background);\n  border-radius: 1em;\n  height: 1em;\n  width: 1em;\n  text-decoration: none !important;\n  margin-left: 1ex;\n  /* unfitted */\n  border: var(--sklearn-color-unfitted-level-1) 1pt solid;\n  color: var(--sklearn-color-unfitted-level-1);\n}\n\n.sk-estimator-doc-link.fitted,\na:link.sk-estimator-doc-link.fitted,\na:visited.sk-estimator-doc-link.fitted {\n  /* fitted */\n  border: var(--sklearn-color-fitted-level-1) 1pt solid;\n  color: var(--sklearn-color-fitted-level-1);\n}\n\n/* On hover */\ndiv.sk-estimator:hover .sk-estimator-doc-link:hover,\n.sk-estimator-doc-link:hover,\ndiv.sk-label-container:hover .sk-estimator-doc-link:hover,\n.sk-estimator-doc-link:hover {\n  /* unfitted */\n  background-color: var(--sklearn-color-unfitted-level-3);\n  color: var(--sklearn-color-background);\n  text-decoration: none;\n}\n\ndiv.sk-estimator.fitted:hover .sk-estimator-doc-link.fitted:hover,\n.sk-estimator-doc-link.fitted:hover,\ndiv.sk-label-container:hover .sk-estimator-doc-link.fitted:hover,\n.sk-estimator-doc-link.fitted:hover {\n  /* fitted */\n  background-color: var(--sklearn-color-fitted-level-3);\n  color: var(--sklearn-color-background);\n  text-decoration: none;\n}\n\n/* Span, style for the box shown on hovering the info icon */\n.sk-estimator-doc-link span {\n  display: none;\n  z-index: 9999;\n  position: relative;\n  font-weight: normal;\n  right: .2ex;\n  padding: .5ex;\n  margin: .5ex;\n  width: min-content;\n  min-width: 20ex;\n  max-width: 50ex;\n  color: var(--sklearn-color-text);\n  box-shadow: 2pt 2pt 4pt #999;\n  /* unfitted */\n  background: var(--sklearn-color-unfitted-level-0);\n  border: .5pt solid var(--sklearn-color-unfitted-level-3);\n}\n\n.sk-estimator-doc-link.fitted span {\n  /* fitted */\n  background: var(--sklearn-color-fitted-level-0);\n  border: var(--sklearn-color-fitted-level-3);\n}\n\n.sk-estimator-doc-link:hover span {\n  display: block;\n}\n\n/* \"?\"-specific style due to the `<a>` HTML tag */\n\n#sk-container-id-2 a.estimator_doc_link {\n  float: right;\n  font-size: 1rem;\n  line-height: 1em;\n  font-family: monospace;\n  background-color: var(--sklearn-color-background);\n  border-radius: 1rem;\n  height: 1rem;\n  width: 1rem;\n  text-decoration: none;\n  /* unfitted */\n  color: var(--sklearn-color-unfitted-level-1);\n  border: var(--sklearn-color-unfitted-level-1) 1pt solid;\n}\n\n#sk-container-id-2 a.estimator_doc_link.fitted {\n  /* fitted */\n  border: var(--sklearn-color-fitted-level-1) 1pt solid;\n  color: var(--sklearn-color-fitted-level-1);\n}\n\n/* On hover */\n#sk-container-id-2 a.estimator_doc_link:hover {\n  /* unfitted */\n  background-color: var(--sklearn-color-unfitted-level-3);\n  color: var(--sklearn-color-background);\n  text-decoration: none;\n}\n\n#sk-container-id-2 a.estimator_doc_link.fitted:hover {\n  /* fitted */\n  background-color: var(--sklearn-color-fitted-level-3);\n}\n</style><div id=\"sk-container-id-2\" class=\"sk-top-container\"><div class=\"sk-text-repr-fallback\"><pre>LogisticRegression()</pre><b>In a Jupyter environment, please rerun this cell to show the HTML representation or trust the notebook. <br />On GitHub, the HTML representation is unable to render, please try loading this page with nbviewer.org.</b></div><div class=\"sk-container\" hidden><div class=\"sk-item\"><div class=\"sk-estimator fitted sk-toggleable\"><input class=\"sk-toggleable__control sk-hidden--visually\" id=\"sk-estimator-id-2\" type=\"checkbox\" checked><label for=\"sk-estimator-id-2\" class=\"sk-toggleable__label fitted sk-toggleable__label-arrow fitted\">&nbsp;&nbsp;LogisticRegression<a class=\"sk-estimator-doc-link fitted\" rel=\"noreferrer\" target=\"_blank\" href=\"https://scikit-learn.org/1.4/modules/generated/sklearn.linear_model.LogisticRegression.html\">?<span>Documentation for LogisticRegression</span></a><span class=\"sk-estimator-doc-link fitted\">i<span>Fitted</span></span></label><div class=\"sk-toggleable__content fitted\"><pre>LogisticRegression()</pre></div> </div></div></div></div>"
     },
     "execution_count": 88,
     "metadata": {},
     "output_type": "execute_result"
    }
   ],
   "source": [
    "from sklearn.linear_model import LogisticRegression\n",
    "\n",
    "# create and train the model\n",
    "lr_classifier = LogisticRegression()\n",
    "lr_classifier.fit(X_train, y_train)"
   ],
   "metadata": {
    "collapsed": false,
    "ExecuteTime": {
     "end_time": "2024-04-18T23:47:31.395821100Z",
     "start_time": "2024-04-18T23:47:31.321898500Z"
    }
   },
   "id": "8d82f99e12dceca6"
  },
  {
   "cell_type": "code",
   "execution_count": 89,
   "outputs": [],
   "source": [
    "# Predictions\n",
    "y_pred_lr = lr_classifier.predict(X_test)"
   ],
   "metadata": {
    "collapsed": false,
    "ExecuteTime": {
     "end_time": "2024-04-18T23:47:31.433940600Z",
     "start_time": "2024-04-18T23:47:31.351918500Z"
    }
   },
   "id": "a3076b79b8b5878b"
  },
  {
   "cell_type": "code",
   "execution_count": 90,
   "outputs": [
    {
     "name": "stdout",
     "output_type": "stream",
     "text": [
      "TF-IDF + Logistic Regression Classifier Question Answer Pairs with Tokenization and Stemming:\n",
      "Accuracy: 0.89875\n",
      "Classification Report:\n",
      "               precision    recall  f1-score   support\n",
      "\n",
      "           0       0.84      0.99      0.91       406\n",
      "           1       0.99      0.80      0.89       394\n",
      "\n",
      "    accuracy                           0.90       800\n",
      "   macro avg       0.91      0.90      0.90       800\n",
      "weighted avg       0.91      0.90      0.90       800\n"
     ]
    }
   ],
   "source": [
    "from sklearn.metrics import accuracy_score, classification_report\n",
    "\n",
    "# Evaluation\n",
    "print(\"TF-IDF + Logistic Regression Classifier Question Answer Pairs with Tokenization and Stemming:\")\n",
    "print(\"Accuracy:\", accuracy_score(y_test, y_pred_lr))\n",
    "print(\"Classification Report:\\n\", classification_report(y_test, y_pred_lr))"
   ],
   "metadata": {
    "collapsed": false,
    "ExecuteTime": {
     "end_time": "2024-04-18T23:47:31.470509700Z",
     "start_time": "2024-04-18T23:47:31.368726100Z"
    }
   },
   "id": "f889c9d4d89fae18"
  },
  {
   "cell_type": "code",
   "execution_count": 91,
   "outputs": [
    {
     "data": {
      "text/plain": "<Figure size 640x480 with 1 Axes>",
      "image/png": "[encoded data removed]"
     },
     "metadata": {},
     "output_type": "display_data"
    }
   ],
   "source": [
    "# Plot cosine similarity distributions for test set\n",
    "import matplotlib.pyplot as plt\n",
    "import seaborn as sns\n",
    "box_df = X_test.copy()\n",
    "box_df['class'] = y_test\n",
    "sns.boxplot(data=box_df, x='class', y='similarity')\n",
    "plt.title('Cosine Similarity Scores for Non Pairs and Pairs Respectively')\n",
    "plt.show()\n"
   ],
   "metadata": {
    "collapsed": false,
    "ExecuteTime": {
     "end_time": "2024-04-18T23:47:31.556761600Z",
     "start_time": "2024-04-18T23:47:31.383775500Z"
    }
   },
   "id": "a02f06a35a7c98b0"
  },
  {
   "cell_type": "code",
   "execution_count": 92,
   "outputs": [],
   "source": [
    "# Error analysis"
   ],
   "metadata": {
    "collapsed": false,
    "ExecuteTime": {
     "end_time": "2024-04-18T23:47:31.620407600Z",
     "start_time": "2024-04-18T23:47:31.557762800Z"
    }
   },
   "id": "45151e66de0eed3"
  },
  {
   "cell_type": "code",
   "execution_count": 93,
   "outputs": [],
   "source": [
    "predicted_proba = lr_classifier.predict_proba(X_test)"
   ],
   "metadata": {
    "collapsed": false,
    "ExecuteTime": {
     "end_time": "2024-04-18T23:47:31.621914700Z",
     "start_time": "2024-04-18T23:47:31.571809800Z"
    }
   },
   "id": "b8f6564167e3e181"
  },
  {
   "cell_type": "code",
   "execution_count": 94,
   "outputs": [
    {
     "data": {
      "text/plain": "RangeIndex(start=0, stop=2, step=1)"
     },
     "execution_count": 94,
     "metadata": {},
     "output_type": "execute_result"
    }
   ],
   "source": [
    "prob_df = pd.DataFrame(predicted_proba)\n",
    "prob_df.columns"
   ],
   "metadata": {
    "collapsed": false,
    "ExecuteTime": {
     "end_time": "2024-04-18T23:47:31.621914700Z",
     "start_time": "2024-04-18T23:47:31.588346900Z"
    }
   },
   "id": "b99019f48cab843b"
  },
  {
   "cell_type": "code",
   "execution_count": 95,
   "outputs": [],
   "source": [
    "from sklearn.metrics import brier_score_loss\n",
    "\n",
    "brier_score = brier_score_loss(y_test, prob_df[1])"
   ],
   "metadata": {
    "collapsed": false,
    "ExecuteTime": {
     "end_time": "2024-04-18T23:47:31.622923700Z",
     "start_time": "2024-04-18T23:47:31.602892300Z"
    }
   },
   "id": "80aae678e01109a7"
  },
  {
   "cell_type": "code",
   "execution_count": 96,
   "outputs": [
    {
     "data": {
      "text/plain": "0.08646134580040499"
     },
     "execution_count": 96,
     "metadata": {},
     "output_type": "execute_result"
    }
   ],
   "source": [
    "brier_score"
   ],
   "metadata": {
    "collapsed": false,
    "ExecuteTime": {
     "end_time": "2024-04-18T23:47:31.655497500Z",
     "start_time": "2024-04-18T23:47:31.620407600Z"
    }
   },
   "id": "96c7f622dac46e15"
  },
  {
   "cell_type": "code",
   "execution_count": 98,
   "outputs": [
    {
     "data": {
      "text/plain": "['../models/pair_vectorizer.pkl']"
     },
     "execution_count": 98,
     "metadata": {},
     "output_type": "execute_result"
    }
   ],
   "source": [
    "import joblib\n",
    "\n",
    "joblib.dump(lr_classifier, '../models/pair_model.pkl')\n",
    "joblib.dump(tfidf_vectorizer, '../models/pair_vectorizer.pkl')"
   ],
   "metadata": {
    "collapsed": false,
    "ExecuteTime": {
     "end_time": "2024-04-18T23:50:08.676766800Z",
     "start_time": "2024-04-18T23:50:08.614799800Z"
    }
   },
   "id": "fec5cf48c231c15"
  },
  {
   "cell_type": "code",
   "execution_count": 97,
   "outputs": [],
   "source": [],
   "metadata": {
    "collapsed": false,
    "ExecuteTime": {
     "end_time": "2024-04-18T23:47:31.721729100Z",
     "start_time": "2024-04-18T23:47:31.681622800Z"
    }
   },
   "id": "701e8f65913dffef"
  }
 ],
 "metadata": {
  "kernelspec": {
   "display_name": "Python 3",
   "language": "python",
   "name": "python3"
  },
  "language_info": {
   "codemirror_mode": {
    "name": "ipython",
    "version": 2
   },
   "file_extension": ".py",
   "mimetype": "text/x-python",
   "name": "python",
   "nbconvert_exporter": "python",
   "pygments_lexer": "ipython2",
   "version": "2.7.6"
  }
 },
 "nbformat": 4,
 "nbformat_minor": 5
}
