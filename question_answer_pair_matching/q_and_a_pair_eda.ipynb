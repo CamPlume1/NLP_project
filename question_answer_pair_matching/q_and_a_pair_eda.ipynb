{
 "cells": [
  {
   "cell_type": "markdown",
   "source": [
    "# Disregard this Notebook-> Model for pair identification is in create_a_a_pair_models.ipynb\n",
    "## This notebook was used largely for EDA"
   ],
   "metadata": {
    "collapsed": false
   },
   "id": "a2b1f06fee8d6903"
  },
  {
   "cell_type": "code",
   "execution_count": 30,
   "id": "initial_id",
   "metadata": {
    "collapsed": true,
    "ExecuteTime": {
     "end_time": "2024-04-15T20:53:19.922349600Z",
     "start_time": "2024-04-15T20:53:19.813406100Z"
    }
   },
   "outputs": [
    {
     "name": "stdout",
     "output_type": "stream",
     "text": [
      "   Unnamed: 0                                           question  \\\n",
      "0           0  who was the trump ocean club international hot...   \n",
      "1           1                       where was sasha vujačić born   \n",
      "2           2   what is a region that dead combo was released in   \n",
      "3           3   what is a film directed by wiebke von carolsfeld   \n",
      "4           4  what country was music for stock exchange  rel...   \n",
      "\n",
      "                                             answers  \n",
      "0  the trump ocean club international hotel and t...  \n",
      "1         sasha vujačić was born in maribor slovenia  \n",
      "2                dead combo was released in portugal  \n",
      "3                                      marion bridge  \n",
      "4                                  the united states  \n",
      "   Unnamed: 0                                      question  \\\n",
      "0         500            who did the music for three amigos   \n",
      "1         501     what is the mouth of the clearwater river   \n",
      "2         502  what is the language spoken in melody cruise   \n",
      "3         503                  who wrote maisy goes camping   \n",
      "4         504       which song is composed by steve rothery   \n",
      "\n",
      "                                             answers  \n",
      "0   randy newman composed the music for three amigos  \n",
      "1  the mouth of the clearwater river is located n...  \n",
      "2    the language spoken on melody cruise is english  \n",
      "3              lucy cousins wrote maisy goes camping  \n",
      "4    ocean cloud is a song composed by steve rothery  \n",
      "   Unnamed: 0                                           question  \\\n",
      "0        1000  what olympic games was mens badminton singles ...   \n",
      "1        1001  what type of performancebased poetry is perfor...   \n",
      "2        1002  the album the rainwater lp is what type of mus...   \n",
      "3        1003               what is the genre of halcyon days ep   \n",
      "4        1004   what city is located in yakima county washington   \n",
      "\n",
      "                                             answers  \n",
      "0  mens badminton singles was a part of the olymp...  \n",
      "1  wesley willis performed a style of performance...  \n",
      "2  the album the rainwater lp is a blend of folk ...  \n",
      "3          the genre of halcyon days ep is indie pop  \n",
      "4  the city of yakima is located in yakima county...  \n",
      "   Unnamed: 0                                  question  \\\n",
      "0        1500                     what is gymkata rated   \n",
      "1        1501     what is the make of the buick limited   \n",
      "2        1502      what is james margelonys nationality   \n",
      "3        1503    what is an example of a netflix sitcom   \n",
      "4        1504  who composed the song love comes quickly   \n",
      "\n",
      "                                             answers  \n",
      "0                                                 pg  \n",
      "1             the make of the buick limited is buick  \n",
      "2           james margelonys nationality is american  \n",
      "3                                            friends  \n",
      "4  love comes quickly was composed by neil tennan...  \n",
      "   Unnamed: 0                                           question  \\\n",
      "0        2000                  what albums were released in 2000   \n",
      "1        2001                 which time zone is mifflin part of   \n",
      "2        2002  what is the active ingredient in the drug povi...   \n",
      "3        2003  what is a broadcast station where los lobos is...   \n",
      "4        2004      what can be found in houghton county michigan   \n",
      "\n",
      "                                             answers  \n",
      "0  kid a by radiohead and stankonia by outkast we...  \n",
      "1                mifflin is in the eastern time zone  \n",
      "2  the active ingredient in the drug povidoneiodi...  \n",
      "3               a radio station that plays los lobos  \n",
      "4  houghton county michigan is known for its beau...  \n",
      "   Unnamed: 0                                           question  \\\n",
      "0        2500                  who were the parents of blake cox   \n",
      "1        2501                     where was piotr pregowski born   \n",
      "2        2502                         where did karel plicka die   \n",
      "3        2503  what kind of educational institution is east m...   \n",
      "4        2504                in what country was oktapodi filmed   \n",
      "\n",
      "                                             answers  \n",
      "0  the parents of blake cox were sarah and robert...  \n",
      "1                 piotr pregowski was born in poland  \n",
      "2         karel plicka died in prague czechoslovakia  \n",
      "3  east mecklenburg high school is a public high ...  \n",
      "4                      oktapodi was filmed in greece  \n"
     ]
    }
   ],
   "source": [
    "import pandas as pd\n",
    "# Read in previously generated data\n",
    "subframes = []\n",
    "for i in range(0, 6):\n",
    "    subframes.append(pd.read_csv('../data_inspection/generated_and_cleaned/it_' + str(i) +'.csv'))\n",
    "    print(subframes[i].head(5))"
   ]
  },
  {
   "cell_type": "code",
   "execution_count": 31,
   "outputs": [],
   "source": [
    "# For each of these dataframes, drop the 'Unnamed: 0' column if it exists\n",
    "# Drop the 'Unnamed: 0' column if it exists\n",
    "for df in subframes:\n",
    "    if 'Unnamed: 0' in df.columns:\n",
    "        df.drop(columns=['Unnamed: 0'], inplace=True)"
   ],
   "metadata": {
    "collapsed": false,
    "ExecuteTime": {
     "end_time": "2024-04-15T20:53:19.923316400Z",
     "start_time": "2024-04-15T20:53:19.847756Z"
    }
   },
   "id": "de923cc9b1ced01d"
  },
  {
   "cell_type": "code",
   "execution_count": 32,
   "outputs": [],
   "source": [
    "# Concatenate all DataFrames vertically\n",
    "merged_df = pd.concat(subframes, ignore_index=True)"
   ],
   "metadata": {
    "collapsed": false,
    "ExecuteTime": {
     "end_time": "2024-04-15T20:53:19.923316400Z",
     "start_time": "2024-04-15T20:53:19.857226300Z"
    }
   },
   "id": "ea0fcb15af38d65b"
  },
  {
   "cell_type": "code",
   "execution_count": 33,
   "outputs": [
    {
     "data": {
      "text/plain": "                                               question  \\\n0     who was the trump ocean club international hot...   \n1                          where was sasha vujačić born   \n2      what is a region that dead combo was released in   \n3      what is a film directed by wiebke von carolsfeld   \n4     what country was music for stock exchange  rel...   \n...                                                 ...   \n2995  which country was the album 20 classics of the...   \n2996                                what is vouliagmeni   \n2997  what is the genre of artist that high five dri...   \n2998                what is the gender of pasquale tola   \n2999                    who recorded thinking about you   \n\n                                                answers  \n0     the trump ocean club international hotel and t...  \n1            sasha vujačić was born in maribor slovenia  \n2                   dead combo was released in portugal  \n3                                         marion bridge  \n4                                     the united states  \n...                                                 ...  \n2995                                 the united kingdom  \n2996  vouliagmeni is a coastal town located in the s...  \n2997                high five drive is a punk rock band  \n2998                      pasquale tolas gender is male  \n2999                                    miranda lambert  \n\n[3000 rows x 2 columns]",
      "text/html": "<div>\n<style scoped>\n    .dataframe tbody tr th:only-of-type {\n        vertical-align: middle;\n    }\n\n    .dataframe tbody tr th {\n        vertical-align: top;\n    }\n\n    .dataframe thead th {\n        text-align: right;\n    }\n</style>\n<table border=\"1\" class=\"dataframe\">\n  <thead>\n    <tr style=\"text-align: right;\">\n      <th></th>\n      <th>question</th>\n      <th>answers</th>\n    </tr>\n  </thead>\n  <tbody>\n    <tr>\n      <th>0</th>\n      <td>who was the trump ocean club international hot...</td>\n      <td>the trump ocean club international hotel and t...</td>\n    </tr>\n    <tr>\n      <th>1</th>\n      <td>where was sasha vujačić born</td>\n      <td>sasha vujačić was born in maribor slovenia</td>\n    </tr>\n    <tr>\n      <th>2</th>\n      <td>what is a region that dead combo was released in</td>\n      <td>dead combo was released in portugal</td>\n    </tr>\n    <tr>\n      <th>3</th>\n      <td>what is a film directed by wiebke von carolsfeld</td>\n      <td>marion bridge</td>\n    </tr>\n    <tr>\n      <th>4</th>\n      <td>what country was music for stock exchange  rel...</td>\n      <td>the united states</td>\n    </tr>\n    <tr>\n      <th>...</th>\n      <td>...</td>\n      <td>...</td>\n    </tr>\n    <tr>\n      <th>2995</th>\n      <td>which country was the album 20 classics of the...</td>\n      <td>the united kingdom</td>\n    </tr>\n    <tr>\n      <th>2996</th>\n      <td>what is vouliagmeni</td>\n      <td>vouliagmeni is a coastal town located in the s...</td>\n    </tr>\n    <tr>\n      <th>2997</th>\n      <td>what is the genre of artist that high five dri...</td>\n      <td>high five drive is a punk rock band</td>\n    </tr>\n    <tr>\n      <th>2998</th>\n      <td>what is the gender of pasquale tola</td>\n      <td>pasquale tolas gender is male</td>\n    </tr>\n    <tr>\n      <th>2999</th>\n      <td>who recorded thinking about you</td>\n      <td>miranda lambert</td>\n    </tr>\n  </tbody>\n</table>\n<p>3000 rows × 2 columns</p>\n</div>"
     },
     "execution_count": 33,
     "metadata": {},
     "output_type": "execute_result"
    }
   ],
   "source": [
    "merged_df"
   ],
   "metadata": {
    "collapsed": false,
    "ExecuteTime": {
     "end_time": "2024-04-15T20:53:19.924359400Z",
     "start_time": "2024-04-15T20:53:19.891240200Z"
    }
   },
   "id": "fe2a8608bd919dce"
  },
  {
   "cell_type": "code",
   "execution_count": 34,
   "outputs": [],
   "source": [
    "# Split df into halves\n",
    "midpoint = len(merged_df) // 2"
   ],
   "metadata": {
    "collapsed": false,
    "ExecuteTime": {
     "end_time": "2024-04-15T20:53:19.965400400Z",
     "start_time": "2024-04-15T20:53:19.921318300Z"
    }
   },
   "id": "c851760ade9d4fa"
  },
  {
   "cell_type": "code",
   "execution_count": 35,
   "outputs": [],
   "source": [
    "# Split in half\n",
    "subframes\n",
    "subframes = [merged_df.iloc[i*midpoint : (i+1)*midpoint] for i in range(2)]"
   ],
   "metadata": {
    "collapsed": false,
    "ExecuteTime": {
     "end_time": "2024-04-15T20:53:20.009736900Z",
     "start_time": "2024-04-15T20:53:19.953403500Z"
    }
   },
   "id": "e64037b5b7978f34"
  },
  {
   "cell_type": "code",
   "execution_count": 36,
   "outputs": [],
   "source": [
    "correct = subframes[0]\n",
    "incorrect = subframes[1]"
   ],
   "metadata": {
    "collapsed": false,
    "ExecuteTime": {
     "end_time": "2024-04-15T20:53:20.047845900Z",
     "start_time": "2024-04-15T20:53:19.967402600Z"
    }
   },
   "id": "724a92121b949b2d"
  },
  {
   "cell_type": "code",
   "execution_count": 37,
   "outputs": [
    {
     "data": {
      "text/plain": "                                               question  \\\n0     who was the trump ocean club international hot...   \n1                          where was sasha vujačić born   \n2      what is a region that dead combo was released in   \n3      what is a film directed by wiebke von carolsfeld   \n4     what country was music for stock exchange  rel...   \n...                                                 ...   \n1495                what is written by william willimon   \n1496  who manufactures perphenazine 4 film coated ta...   \n1497                   in which area is wynyard located   \n1498  what was the binding for the book the portrait...   \n1499              who is the writer of perfect creature   \n\n                                                answers  \n0     the trump ocean club international hotel and t...  \n1            sasha vujačić was born in maribor slovenia  \n2                   dead combo was released in portugal  \n3                                         marion bridge  \n4                                     the united states  \n...                                                 ...  \n1495  sermons and books on christian theology and mi...  \n1496  perphenazine 4 filmcoated tablets are manufact...  \n1497   wynyard is located in central tasmania australia  \n1498  the binding for the book the portrait of a lad...  \n1499  the writer of perfect creature is glenn standring  \n\n[1500 rows x 2 columns]",
      "text/html": "<div>\n<style scoped>\n    .dataframe tbody tr th:only-of-type {\n        vertical-align: middle;\n    }\n\n    .dataframe tbody tr th {\n        vertical-align: top;\n    }\n\n    .dataframe thead th {\n        text-align: right;\n    }\n</style>\n<table border=\"1\" class=\"dataframe\">\n  <thead>\n    <tr style=\"text-align: right;\">\n      <th></th>\n      <th>question</th>\n      <th>answers</th>\n    </tr>\n  </thead>\n  <tbody>\n    <tr>\n      <th>0</th>\n      <td>who was the trump ocean club international hot...</td>\n      <td>the trump ocean club international hotel and t...</td>\n    </tr>\n    <tr>\n      <th>1</th>\n      <td>where was sasha vujačić born</td>\n      <td>sasha vujačić was born in maribor slovenia</td>\n    </tr>\n    <tr>\n      <th>2</th>\n      <td>what is a region that dead combo was released in</td>\n      <td>dead combo was released in portugal</td>\n    </tr>\n    <tr>\n      <th>3</th>\n      <td>what is a film directed by wiebke von carolsfeld</td>\n      <td>marion bridge</td>\n    </tr>\n    <tr>\n      <th>4</th>\n      <td>what country was music for stock exchange  rel...</td>\n      <td>the united states</td>\n    </tr>\n    <tr>\n      <th>...</th>\n      <td>...</td>\n      <td>...</td>\n    </tr>\n    <tr>\n      <th>1495</th>\n      <td>what is written by william willimon</td>\n      <td>sermons and books on christian theology and mi...</td>\n    </tr>\n    <tr>\n      <th>1496</th>\n      <td>who manufactures perphenazine 4 film coated ta...</td>\n      <td>perphenazine 4 filmcoated tablets are manufact...</td>\n    </tr>\n    <tr>\n      <th>1497</th>\n      <td>in which area is wynyard located</td>\n      <td>wynyard is located in central tasmania australia</td>\n    </tr>\n    <tr>\n      <th>1498</th>\n      <td>what was the binding for the book the portrait...</td>\n      <td>the binding for the book the portrait of a lad...</td>\n    </tr>\n    <tr>\n      <th>1499</th>\n      <td>who is the writer of perfect creature</td>\n      <td>the writer of perfect creature is glenn standring</td>\n    </tr>\n  </tbody>\n</table>\n<p>1500 rows × 2 columns</p>\n</div>"
     },
     "execution_count": 37,
     "metadata": {},
     "output_type": "execute_result"
    }
   ],
   "source": [
    "correct"
   ],
   "metadata": {
    "collapsed": false,
    "ExecuteTime": {
     "end_time": "2024-04-15T20:53:20.083440500Z",
     "start_time": "2024-04-15T20:53:19.984476Z"
    }
   },
   "id": "8f3d2ec2f952d7b9"
  },
  {
   "cell_type": "code",
   "execution_count": 38,
   "outputs": [
    {
     "data": {
      "text/plain": "                                               question  \\\n1500                              what is gymkata rated   \n1501              what is the make of the buick limited   \n1502               what is james margelonys nationality   \n1503             what is an example of a netflix sitcom   \n1504           who composed the song love comes quickly   \n...                                                 ...   \n2995  which country was the album 20 classics of the...   \n2996                                what is vouliagmeni   \n2997  what is the genre of artist that high five dri...   \n2998                what is the gender of pasquale tola   \n2999                    who recorded thinking about you   \n\n                                                answers  \n1500                                                 pg  \n1501             the make of the buick limited is buick  \n1502           james margelonys nationality is american  \n1503                                            friends  \n1504  love comes quickly was composed by neil tennan...  \n...                                                 ...  \n2995                                 the united kingdom  \n2996  vouliagmeni is a coastal town located in the s...  \n2997                high five drive is a punk rock band  \n2998                      pasquale tolas gender is male  \n2999                                    miranda lambert  \n\n[1500 rows x 2 columns]",
      "text/html": "<div>\n<style scoped>\n    .dataframe tbody tr th:only-of-type {\n        vertical-align: middle;\n    }\n\n    .dataframe tbody tr th {\n        vertical-align: top;\n    }\n\n    .dataframe thead th {\n        text-align: right;\n    }\n</style>\n<table border=\"1\" class=\"dataframe\">\n  <thead>\n    <tr style=\"text-align: right;\">\n      <th></th>\n      <th>question</th>\n      <th>answers</th>\n    </tr>\n  </thead>\n  <tbody>\n    <tr>\n      <th>1500</th>\n      <td>what is gymkata rated</td>\n      <td>pg</td>\n    </tr>\n    <tr>\n      <th>1501</th>\n      <td>what is the make of the buick limited</td>\n      <td>the make of the buick limited is buick</td>\n    </tr>\n    <tr>\n      <th>1502</th>\n      <td>what is james margelonys nationality</td>\n      <td>james margelonys nationality is american</td>\n    </tr>\n    <tr>\n      <th>1503</th>\n      <td>what is an example of a netflix sitcom</td>\n      <td>friends</td>\n    </tr>\n    <tr>\n      <th>1504</th>\n      <td>who composed the song love comes quickly</td>\n      <td>love comes quickly was composed by neil tennan...</td>\n    </tr>\n    <tr>\n      <th>...</th>\n      <td>...</td>\n      <td>...</td>\n    </tr>\n    <tr>\n      <th>2995</th>\n      <td>which country was the album 20 classics of the...</td>\n      <td>the united kingdom</td>\n    </tr>\n    <tr>\n      <th>2996</th>\n      <td>what is vouliagmeni</td>\n      <td>vouliagmeni is a coastal town located in the s...</td>\n    </tr>\n    <tr>\n      <th>2997</th>\n      <td>what is the genre of artist that high five dri...</td>\n      <td>high five drive is a punk rock band</td>\n    </tr>\n    <tr>\n      <th>2998</th>\n      <td>what is the gender of pasquale tola</td>\n      <td>pasquale tolas gender is male</td>\n    </tr>\n    <tr>\n      <th>2999</th>\n      <td>who recorded thinking about you</td>\n      <td>miranda lambert</td>\n    </tr>\n  </tbody>\n</table>\n<p>1500 rows × 2 columns</p>\n</div>"
     },
     "execution_count": 38,
     "metadata": {},
     "output_type": "execute_result"
    }
   ],
   "source": [
    "incorrect"
   ],
   "metadata": {
    "collapsed": false,
    "ExecuteTime": {
     "end_time": "2024-04-15T20:53:20.084507600Z",
     "start_time": "2024-04-15T20:53:19.997639Z"
    }
   },
   "id": "5234e820b42d07bb"
  },
  {
   "cell_type": "code",
   "execution_count": 39,
   "outputs": [
    {
     "name": "stdout",
     "output_type": "stream",
     "text": [
      "miranda lambert\n"
     ]
    },
    {
     "name": "stderr",
     "output_type": "stream",
     "text": [
      "C:\\Users\\Cam\\AppData\\Local\\Temp\\ipykernel_36884\\1745878445.py:6: SettingWithCopyWarning: \n",
      "A value is trying to be set on a copy of a slice from a DataFrame.\n",
      "Try using .loc[row_indexer,col_indexer] = value instead\n",
      "\n",
      "See the caveats in the documentation: https://pandas.pydata.org/pandas-docs/stable/user_guide/indexing.html#returning-a-view-versus-a-copy\n",
      "  incorrect['answers'] = incorrect['answers'].shift(1)\n"
     ]
    }
   ],
   "source": [
    "# Get last value\n",
    "final_val = incorrect['answers'].iloc[-1]\n",
    "print(final_val)\n",
    "\n",
    "# Shift values in the 'y' column down by one row\n",
    "incorrect['answers'] = incorrect['answers'].shift(1)\n",
    "\n",
    "# Replace the last value of 'y' at position 0\n",
    "incorrect.iloc[0, incorrect.columns.get_loc('answers')] = final_val"
   ],
   "metadata": {
    "collapsed": false,
    "ExecuteTime": {
     "end_time": "2024-04-15T20:53:20.085443300Z",
     "start_time": "2024-04-15T20:53:20.015720200Z"
    }
   },
   "id": "b0603c1be4089123"
  },
  {
   "cell_type": "code",
   "execution_count": 40,
   "outputs": [
    {
     "data": {
      "text/plain": "                                               question  \\\n1500                              what is gymkata rated   \n1501              what is the make of the buick limited   \n1502               what is james margelonys nationality   \n1503             what is an example of a netflix sitcom   \n1504           who composed the song love comes quickly   \n...                                                 ...   \n2995  which country was the album 20 classics of the...   \n2996                                what is vouliagmeni   \n2997  what is the genre of artist that high five dri...   \n2998                what is the gender of pasquale tola   \n2999                    who recorded thinking about you   \n\n                                                answers  \n1500                                    miranda lambert  \n1501                                                 pg  \n1502             the make of the buick limited is buick  \n1503           james margelonys nationality is american  \n1504                                            friends  \n...                                                 ...  \n2995  thomas ambrose directed the art for the film t...  \n2996                                 the united kingdom  \n2997  vouliagmeni is a coastal town located in the s...  \n2998                high five drive is a punk rock band  \n2999                      pasquale tolas gender is male  \n\n[1500 rows x 2 columns]",
      "text/html": "<div>\n<style scoped>\n    .dataframe tbody tr th:only-of-type {\n        vertical-align: middle;\n    }\n\n    .dataframe tbody tr th {\n        vertical-align: top;\n    }\n\n    .dataframe thead th {\n        text-align: right;\n    }\n</style>\n<table border=\"1\" class=\"dataframe\">\n  <thead>\n    <tr style=\"text-align: right;\">\n      <th></th>\n      <th>question</th>\n      <th>answers</th>\n    </tr>\n  </thead>\n  <tbody>\n    <tr>\n      <th>1500</th>\n      <td>what is gymkata rated</td>\n      <td>miranda lambert</td>\n    </tr>\n    <tr>\n      <th>1501</th>\n      <td>what is the make of the buick limited</td>\n      <td>pg</td>\n    </tr>\n    <tr>\n      <th>1502</th>\n      <td>what is james margelonys nationality</td>\n      <td>the make of the buick limited is buick</td>\n    </tr>\n    <tr>\n      <th>1503</th>\n      <td>what is an example of a netflix sitcom</td>\n      <td>james margelonys nationality is american</td>\n    </tr>\n    <tr>\n      <th>1504</th>\n      <td>who composed the song love comes quickly</td>\n      <td>friends</td>\n    </tr>\n    <tr>\n      <th>...</th>\n      <td>...</td>\n      <td>...</td>\n    </tr>\n    <tr>\n      <th>2995</th>\n      <td>which country was the album 20 classics of the...</td>\n      <td>thomas ambrose directed the art for the film t...</td>\n    </tr>\n    <tr>\n      <th>2996</th>\n      <td>what is vouliagmeni</td>\n      <td>the united kingdom</td>\n    </tr>\n    <tr>\n      <th>2997</th>\n      <td>what is the genre of artist that high five dri...</td>\n      <td>vouliagmeni is a coastal town located in the s...</td>\n    </tr>\n    <tr>\n      <th>2998</th>\n      <td>what is the gender of pasquale tola</td>\n      <td>high five drive is a punk rock band</td>\n    </tr>\n    <tr>\n      <th>2999</th>\n      <td>who recorded thinking about you</td>\n      <td>pasquale tolas gender is male</td>\n    </tr>\n  </tbody>\n</table>\n<p>1500 rows × 2 columns</p>\n</div>"
     },
     "execution_count": 40,
     "metadata": {},
     "output_type": "execute_result"
    }
   ],
   "source": [
    "incorrect"
   ],
   "metadata": {
    "collapsed": false,
    "ExecuteTime": {
     "end_time": "2024-04-15T20:53:20.085443300Z",
     "start_time": "2024-04-15T20:53:20.030721600Z"
    }
   },
   "id": "60756fdf023d1b34"
  },
  {
   "cell_type": "code",
   "execution_count": 41,
   "outputs": [
    {
     "name": "stderr",
     "output_type": "stream",
     "text": [
      "C:\\Users\\Cam\\AppData\\Local\\Temp\\ipykernel_36884\\3542805647.py:2: SettingWithCopyWarning: \n",
      "A value is trying to be set on a copy of a slice from a DataFrame.\n",
      "Try using .loc[row_indexer,col_indexer] = value instead\n",
      "\n",
      "See the caveats in the documentation: https://pandas.pydata.org/pandas-docs/stable/user_guide/indexing.html#returning-a-view-versus-a-copy\n",
      "  correct['is_pair'] = [1] * len(correct)\n",
      "C:\\Users\\Cam\\AppData\\Local\\Temp\\ipykernel_36884\\3542805647.py:3: SettingWithCopyWarning: \n",
      "A value is trying to be set on a copy of a slice from a DataFrame.\n",
      "Try using .loc[row_indexer,col_indexer] = value instead\n",
      "\n",
      "See the caveats in the documentation: https://pandas.pydata.org/pandas-docs/stable/user_guide/indexing.html#returning-a-view-versus-a-copy\n",
      "  incorrect['is_pair'] = 0 * len(incorrect)\n"
     ]
    }
   ],
   "source": [
    "# Set target values\n",
    "correct['is_pair'] = [1] * len(correct)\n",
    "incorrect['is_pair'] = 0 * len(incorrect)"
   ],
   "metadata": {
    "collapsed": false,
    "ExecuteTime": {
     "end_time": "2024-04-15T20:53:20.086439500Z",
     "start_time": "2024-04-15T20:53:20.045851500Z"
    }
   },
   "id": "9e856cfdaa24513b"
  },
  {
   "cell_type": "code",
   "execution_count": 42,
   "outputs": [
    {
     "data": {
      "text/plain": "                                               question  \\\n0     who was the trump ocean club international hot...   \n1                          where was sasha vujačić born   \n2      what is a region that dead combo was released in   \n3      what is a film directed by wiebke von carolsfeld   \n4     what country was music for stock exchange  rel...   \n...                                                 ...   \n1495                what is written by william willimon   \n1496  who manufactures perphenazine 4 film coated ta...   \n1497                   in which area is wynyard located   \n1498  what was the binding for the book the portrait...   \n1499              who is the writer of perfect creature   \n\n                                                answers  is_pair  \n0     the trump ocean club international hotel and t...        1  \n1            sasha vujačić was born in maribor slovenia        1  \n2                   dead combo was released in portugal        1  \n3                                         marion bridge        1  \n4                                     the united states        1  \n...                                                 ...      ...  \n1495  sermons and books on christian theology and mi...        1  \n1496  perphenazine 4 filmcoated tablets are manufact...        1  \n1497   wynyard is located in central tasmania australia        1  \n1498  the binding for the book the portrait of a lad...        1  \n1499  the writer of perfect creature is glenn standring        1  \n\n[1500 rows x 3 columns]",
      "text/html": "<div>\n<style scoped>\n    .dataframe tbody tr th:only-of-type {\n        vertical-align: middle;\n    }\n\n    .dataframe tbody tr th {\n        vertical-align: top;\n    }\n\n    .dataframe thead th {\n        text-align: right;\n    }\n</style>\n<table border=\"1\" class=\"dataframe\">\n  <thead>\n    <tr style=\"text-align: right;\">\n      <th></th>\n      <th>question</th>\n      <th>answers</th>\n      <th>is_pair</th>\n    </tr>\n  </thead>\n  <tbody>\n    <tr>\n      <th>0</th>\n      <td>who was the trump ocean club international hot...</td>\n      <td>the trump ocean club international hotel and t...</td>\n      <td>1</td>\n    </tr>\n    <tr>\n      <th>1</th>\n      <td>where was sasha vujačić born</td>\n      <td>sasha vujačić was born in maribor slovenia</td>\n      <td>1</td>\n    </tr>\n    <tr>\n      <th>2</th>\n      <td>what is a region that dead combo was released in</td>\n      <td>dead combo was released in portugal</td>\n      <td>1</td>\n    </tr>\n    <tr>\n      <th>3</th>\n      <td>what is a film directed by wiebke von carolsfeld</td>\n      <td>marion bridge</td>\n      <td>1</td>\n    </tr>\n    <tr>\n      <th>4</th>\n      <td>what country was music for stock exchange  rel...</td>\n      <td>the united states</td>\n      <td>1</td>\n    </tr>\n    <tr>\n      <th>...</th>\n      <td>...</td>\n      <td>...</td>\n      <td>...</td>\n    </tr>\n    <tr>\n      <th>1495</th>\n      <td>what is written by william willimon</td>\n      <td>sermons and books on christian theology and mi...</td>\n      <td>1</td>\n    </tr>\n    <tr>\n      <th>1496</th>\n      <td>who manufactures perphenazine 4 film coated ta...</td>\n      <td>perphenazine 4 filmcoated tablets are manufact...</td>\n      <td>1</td>\n    </tr>\n    <tr>\n      <th>1497</th>\n      <td>in which area is wynyard located</td>\n      <td>wynyard is located in central tasmania australia</td>\n      <td>1</td>\n    </tr>\n    <tr>\n      <th>1498</th>\n      <td>what was the binding for the book the portrait...</td>\n      <td>the binding for the book the portrait of a lad...</td>\n      <td>1</td>\n    </tr>\n    <tr>\n      <th>1499</th>\n      <td>who is the writer of perfect creature</td>\n      <td>the writer of perfect creature is glenn standring</td>\n      <td>1</td>\n    </tr>\n  </tbody>\n</table>\n<p>1500 rows × 3 columns</p>\n</div>"
     },
     "execution_count": 42,
     "metadata": {},
     "output_type": "execute_result"
    }
   ],
   "source": [
    "correct"
   ],
   "metadata": {
    "collapsed": false,
    "ExecuteTime": {
     "end_time": "2024-04-15T20:53:20.088440700Z",
     "start_time": "2024-04-15T20:53:20.060441900Z"
    }
   },
   "id": "2842a51c25f5defe"
  },
  {
   "cell_type": "code",
   "execution_count": 43,
   "outputs": [
    {
     "data": {
      "text/plain": "                                               question  \\\n1500                              what is gymkata rated   \n1501              what is the make of the buick limited   \n1502               what is james margelonys nationality   \n1503             what is an example of a netflix sitcom   \n1504           who composed the song love comes quickly   \n...                                                 ...   \n2995  which country was the album 20 classics of the...   \n2996                                what is vouliagmeni   \n2997  what is the genre of artist that high five dri...   \n2998                what is the gender of pasquale tola   \n2999                    who recorded thinking about you   \n\n                                                answers  is_pair  \n1500                                    miranda lambert        0  \n1501                                                 pg        0  \n1502             the make of the buick limited is buick        0  \n1503           james margelonys nationality is american        0  \n1504                                            friends        0  \n...                                                 ...      ...  \n2995  thomas ambrose directed the art for the film t...        0  \n2996                                 the united kingdom        0  \n2997  vouliagmeni is a coastal town located in the s...        0  \n2998                high five drive is a punk rock band        0  \n2999                      pasquale tolas gender is male        0  \n\n[1500 rows x 3 columns]",
      "text/html": "<div>\n<style scoped>\n    .dataframe tbody tr th:only-of-type {\n        vertical-align: middle;\n    }\n\n    .dataframe tbody tr th {\n        vertical-align: top;\n    }\n\n    .dataframe thead th {\n        text-align: right;\n    }\n</style>\n<table border=\"1\" class=\"dataframe\">\n  <thead>\n    <tr style=\"text-align: right;\">\n      <th></th>\n      <th>question</th>\n      <th>answers</th>\n      <th>is_pair</th>\n    </tr>\n  </thead>\n  <tbody>\n    <tr>\n      <th>1500</th>\n      <td>what is gymkata rated</td>\n      <td>miranda lambert</td>\n      <td>0</td>\n    </tr>\n    <tr>\n      <th>1501</th>\n      <td>what is the make of the buick limited</td>\n      <td>pg</td>\n      <td>0</td>\n    </tr>\n    <tr>\n      <th>1502</th>\n      <td>what is james margelonys nationality</td>\n      <td>the make of the buick limited is buick</td>\n      <td>0</td>\n    </tr>\n    <tr>\n      <th>1503</th>\n      <td>what is an example of a netflix sitcom</td>\n      <td>james margelonys nationality is american</td>\n      <td>0</td>\n    </tr>\n    <tr>\n      <th>1504</th>\n      <td>who composed the song love comes quickly</td>\n      <td>friends</td>\n      <td>0</td>\n    </tr>\n    <tr>\n      <th>...</th>\n      <td>...</td>\n      <td>...</td>\n      <td>...</td>\n    </tr>\n    <tr>\n      <th>2995</th>\n      <td>which country was the album 20 classics of the...</td>\n      <td>thomas ambrose directed the art for the film t...</td>\n      <td>0</td>\n    </tr>\n    <tr>\n      <th>2996</th>\n      <td>what is vouliagmeni</td>\n      <td>the united kingdom</td>\n      <td>0</td>\n    </tr>\n    <tr>\n      <th>2997</th>\n      <td>what is the genre of artist that high five dri...</td>\n      <td>vouliagmeni is a coastal town located in the s...</td>\n      <td>0</td>\n    </tr>\n    <tr>\n      <th>2998</th>\n      <td>what is the gender of pasquale tola</td>\n      <td>high five drive is a punk rock band</td>\n      <td>0</td>\n    </tr>\n    <tr>\n      <th>2999</th>\n      <td>who recorded thinking about you</td>\n      <td>pasquale tolas gender is male</td>\n      <td>0</td>\n    </tr>\n  </tbody>\n</table>\n<p>1500 rows × 3 columns</p>\n</div>"
     },
     "execution_count": 43,
     "metadata": {},
     "output_type": "execute_result"
    }
   ],
   "source": [
    "incorrect"
   ],
   "metadata": {
    "collapsed": false,
    "ExecuteTime": {
     "end_time": "2024-04-15T20:53:20.160980500Z",
     "start_time": "2024-04-15T20:53:20.077443100Z"
    }
   },
   "id": "aa78956c3c5b0b20"
  },
  {
   "cell_type": "code",
   "execution_count": 44,
   "outputs": [
    {
     "data": {
      "text/plain": "                                               question  \\\n0              maryna zanevska is what kind of a player   \n1              name a company in the filmmaker industry   \n2     whats an album featuring music by ella fitzgerald   \n3           what are netflix titles in the france genre   \n4     what is the active ingredient of titanium dioxide   \n...                                                 ...   \n2995            what is the genre of the album faithful   \n2996         what type of album is the album milestones   \n2997  what company published the game bejeweled 2 de...   \n2998           what country is john viener a citizen of   \n2999                      what is a book by jules verne   \n\n                                                answers  is_pair  \n0       maryna zanevska is a professional tennis player        1  \n1                                         rank stranger        0  \n2     one possible answer could be ella and louis by...        1  \n3        les zygs le secret des disparus is from france        0  \n4                     gridiron is a type of sports book        0  \n...                                                 ...      ...  \n2995       jan wiley was born in los angeles california        0  \n2996        natalia castellanos was born in mexico city        0  \n2997                                       popcap games        1  \n2998      john viener is a citizen of the united states        1  \n2999              twenty thousand leagues under the sea        1  \n\n[3000 rows x 3 columns]",
      "text/html": "<div>\n<style scoped>\n    .dataframe tbody tr th:only-of-type {\n        vertical-align: middle;\n    }\n\n    .dataframe tbody tr th {\n        vertical-align: top;\n    }\n\n    .dataframe thead th {\n        text-align: right;\n    }\n</style>\n<table border=\"1\" class=\"dataframe\">\n  <thead>\n    <tr style=\"text-align: right;\">\n      <th></th>\n      <th>question</th>\n      <th>answers</th>\n      <th>is_pair</th>\n    </tr>\n  </thead>\n  <tbody>\n    <tr>\n      <th>0</th>\n      <td>maryna zanevska is what kind of a player</td>\n      <td>maryna zanevska is a professional tennis player</td>\n      <td>1</td>\n    </tr>\n    <tr>\n      <th>1</th>\n      <td>name a company in the filmmaker industry</td>\n      <td>rank stranger</td>\n      <td>0</td>\n    </tr>\n    <tr>\n      <th>2</th>\n      <td>whats an album featuring music by ella fitzgerald</td>\n      <td>one possible answer could be ella and louis by...</td>\n      <td>1</td>\n    </tr>\n    <tr>\n      <th>3</th>\n      <td>what are netflix titles in the france genre</td>\n      <td>les zygs le secret des disparus is from france</td>\n      <td>0</td>\n    </tr>\n    <tr>\n      <th>4</th>\n      <td>what is the active ingredient of titanium dioxide</td>\n      <td>gridiron is a type of sports book</td>\n      <td>0</td>\n    </tr>\n    <tr>\n      <th>...</th>\n      <td>...</td>\n      <td>...</td>\n      <td>...</td>\n    </tr>\n    <tr>\n      <th>2995</th>\n      <td>what is the genre of the album faithful</td>\n      <td>jan wiley was born in los angeles california</td>\n      <td>0</td>\n    </tr>\n    <tr>\n      <th>2996</th>\n      <td>what type of album is the album milestones</td>\n      <td>natalia castellanos was born in mexico city</td>\n      <td>0</td>\n    </tr>\n    <tr>\n      <th>2997</th>\n      <td>what company published the game bejeweled 2 de...</td>\n      <td>popcap games</td>\n      <td>1</td>\n    </tr>\n    <tr>\n      <th>2998</th>\n      <td>what country is john viener a citizen of</td>\n      <td>john viener is a citizen of the united states</td>\n      <td>1</td>\n    </tr>\n    <tr>\n      <th>2999</th>\n      <td>what is a book by jules verne</td>\n      <td>twenty thousand leagues under the sea</td>\n      <td>1</td>\n    </tr>\n  </tbody>\n</table>\n<p>3000 rows × 3 columns</p>\n</div>"
     },
     "execution_count": 44,
     "metadata": {},
     "output_type": "execute_result"
    }
   ],
   "source": [
    "# combine, randomly shuffle, reindex\n",
    "df = pd.concat([correct, incorrect], ignore_index=True)\n",
    "df = df.sample(frac=1, random_state=7)\n",
    "df.reset_index(drop=True, inplace=True)\n",
    "df"
   ],
   "metadata": {
    "collapsed": false,
    "ExecuteTime": {
     "end_time": "2024-04-15T20:53:20.176051900Z",
     "start_time": "2024-04-15T20:53:20.093442800Z"
    }
   },
   "id": "622f6f27e58dc59c"
  },
  {
   "cell_type": "code",
   "execution_count": 53,
   "outputs": [
    {
     "data": {
      "text/plain": "0                maryna zanevska is what kind of a player\n1                name a company in the filmmaker industry\n2       whats an album featuring music by ella fitzgerald\n3             what are netflix titles in the france genre\n4       what is the active ingredient of titanium dioxide\n                              ...                        \n2995         jan wiley was born in los angeles california\n2996          natalia castellanos was born in mexico city\n2997                                         popcap games\n2998        john viener is a citizen of the united states\n2999                twenty thousand leagues under the sea\nLength: 6000, dtype: object"
     },
     "execution_count": 53,
     "metadata": {},
     "output_type": "execute_result"
    }
   ],
   "source": [
    "# Create document list\n",
    "doc_collection = pd.concat([df['question'], df['answers']])\n",
    "doc_collection.columns = ['text']\n",
    "doc_collection"
   ],
   "metadata": {
    "collapsed": false,
    "ExecuteTime": {
     "end_time": "2024-04-15T21:27:54.708159400Z",
     "start_time": "2024-04-15T21:27:54.646289200Z"
    }
   },
   "id": "4db63e1c2afb60ac"
  },
  {
   "cell_type": "code",
   "execution_count": 46,
   "outputs": [],
   "source": [
    "from nltk import word_tokenize\n",
    "## Stemmer\n",
    "# Tokenization and stemming\n",
    "from nltk.stem import PorterStemmer\n",
    "stemmer = PorterStemmer()\n",
    "\n",
    "def tokenize_and_stem(text):\n",
    "    tokens = word_tokenize(text)\n",
    "    stemmed_tokens = [stemmer.stem(token) for token in tokens]\n",
    "    return stemmed_tokens"
   ],
   "metadata": {
    "collapsed": false,
    "ExecuteTime": {
     "end_time": "2024-04-15T21:03:01.131058700Z",
     "start_time": "2024-04-15T21:03:00.570795900Z"
    }
   },
   "id": "744825b3893e9587"
  },
  {
   "cell_type": "code",
   "execution_count": 48,
   "outputs": [
    {
     "name": "stderr",
     "output_type": "stream",
     "text": [
      "C:\\Users\\Cam\\PycharmProjects\\QARoute\\venv\\lib\\site-packages\\sklearn\\feature_extraction\\text.py:525: UserWarning: The parameter 'token_pattern' will not be used since 'tokenizer' is not None'\n",
      "  warnings.warn(\n"
     ]
    }
   ],
   "source": [
    "from sklearn.feature_extraction.text import TfidfVectorizer\n",
    "# Create Vectorizer\n",
    "tfidf_vectorizer = TfidfVectorizer(tokenizer=tokenize_and_stem)\n",
    "# Fit transform question, transform answer\n",
    "tf_idf_doc_matrix = tfidf_vectorizer.fit_transform(doc_collection['text'])"
   ],
   "metadata": {
    "collapsed": false,
    "ExecuteTime": {
     "end_time": "2024-04-15T21:03:10.392372300Z",
     "start_time": "2024-04-15T21:03:09.387445100Z"
    }
   },
   "id": "531ee673ffcba2a5"
  },
  {
   "cell_type": "code",
   "execution_count": 49,
   "outputs": [
    {
     "data": {
      "text/plain": "<3000x9144 sparse matrix of type '<class 'numpy.float64'>'\n\twith 41854 stored elements in Compressed Sparse Row format>"
     },
     "execution_count": 49,
     "metadata": {},
     "output_type": "execute_result"
    }
   ],
   "source": [],
   "metadata": {
    "collapsed": false,
    "ExecuteTime": {
     "end_time": "2024-04-15T21:03:52.308454300Z",
     "start_time": "2024-04-15T21:03:52.247095900Z"
    }
   },
   "id": "3e7ca93c60fa987e"
  },
  {
   "cell_type": "code",
   "execution_count": 50,
   "outputs": [
    {
     "name": "stdout",
     "output_type": "stream",
     "text": [
      "Accuracy: 0.5033333333333333\n",
      "Classification Report:\n",
      "               precision    recall  f1-score   support\n",
      "\n",
      "           0       0.49      0.49      0.49       293\n",
      "           1       0.51      0.52      0.52       307\n",
      "\n",
      "    accuracy                           0.50       600\n",
      "   macro avg       0.50      0.50      0.50       600\n",
      "weighted avg       0.50      0.50      0.50       600\n"
     ]
    }
   ],
   "source": [
    "from sklearn.metrics import accuracy_score, classification_report\n",
    "from sklearn.linear_model import LogisticRegression\n",
    "from sklearn.model_selection import train_test_split\n",
    "\n",
    "# Model Training\n",
    "X_train, X_test, y_train, y_test = train_test_split(featurized, df['is_pair'], test_size=0.2, random_state=42)\n",
    "model = LogisticRegression()\n",
    "model.fit(X_train, y_train)\n",
    "\n",
    "# Model Evaluation\n",
    "y_pred = model.predict(X_test)\n",
    "print(\"Accuracy:\", accuracy_score(y_test, y_pred))\n",
    "print(\"Classification Report:\\n\", classification_report(y_test, y_pred))"
   ],
   "metadata": {
    "collapsed": false,
    "ExecuteTime": {
     "end_time": "2024-04-15T21:04:47.753479Z",
     "start_time": "2024-04-15T21:04:47.693176700Z"
    }
   },
   "id": "d9fc648a71f74672"
  },
  {
   "cell_type": "code",
   "execution_count": null,
   "outputs": [],
   "source": [],
   "metadata": {
    "collapsed": false
   },
   "id": "b55546da4e575a5c"
  }
 ],
 "metadata": {
  "kernelspec": {
   "display_name": "Python 3",
   "language": "python",
   "name": "python3"
  },
  "language_info": {
   "codemirror_mode": {
    "name": "ipython",
    "version": 2
   },
   "file_extension": ".py",
   "mimetype": "text/x-python",
   "name": "python",
   "nbconvert_exporter": "python",
   "pygments_lexer": "ipython2",
   "version": "2.7.6"
  }
 },
 "nbformat": 4,
 "nbformat_minor": 5
}
