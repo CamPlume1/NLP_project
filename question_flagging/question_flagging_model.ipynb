{
 "cells": [
  {
   "cell_type": "code",
   "execution_count": 55,
   "id": "initial_id",
   "metadata": {
    "collapsed": true,
    "ExecuteTime": {
     "end_time": "2024-04-18T23:58:18.737536800Z",
     "start_time": "2024-04-18T23:58:18.483054200Z"
    }
   },
   "outputs": [],
   "source": [
    "import pandas as pd\n",
    "\n",
    "df = pd.read_csv('output.csv')\n",
    "df.fillna(0, inplace= True)"
   ]
  },
  {
   "cell_type": "code",
   "execution_count": 56,
   "outputs": [
    {
     "data": {
      "text/plain": "Index(['index', 'text', 'user', 'Question', 'answered', 'answered_index'], dtype='object')"
     },
     "execution_count": 56,
     "metadata": {},
     "output_type": "execute_result"
    }
   ],
   "source": [
    "# Data Cleaning\n",
    "df.reset_index(inplace=True)\n",
    "df.columns"
   ],
   "metadata": {
    "collapsed": false,
    "ExecuteTime": {
     "end_time": "2024-04-18T23:58:18.738538400Z",
     "start_time": "2024-04-18T23:58:18.536470400Z"
    }
   },
   "id": "4f468d24ca59d933"
  },
  {
   "cell_type": "code",
   "execution_count": 57,
   "outputs": [],
   "source": [
    "# calculate messages_after value\n",
    "def answer_index(ind, answer_ind):\n",
    "    if answer_ind <= 0:\n",
    "        return 0\n",
    "    return answer_ind - ind -2"
   ],
   "metadata": {
    "collapsed": false,
    "ExecuteTime": {
     "end_time": "2024-04-18T23:58:18.738538400Z",
     "start_time": "2024-04-18T23:58:18.563451700Z"
    }
   },
   "id": "77d80371b5f3d8aa"
  },
  {
   "cell_type": "code",
   "execution_count": 58,
   "outputs": [],
   "source": [
    "df.columns = ['r_index', 'text', 'user', 'Question', 'answered', 'answered_index']"
   ],
   "metadata": {
    "collapsed": false,
    "ExecuteTime": {
     "end_time": "2024-04-18T23:58:18.738538400Z",
     "start_time": "2024-04-18T23:58:18.578952400Z"
    }
   },
   "id": "451c73f4d9fbb1c5"
  },
  {
   "cell_type": "code",
   "execution_count": 59,
   "outputs": [],
   "source": [
    "df['answer_offset'] = df.apply(lambda row : answer_index(int(row['r_index']), int(row['answered_index'])), axis = 1)"
   ],
   "metadata": {
    "collapsed": false,
    "ExecuteTime": {
     "end_time": "2024-04-18T23:58:18.738538400Z",
     "start_time": "2024-04-18T23:58:18.596001Z"
    }
   },
   "id": "861f37b47aeb26df"
  },
  {
   "cell_type": "code",
   "execution_count": 60,
   "outputs": [],
   "source": [
    "counter = df['answer_offset'].value_counts()"
   ],
   "metadata": {
    "collapsed": false,
    "ExecuteTime": {
     "end_time": "2024-04-18T23:58:18.738538400Z",
     "start_time": "2024-04-18T23:58:18.629147100Z"
    }
   },
   "id": "156d3e8ae6e52236"
  },
  {
   "cell_type": "code",
   "execution_count": 61,
   "outputs": [],
   "source": [
    "from collections import Counter\n",
    "\n",
    "counter_dict = dict(counter)\n",
    "del counter_dict[0]\n",
    "counter = Counter(counter_dict)"
   ],
   "metadata": {
    "collapsed": false,
    "ExecuteTime": {
     "end_time": "2024-04-18T23:58:18.738538400Z",
     "start_time": "2024-04-18T23:58:18.642768600Z"
    }
   },
   "id": "edfbc61713e222bb"
  },
  {
   "cell_type": "code",
   "execution_count": 62,
   "outputs": [
    {
     "name": "stdout",
     "output_type": "stream",
     "text": [
      "<class 'collections.Counter'>\n"
     ]
    }
   ],
   "source": [
    "print(type(counter))"
   ],
   "metadata": {
    "collapsed": false,
    "ExecuteTime": {
     "end_time": "2024-04-18T23:58:18.738538400Z",
     "start_time": "2024-04-18T23:58:18.658256600Z"
    }
   },
   "id": "331c846813a238e2"
  },
  {
   "cell_type": "code",
   "execution_count": 63,
   "outputs": [],
   "source": [
    "# Save counter object\n",
    "import pickle\n",
    "with open('../models/pdf.pickle', 'wb') as f:\n",
    "    pickle.dump(counter, f)"
   ],
   "metadata": {
    "collapsed": false,
    "ExecuteTime": {
     "end_time": "2024-04-18T23:58:18.738538400Z",
     "start_time": "2024-04-18T23:58:18.672015200Z"
    }
   },
   "id": "bb04afa83a42f549"
  },
  {
   "cell_type": "code",
   "execution_count": 64,
   "outputs": [
    {
     "data": {
      "text/plain": "<Figure size 640x480 with 1 Axes>",
      "image/png": "[encoded data removed]"
     },
     "metadata": {},
     "output_type": "display_data"
    }
   ],
   "source": [
    "import matplotlib.pyplot as plt\n",
    "# Convert counter to pandas Series for easier plotting\n",
    "counter_series = pd.Series(counter)\n",
    "\n",
    "# Create plot\n",
    "plt.bar(counter_series.index, counter_series.values)\n",
    "\n",
    "# Add labels and title\n",
    "plt.xlabel('# Of Messages After Question')\n",
    "plt.ylabel('# Of Occurrences')\n",
    "plt.title('Relative Frequency of Question and Answer Pair Offset')\n",
    "\n",
    "# Show plot\n",
    "plt.show()"
   ],
   "metadata": {
    "collapsed": false,
    "ExecuteTime": {
     "end_time": "2024-04-18T23:58:18.906972900Z",
     "start_time": "2024-04-18T23:58:18.717588900Z"
    }
   },
   "id": "d85a4c0f3ee43ab4"
  },
  {
   "cell_type": "code",
   "execution_count": 65,
   "outputs": [],
   "source": [
    "# Great, I have a pdf.\n",
    "# Now use model 1 to predict if a sentence is a question\n",
    "from nltk import word_tokenize\n",
    "## Stemmer\n",
    "# Tokenization and stemming\n",
    "from nltk.stem import PorterStemmer\n",
    "stemmer = PorterStemmer()\n",
    "\n",
    "def tokenize_and_stem(text):\n",
    "    tokens = word_tokenize(text)\n",
    "    stemmed_tokens = [stemmer.stem(token) for token in tokens]\n",
    "    return stemmed_tokens"
   ],
   "metadata": {
    "collapsed": false,
    "ExecuteTime": {
     "end_time": "2024-04-18T23:58:18.963003800Z",
     "start_time": "2024-04-18T23:58:18.908971200Z"
    }
   },
   "id": "887d8343d6c8488e"
  },
  {
   "cell_type": "code",
   "execution_count": 66,
   "outputs": [],
   "source": [
    "import joblib\n",
    "\n",
    "q_or_a_model = joblib.load('../models/q_or_no.pkl')\n",
    "q_or_a_vect = joblib.load('../models/q_or_a_vectorizer.pkl')"
   ],
   "metadata": {
    "collapsed": false,
    "ExecuteTime": {
     "end_time": "2024-04-18T23:58:18.975504200Z",
     "start_time": "2024-04-18T23:58:18.925540700Z"
    }
   },
   "id": "b63cea5514566df6"
  },
  {
   "cell_type": "code",
   "execution_count": 67,
   "outputs": [],
   "source": [
    "# Create vec set\n",
    "in_vec = df['text'].astype(str)\n",
    "vectorized_input = q_or_a_vect.transform(in_vec)"
   ],
   "metadata": {
    "collapsed": false,
    "ExecuteTime": {
     "end_time": "2024-04-18T23:58:19.068775300Z",
     "start_time": "2024-04-18T23:58:18.972505Z"
    }
   },
   "id": "f2c2dd0fe271a8da"
  },
  {
   "cell_type": "code",
   "execution_count": 68,
   "outputs": [],
   "source": [
    "preds = q_or_a_model.predict(vectorized_input)"
   ],
   "metadata": {
    "collapsed": false,
    "ExecuteTime": {
     "end_time": "2024-04-18T23:58:19.080312900Z",
     "start_time": "2024-04-18T23:58:19.067774600Z"
    }
   },
   "id": "e760ce480774c75d"
  },
  {
   "cell_type": "code",
   "execution_count": 69,
   "outputs": [],
   "source": [
    "df['Question'] = df['Question'].astype(int)"
   ],
   "metadata": {
    "collapsed": false,
    "ExecuteTime": {
     "end_time": "2024-04-18T23:58:19.107868600Z",
     "start_time": "2024-04-18T23:58:19.081817400Z"
    }
   },
   "id": "3f5669cc8c1bb459"
  },
  {
   "cell_type": "code",
   "execution_count": 70,
   "outputs": [
    {
     "name": "stdout",
     "output_type": "stream",
     "text": [
      "Accuracy: 0.828\n",
      "Classification Report:\n",
      "               precision    recall  f1-score   support\n",
      "\n",
      "           0       0.85      0.97      0.90       412\n",
      "           1       0.53      0.18      0.27        88\n",
      "\n",
      "    accuracy                           0.83       500\n",
      "   macro avg       0.69      0.57      0.59       500\n",
      "weighted avg       0.79      0.83      0.79       500\n"
     ]
    }
   ],
   "source": [
    "from sklearn.metrics import accuracy_score, classification_report\n",
    "\n",
    "print(\"Accuracy:\", accuracy_score(df['Question'], preds))\n",
    "print(\"Classification Report:\\n\", classification_report(df['Question'], preds))"
   ],
   "metadata": {
    "collapsed": false,
    "ExecuteTime": {
     "end_time": "2024-04-18T23:58:19.110868600Z",
     "start_time": "2024-04-18T23:58:19.100359600Z"
    }
   },
   "id": "ce228dc480a91d37"
  },
  {
   "cell_type": "markdown",
   "source": [
    "# not so good on 1 recall-> This is identifying questions."
   ],
   "metadata": {
    "collapsed": false
   },
   "id": "58c156397ce24763"
  },
  {
   "cell_type": "code",
   "execution_count": 71,
   "outputs": [],
   "source": [
    "df['q_predicted'] = preds"
   ],
   "metadata": {
    "collapsed": false,
    "ExecuteTime": {
     "end_time": "2024-04-18T23:58:19.131910600Z",
     "start_time": "2024-04-18T23:58:19.111869100Z"
    }
   },
   "id": "af52eab2e1a792b3"
  },
  {
   "cell_type": "code",
   "execution_count": 72,
   "outputs": [
    {
     "data": {
      "text/plain": "     r_index                                               text       user  \\\n67        67                       Integer is justa placeholder      Ander   \n164      164  https://www.github.com/pythondiscord/snekbox i...    Emperor   \n166      166         that's where the code is actually executed    Emperor   \n224      224  which I'll work up to tomorrow I work on nodes...  Yancarlos   \n244      244                 not sure what you are representing     Antero   \n284      284  not sure which channel is best to talk about that    Ayviana   \n308      308                           which one do i uninstall     Melodi   \n321      321  so you can use that to disambiguate which vers...      Ramon   \n332      332     Use `py 0` to see which versions are installed      Ramon   \n372      372  @Mrpolymath it looks like what you get when yo...      Dmazi   \n385      385  @dummy I want to make !doc command which expla...      Sayge   \n402      402  everything which is turing complete is a progr...       Haja   \n404      404                       and what do you mean by lisp     Adrina   \n419      419  php is the result of people which are not educ...       Haja   \n\n     Question  answered  answered_index  answer_offset  q_predicted  \n67          0       0.0             0.0              0            1  \n164         0       0.0             0.0              0            1  \n166         0       0.0             0.0              0            1  \n224         0       0.0             0.0              0            1  \n244         0       0.0             0.0              0            1  \n284         0       0.0             0.0              0            1  \n308         0       0.0             0.0              0            1  \n321         0       0.0             0.0              0            1  \n332         0       0.0             0.0              0            1  \n372         0       0.0             0.0              0            1  \n385         0       0.0             0.0              0            1  \n402         0       0.0             0.0              0            1  \n404         0       0.0             0.0              0            1  \n419         0       0.0             0.0              0            1  ",
      "text/html": "<div>\n<style scoped>\n    .dataframe tbody tr th:only-of-type {\n        vertical-align: middle;\n    }\n\n    .dataframe tbody tr th {\n        vertical-align: top;\n    }\n\n    .dataframe thead th {\n        text-align: right;\n    }\n</style>\n<table border=\"1\" class=\"dataframe\">\n  <thead>\n    <tr style=\"text-align: right;\">\n      <th></th>\n      <th>r_index</th>\n      <th>text</th>\n      <th>user</th>\n      <th>Question</th>\n      <th>answered</th>\n      <th>answered_index</th>\n      <th>answer_offset</th>\n      <th>q_predicted</th>\n    </tr>\n  </thead>\n  <tbody>\n    <tr>\n      <th>67</th>\n      <td>67</td>\n      <td>Integer is justa placeholder</td>\n      <td>Ander</td>\n      <td>0</td>\n      <td>0.0</td>\n      <td>0.0</td>\n      <td>0</td>\n      <td>1</td>\n    </tr>\n    <tr>\n      <th>164</th>\n      <td>164</td>\n      <td>https://www.github.com/pythondiscord/snekbox i...</td>\n      <td>Emperor</td>\n      <td>0</td>\n      <td>0.0</td>\n      <td>0.0</td>\n      <td>0</td>\n      <td>1</td>\n    </tr>\n    <tr>\n      <th>166</th>\n      <td>166</td>\n      <td>that's where the code is actually executed</td>\n      <td>Emperor</td>\n      <td>0</td>\n      <td>0.0</td>\n      <td>0.0</td>\n      <td>0</td>\n      <td>1</td>\n    </tr>\n    <tr>\n      <th>224</th>\n      <td>224</td>\n      <td>which I'll work up to tomorrow I work on nodes...</td>\n      <td>Yancarlos</td>\n      <td>0</td>\n      <td>0.0</td>\n      <td>0.0</td>\n      <td>0</td>\n      <td>1</td>\n    </tr>\n    <tr>\n      <th>244</th>\n      <td>244</td>\n      <td>not sure what you are representing</td>\n      <td>Antero</td>\n      <td>0</td>\n      <td>0.0</td>\n      <td>0.0</td>\n      <td>0</td>\n      <td>1</td>\n    </tr>\n    <tr>\n      <th>284</th>\n      <td>284</td>\n      <td>not sure which channel is best to talk about that</td>\n      <td>Ayviana</td>\n      <td>0</td>\n      <td>0.0</td>\n      <td>0.0</td>\n      <td>0</td>\n      <td>1</td>\n    </tr>\n    <tr>\n      <th>308</th>\n      <td>308</td>\n      <td>which one do i uninstall</td>\n      <td>Melodi</td>\n      <td>0</td>\n      <td>0.0</td>\n      <td>0.0</td>\n      <td>0</td>\n      <td>1</td>\n    </tr>\n    <tr>\n      <th>321</th>\n      <td>321</td>\n      <td>so you can use that to disambiguate which vers...</td>\n      <td>Ramon</td>\n      <td>0</td>\n      <td>0.0</td>\n      <td>0.0</td>\n      <td>0</td>\n      <td>1</td>\n    </tr>\n    <tr>\n      <th>332</th>\n      <td>332</td>\n      <td>Use `py 0` to see which versions are installed</td>\n      <td>Ramon</td>\n      <td>0</td>\n      <td>0.0</td>\n      <td>0.0</td>\n      <td>0</td>\n      <td>1</td>\n    </tr>\n    <tr>\n      <th>372</th>\n      <td>372</td>\n      <td>@Mrpolymath it looks like what you get when yo...</td>\n      <td>Dmazi</td>\n      <td>0</td>\n      <td>0.0</td>\n      <td>0.0</td>\n      <td>0</td>\n      <td>1</td>\n    </tr>\n    <tr>\n      <th>385</th>\n      <td>385</td>\n      <td>@dummy I want to make !doc command which expla...</td>\n      <td>Sayge</td>\n      <td>0</td>\n      <td>0.0</td>\n      <td>0.0</td>\n      <td>0</td>\n      <td>1</td>\n    </tr>\n    <tr>\n      <th>402</th>\n      <td>402</td>\n      <td>everything which is turing complete is a progr...</td>\n      <td>Haja</td>\n      <td>0</td>\n      <td>0.0</td>\n      <td>0.0</td>\n      <td>0</td>\n      <td>1</td>\n    </tr>\n    <tr>\n      <th>404</th>\n      <td>404</td>\n      <td>and what do you mean by lisp</td>\n      <td>Adrina</td>\n      <td>0</td>\n      <td>0.0</td>\n      <td>0.0</td>\n      <td>0</td>\n      <td>1</td>\n    </tr>\n    <tr>\n      <th>419</th>\n      <td>419</td>\n      <td>php is the result of people which are not educ...</td>\n      <td>Haja</td>\n      <td>0</td>\n      <td>0.0</td>\n      <td>0.0</td>\n      <td>0</td>\n      <td>1</td>\n    </tr>\n  </tbody>\n</table>\n</div>"
     },
     "execution_count": 72,
     "metadata": {},
     "output_type": "execute_result"
    }
   ],
   "source": [
    "df[(df['Question']== 0) &  (df['q_predicted']== 1)]"
   ],
   "metadata": {
    "collapsed": false,
    "ExecuteTime": {
     "end_time": "2024-04-18T23:58:19.171909900Z",
     "start_time": "2024-04-18T23:58:19.137526300Z"
    }
   },
   "id": "bd60c07c22bb0ca3"
  },
  {
   "cell_type": "code",
   "execution_count": 73,
   "outputs": [],
   "source": [
    "# Test Q pairing model with method 1- > OR\n",
    "pair_model = joblib.load('../models/pair_model.pkl')\n",
    "pair_vectorizer = joblib.load('../models/pair_vectorizer.pkl')"
   ],
   "metadata": {
    "collapsed": false,
    "ExecuteTime": {
     "end_time": "2024-04-18T23:58:19.217932200Z",
     "start_time": "2024-04-18T23:58:19.145066Z"
    }
   },
   "id": "afbf84ccd94792bf"
  },
  {
   "cell_type": "code",
   "execution_count": 74,
   "outputs": [],
   "source": [
    "tf_idf_matrix = pair_vectorizer.transform(df['text'].astype(str))"
   ],
   "metadata": {
    "collapsed": false,
    "ExecuteTime": {
     "end_time": "2024-04-18T23:58:19.295461100Z",
     "start_time": "2024-04-18T23:58:19.174827800Z"
    }
   },
   "id": "162b7665b67e82b1"
  },
  {
   "cell_type": "code",
   "execution_count": 75,
   "outputs": [],
   "source": [
    "from sklearn.metrics.pairwise import cosine_similarity\n",
    "\n",
    "sim_matrix = cosine_similarity(tf_idf_matrix, tf_idf_matrix)"
   ],
   "metadata": {
    "collapsed": false,
    "ExecuteTime": {
     "end_time": "2024-04-18T23:58:19.296493200Z",
     "start_time": "2024-04-18T23:58:19.268693Z"
    }
   },
   "id": "146865333d26be57"
  },
  {
   "cell_type": "code",
   "execution_count": 76,
   "outputs": [],
   "source": [
    "def calculate_cosign_similarity(index_a, offset):\n",
    "    if index_a + offset >= len(df):\n",
    "        return 0\n",
    "    return sim_matrix[index_a, index_a + offset]"
   ],
   "metadata": {
    "collapsed": false,
    "ExecuteTime": {
     "end_time": "2024-04-18T23:58:19.311490100Z",
     "start_time": "2024-04-18T23:58:19.283736300Z"
    }
   },
   "id": "25b7bdfdffa1e2f9"
  },
  {
   "cell_type": "code",
   "execution_count": 77,
   "outputs": [
    {
     "data": {
      "text/plain": "     r_index                                               text    user  \\\n0          0  networking is always one of the more complicat...  Antero   \n1          1                  not usually fun kind of challange  Antero   \n2          2  so people don't usually answer those unless th...  Antero   \n3          3  I feel like a gif recording of you running it ...    Lica   \n4          4                                                 Ok  Tiegan   \n..       ...                                                ...     ...   \n495      495     Beautiful Soup can do all the parsing you need  Eduard   \n496      496  I think I may have misunderstood the question ...  Eduard   \n497      497                                Did my answer help?  Eduard   \n498      498                      Ok I want something like this   Sayge   \n499      499                                          !doc user   Sayge   \n\n     Question  answered  answered_index  answer_offset  q_predicted  \n0           0       0.0             0.0              0            0  \n1           0       0.0             0.0              0            0  \n2           0       0.0             0.0              0            0  \n3           0       0.0             0.0              0            0  \n4           0       0.0             0.0              0            0  \n..        ...       ...             ...            ...          ...  \n495         0       0.0             0.0              0            0  \n496         0       0.0             0.0              0            0  \n497         1       0.0             0.0              0            0  \n498         0       0.0             0.0              0            0  \n499         0       0.0             0.0              0            0  \n\n[500 rows x 8 columns]",
      "text/html": "<div>\n<style scoped>\n    .dataframe tbody tr th:only-of-type {\n        vertical-align: middle;\n    }\n\n    .dataframe tbody tr th {\n        vertical-align: top;\n    }\n\n    .dataframe thead th {\n        text-align: right;\n    }\n</style>\n<table border=\"1\" class=\"dataframe\">\n  <thead>\n    <tr style=\"text-align: right;\">\n      <th></th>\n      <th>r_index</th>\n      <th>text</th>\n      <th>user</th>\n      <th>Question</th>\n      <th>answered</th>\n      <th>answered_index</th>\n      <th>answer_offset</th>\n      <th>q_predicted</th>\n    </tr>\n  </thead>\n  <tbody>\n    <tr>\n      <th>0</th>\n      <td>0</td>\n      <td>networking is always one of the more complicat...</td>\n      <td>Antero</td>\n      <td>0</td>\n      <td>0.0</td>\n      <td>0.0</td>\n      <td>0</td>\n      <td>0</td>\n    </tr>\n    <tr>\n      <th>1</th>\n      <td>1</td>\n      <td>not usually fun kind of challange</td>\n      <td>Antero</td>\n      <td>0</td>\n      <td>0.0</td>\n      <td>0.0</td>\n      <td>0</td>\n      <td>0</td>\n    </tr>\n    <tr>\n      <th>2</th>\n      <td>2</td>\n      <td>so people don't usually answer those unless th...</td>\n      <td>Antero</td>\n      <td>0</td>\n      <td>0.0</td>\n      <td>0.0</td>\n      <td>0</td>\n      <td>0</td>\n    </tr>\n    <tr>\n      <th>3</th>\n      <td>3</td>\n      <td>I feel like a gif recording of you running it ...</td>\n      <td>Lica</td>\n      <td>0</td>\n      <td>0.0</td>\n      <td>0.0</td>\n      <td>0</td>\n      <td>0</td>\n    </tr>\n    <tr>\n      <th>4</th>\n      <td>4</td>\n      <td>Ok</td>\n      <td>Tiegan</td>\n      <td>0</td>\n      <td>0.0</td>\n      <td>0.0</td>\n      <td>0</td>\n      <td>0</td>\n    </tr>\n    <tr>\n      <th>...</th>\n      <td>...</td>\n      <td>...</td>\n      <td>...</td>\n      <td>...</td>\n      <td>...</td>\n      <td>...</td>\n      <td>...</td>\n      <td>...</td>\n    </tr>\n    <tr>\n      <th>495</th>\n      <td>495</td>\n      <td>Beautiful Soup can do all the parsing you need</td>\n      <td>Eduard</td>\n      <td>0</td>\n      <td>0.0</td>\n      <td>0.0</td>\n      <td>0</td>\n      <td>0</td>\n    </tr>\n    <tr>\n      <th>496</th>\n      <td>496</td>\n      <td>I think I may have misunderstood the question ...</td>\n      <td>Eduard</td>\n      <td>0</td>\n      <td>0.0</td>\n      <td>0.0</td>\n      <td>0</td>\n      <td>0</td>\n    </tr>\n    <tr>\n      <th>497</th>\n      <td>497</td>\n      <td>Did my answer help?</td>\n      <td>Eduard</td>\n      <td>1</td>\n      <td>0.0</td>\n      <td>0.0</td>\n      <td>0</td>\n      <td>0</td>\n    </tr>\n    <tr>\n      <th>498</th>\n      <td>498</td>\n      <td>Ok I want something like this</td>\n      <td>Sayge</td>\n      <td>0</td>\n      <td>0.0</td>\n      <td>0.0</td>\n      <td>0</td>\n      <td>0</td>\n    </tr>\n    <tr>\n      <th>499</th>\n      <td>499</td>\n      <td>!doc user</td>\n      <td>Sayge</td>\n      <td>0</td>\n      <td>0.0</td>\n      <td>0.0</td>\n      <td>0</td>\n      <td>0</td>\n    </tr>\n  </tbody>\n</table>\n<p>500 rows × 8 columns</p>\n</div>"
     },
     "execution_count": 77,
     "metadata": {},
     "output_type": "execute_result"
    }
   ],
   "source": [
    "df"
   ],
   "metadata": {
    "collapsed": false,
    "ExecuteTime": {
     "end_time": "2024-04-18T23:58:19.325986Z",
     "start_time": "2024-04-18T23:58:19.304925600Z"
    }
   },
   "id": "126f9ed73cd7a815"
  },
  {
   "cell_type": "code",
   "execution_count": 78,
   "outputs": [],
   "source": [
    "df['pair_1_sim'] = df['r_index'].apply(lambda x: calculate_cosign_similarity(int(x), 1))"
   ],
   "metadata": {
    "collapsed": false,
    "ExecuteTime": {
     "end_time": "2024-04-18T23:58:19.358208100Z",
     "start_time": "2024-04-18T23:58:19.316440900Z"
    }
   },
   "id": "a5920a0984d17bf6"
  },
  {
   "cell_type": "code",
   "execution_count": 79,
   "outputs": [],
   "source": [
    "df['pair_2_sim'] = df['r_index'].apply(lambda x: calculate_cosign_similarity(int(x), 2))"
   ],
   "metadata": {
    "collapsed": false,
    "ExecuteTime": {
     "end_time": "2024-04-18T23:58:19.389102Z",
     "start_time": "2024-04-18T23:58:19.334502200Z"
    }
   },
   "id": "e4cbdac260ca9fb"
  },
  {
   "cell_type": "code",
   "execution_count": 80,
   "outputs": [],
   "source": [
    "df['pair_3_sim'] = df['r_index'].apply(lambda x: calculate_cosign_similarity(int(x), 3))"
   ],
   "metadata": {
    "collapsed": false,
    "ExecuteTime": {
     "end_time": "2024-04-18T23:58:19.408151500Z",
     "start_time": "2024-04-18T23:58:19.347033200Z"
    }
   },
   "id": "5aa56c7cae30d29d"
  },
  {
   "cell_type": "code",
   "execution_count": 81,
   "outputs": [],
   "source": [
    "df['pair_4_sim'] = df['r_index'].apply(lambda x: calculate_cosign_similarity(int(x), 1))"
   ],
   "metadata": {
    "collapsed": false,
    "ExecuteTime": {
     "end_time": "2024-04-18T23:58:19.431160300Z",
     "start_time": "2024-04-18T23:58:19.362276Z"
    }
   },
   "id": "ec929d815726b172"
  },
  {
   "cell_type": "code",
   "execution_count": 82,
   "outputs": [
    {
     "data": {
      "text/plain": "     r_index                                               text    user  \\\n0          0  networking is always one of the more complicat...  Antero   \n1          1                  not usually fun kind of challange  Antero   \n2          2  so people don't usually answer those unless th...  Antero   \n3          3  I feel like a gif recording of you running it ...    Lica   \n4          4                                                 Ok  Tiegan   \n..       ...                                                ...     ...   \n495      495     Beautiful Soup can do all the parsing you need  Eduard   \n496      496  I think I may have misunderstood the question ...  Eduard   \n497      497                                Did my answer help?  Eduard   \n498      498                      Ok I want something like this   Sayge   \n499      499                                          !doc user   Sayge   \n\n     Question  answered  answered_index  answer_offset  q_predicted  \\\n0           0       0.0             0.0              0            0   \n1           0       0.0             0.0              0            0   \n2           0       0.0             0.0              0            0   \n3           0       0.0             0.0              0            0   \n4           0       0.0             0.0              0            0   \n..        ...       ...             ...            ...          ...   \n495         0       0.0             0.0              0            0   \n496         0       0.0             0.0              0            0   \n497         1       0.0             0.0              0            0   \n498         0       0.0             0.0              0            0   \n499         0       0.0             0.0              0            0   \n\n     pair_1_sim  pair_2_sim  pair_3_sim  pair_4_sim  \n0      0.019601    0.008150    0.011461    0.019601  \n1      0.175093    0.015569    0.000000    0.175093  \n2      0.073177    0.000000    0.000000    0.073177  \n3      0.000000    0.000000    0.202352    0.000000  \n4      0.000000    0.000000    0.000000    0.000000  \n..          ...         ...         ...         ...  \n495    0.009503    0.000000    0.000000    0.009503  \n496    0.000000    0.171351    0.000000    0.000000  \n497    0.000000    0.000000    0.000000    0.000000  \n498    0.000000    0.000000    0.000000    0.000000  \n499    0.000000    0.000000    0.000000    0.000000  \n\n[500 rows x 12 columns]",
      "text/html": "<div>\n<style scoped>\n    .dataframe tbody tr th:only-of-type {\n        vertical-align: middle;\n    }\n\n    .dataframe tbody tr th {\n        vertical-align: top;\n    }\n\n    .dataframe thead th {\n        text-align: right;\n    }\n</style>\n<table border=\"1\" class=\"dataframe\">\n  <thead>\n    <tr style=\"text-align: right;\">\n      <th></th>\n      <th>r_index</th>\n      <th>text</th>\n      <th>user</th>\n      <th>Question</th>\n      <th>answered</th>\n      <th>answered_index</th>\n      <th>answer_offset</th>\n      <th>q_predicted</th>\n      <th>pair_1_sim</th>\n      <th>pair_2_sim</th>\n      <th>pair_3_sim</th>\n      <th>pair_4_sim</th>\n    </tr>\n  </thead>\n  <tbody>\n    <tr>\n      <th>0</th>\n      <td>0</td>\n      <td>networking is always one of the more complicat...</td>\n      <td>Antero</td>\n      <td>0</td>\n      <td>0.0</td>\n      <td>0.0</td>\n      <td>0</td>\n      <td>0</td>\n      <td>0.019601</td>\n      <td>0.008150</td>\n      <td>0.011461</td>\n      <td>0.019601</td>\n    </tr>\n    <tr>\n      <th>1</th>\n      <td>1</td>\n      <td>not usually fun kind of challange</td>\n      <td>Antero</td>\n      <td>0</td>\n      <td>0.0</td>\n      <td>0.0</td>\n      <td>0</td>\n      <td>0</td>\n      <td>0.175093</td>\n      <td>0.015569</td>\n      <td>0.000000</td>\n      <td>0.175093</td>\n    </tr>\n    <tr>\n      <th>2</th>\n      <td>2</td>\n      <td>so people don't usually answer those unless th...</td>\n      <td>Antero</td>\n      <td>0</td>\n      <td>0.0</td>\n      <td>0.0</td>\n      <td>0</td>\n      <td>0</td>\n      <td>0.073177</td>\n      <td>0.000000</td>\n      <td>0.000000</td>\n      <td>0.073177</td>\n    </tr>\n    <tr>\n      <th>3</th>\n      <td>3</td>\n      <td>I feel like a gif recording of you running it ...</td>\n      <td>Lica</td>\n      <td>0</td>\n      <td>0.0</td>\n      <td>0.0</td>\n      <td>0</td>\n      <td>0</td>\n      <td>0.000000</td>\n      <td>0.000000</td>\n      <td>0.202352</td>\n      <td>0.000000</td>\n    </tr>\n    <tr>\n      <th>4</th>\n      <td>4</td>\n      <td>Ok</td>\n      <td>Tiegan</td>\n      <td>0</td>\n      <td>0.0</td>\n      <td>0.0</td>\n      <td>0</td>\n      <td>0</td>\n      <td>0.000000</td>\n      <td>0.000000</td>\n      <td>0.000000</td>\n      <td>0.000000</td>\n    </tr>\n    <tr>\n      <th>...</th>\n      <td>...</td>\n      <td>...</td>\n      <td>...</td>\n      <td>...</td>\n      <td>...</td>\n      <td>...</td>\n      <td>...</td>\n      <td>...</td>\n      <td>...</td>\n      <td>...</td>\n      <td>...</td>\n      <td>...</td>\n    </tr>\n    <tr>\n      <th>495</th>\n      <td>495</td>\n      <td>Beautiful Soup can do all the parsing you need</td>\n      <td>Eduard</td>\n      <td>0</td>\n      <td>0.0</td>\n      <td>0.0</td>\n      <td>0</td>\n      <td>0</td>\n      <td>0.009503</td>\n      <td>0.000000</td>\n      <td>0.000000</td>\n      <td>0.009503</td>\n    </tr>\n    <tr>\n      <th>496</th>\n      <td>496</td>\n      <td>I think I may have misunderstood the question ...</td>\n      <td>Eduard</td>\n      <td>0</td>\n      <td>0.0</td>\n      <td>0.0</td>\n      <td>0</td>\n      <td>0</td>\n      <td>0.000000</td>\n      <td>0.171351</td>\n      <td>0.000000</td>\n      <td>0.000000</td>\n    </tr>\n    <tr>\n      <th>497</th>\n      <td>497</td>\n      <td>Did my answer help?</td>\n      <td>Eduard</td>\n      <td>1</td>\n      <td>0.0</td>\n      <td>0.0</td>\n      <td>0</td>\n      <td>0</td>\n      <td>0.000000</td>\n      <td>0.000000</td>\n      <td>0.000000</td>\n      <td>0.000000</td>\n    </tr>\n    <tr>\n      <th>498</th>\n      <td>498</td>\n      <td>Ok I want something like this</td>\n      <td>Sayge</td>\n      <td>0</td>\n      <td>0.0</td>\n      <td>0.0</td>\n      <td>0</td>\n      <td>0</td>\n      <td>0.000000</td>\n      <td>0.000000</td>\n      <td>0.000000</td>\n      <td>0.000000</td>\n    </tr>\n    <tr>\n      <th>499</th>\n      <td>499</td>\n      <td>!doc user</td>\n      <td>Sayge</td>\n      <td>0</td>\n      <td>0.0</td>\n      <td>0.0</td>\n      <td>0</td>\n      <td>0</td>\n      <td>0.000000</td>\n      <td>0.000000</td>\n      <td>0.000000</td>\n      <td>0.000000</td>\n    </tr>\n  </tbody>\n</table>\n<p>500 rows × 12 columns</p>\n</div>"
     },
     "execution_count": 82,
     "metadata": {},
     "output_type": "execute_result"
    }
   ],
   "source": [
    "df"
   ],
   "metadata": {
    "collapsed": false,
    "ExecuteTime": {
     "end_time": "2024-04-18T23:58:19.465739500Z",
     "start_time": "2024-04-18T23:58:19.376816700Z"
    }
   },
   "id": "fec9acb14f82b851"
  },
  {
   "cell_type": "code",
   "execution_count": 83,
   "outputs": [
    {
     "data": {
      "text/plain": "                                                  text  Question  answered  \\\n13   Timer command I created (works 100%). How can ...         1       1.0   \n15                      tell them to enter in seconds?         1       0.0   \n23   but I do not get how to detect the h as a hour...         1       1.0   \n28                                              why =?         1       0.0   \n33   ```pythoneh = input('Enter a timer length'):if...         1       0.0   \n..                                                 ...       ...       ...   \n468                   @lemon Sir can you help? please?         1       1.0   \n472                   @lemon Hey can I ask a question?         1       1.0   \n480  Is there a reason why there is only python dis...         1       1.0   \n492  @dummy sorry for the ping can html parser can ...         1       1.0   \n497                                Did my answer help?         1       0.0   \n\n     answer_offset  pair_1_sim  pair_2_sim  pair_3_sim  pair_4_sim  \n13               2    0.166391    0.000000    0.159706    0.166391  \n15               0    0.052875    0.000000    0.000000    0.052875  \n23               1    0.073883    0.273593    0.040127    0.073883  \n28               0    0.000000    0.000000    0.000000    0.000000  \n33               0    0.014275    0.000000    0.000000    0.014275  \n..             ...         ...         ...         ...         ...  \n468              1    0.000000    0.195721    0.109929    0.000000  \n472              1    0.000000    0.282298    0.360547    0.000000  \n480              1    0.000000    0.276518    0.000000    0.000000  \n492              1    0.014777    0.047676    0.283768    0.014777  \n497              0    0.000000    0.000000    0.000000    0.000000  \n\n[88 rows x 8 columns]",
      "text/html": "<div>\n<style scoped>\n    .dataframe tbody tr th:only-of-type {\n        vertical-align: middle;\n    }\n\n    .dataframe tbody tr th {\n        vertical-align: top;\n    }\n\n    .dataframe thead th {\n        text-align: right;\n    }\n</style>\n<table border=\"1\" class=\"dataframe\">\n  <thead>\n    <tr style=\"text-align: right;\">\n      <th></th>\n      <th>text</th>\n      <th>Question</th>\n      <th>answered</th>\n      <th>answer_offset</th>\n      <th>pair_1_sim</th>\n      <th>pair_2_sim</th>\n      <th>pair_3_sim</th>\n      <th>pair_4_sim</th>\n    </tr>\n  </thead>\n  <tbody>\n    <tr>\n      <th>13</th>\n      <td>Timer command I created (works 100%). How can ...</td>\n      <td>1</td>\n      <td>1.0</td>\n      <td>2</td>\n      <td>0.166391</td>\n      <td>0.000000</td>\n      <td>0.159706</td>\n      <td>0.166391</td>\n    </tr>\n    <tr>\n      <th>15</th>\n      <td>tell them to enter in seconds?</td>\n      <td>1</td>\n      <td>0.0</td>\n      <td>0</td>\n      <td>0.052875</td>\n      <td>0.000000</td>\n      <td>0.000000</td>\n      <td>0.052875</td>\n    </tr>\n    <tr>\n      <th>23</th>\n      <td>but I do not get how to detect the h as a hour...</td>\n      <td>1</td>\n      <td>1.0</td>\n      <td>1</td>\n      <td>0.073883</td>\n      <td>0.273593</td>\n      <td>0.040127</td>\n      <td>0.073883</td>\n    </tr>\n    <tr>\n      <th>28</th>\n      <td>why =?</td>\n      <td>1</td>\n      <td>0.0</td>\n      <td>0</td>\n      <td>0.000000</td>\n      <td>0.000000</td>\n      <td>0.000000</td>\n      <td>0.000000</td>\n    </tr>\n    <tr>\n      <th>33</th>\n      <td>```pythoneh = input('Enter a timer length'):if...</td>\n      <td>1</td>\n      <td>0.0</td>\n      <td>0</td>\n      <td>0.014275</td>\n      <td>0.000000</td>\n      <td>0.000000</td>\n      <td>0.014275</td>\n    </tr>\n    <tr>\n      <th>...</th>\n      <td>...</td>\n      <td>...</td>\n      <td>...</td>\n      <td>...</td>\n      <td>...</td>\n      <td>...</td>\n      <td>...</td>\n      <td>...</td>\n    </tr>\n    <tr>\n      <th>468</th>\n      <td>@lemon Sir can you help? please?</td>\n      <td>1</td>\n      <td>1.0</td>\n      <td>1</td>\n      <td>0.000000</td>\n      <td>0.195721</td>\n      <td>0.109929</td>\n      <td>0.000000</td>\n    </tr>\n    <tr>\n      <th>472</th>\n      <td>@lemon Hey can I ask a question?</td>\n      <td>1</td>\n      <td>1.0</td>\n      <td>1</td>\n      <td>0.000000</td>\n      <td>0.282298</td>\n      <td>0.360547</td>\n      <td>0.000000</td>\n    </tr>\n    <tr>\n      <th>480</th>\n      <td>Is there a reason why there is only python dis...</td>\n      <td>1</td>\n      <td>1.0</td>\n      <td>1</td>\n      <td>0.000000</td>\n      <td>0.276518</td>\n      <td>0.000000</td>\n      <td>0.000000</td>\n    </tr>\n    <tr>\n      <th>492</th>\n      <td>@dummy sorry for the ping can html parser can ...</td>\n      <td>1</td>\n      <td>1.0</td>\n      <td>1</td>\n      <td>0.014777</td>\n      <td>0.047676</td>\n      <td>0.283768</td>\n      <td>0.014777</td>\n    </tr>\n    <tr>\n      <th>497</th>\n      <td>Did my answer help?</td>\n      <td>1</td>\n      <td>0.0</td>\n      <td>0</td>\n      <td>0.000000</td>\n      <td>0.000000</td>\n      <td>0.000000</td>\n      <td>0.000000</td>\n    </tr>\n  </tbody>\n</table>\n<p>88 rows × 8 columns</p>\n</div>"
     },
     "execution_count": 83,
     "metadata": {},
     "output_type": "execute_result"
    }
   ],
   "source": [
    "questions_only = df[df['Question'] == 1]\n",
    "questions_only.drop(columns= ['r_index', 'user', 'answered_index', 'q_predicted'])"
   ],
   "metadata": {
    "collapsed": false,
    "ExecuteTime": {
     "end_time": "2024-04-18T23:58:19.466739Z",
     "start_time": "2024-04-18T23:58:19.391609100Z"
    }
   },
   "id": "d8e96360231c8da2"
  },
  {
   "cell_type": "code",
   "execution_count": 84,
   "outputs": [],
   "source": [
    "offset_1 = df[['Question', 'pair_1_sim']]"
   ],
   "metadata": {
    "collapsed": false,
    "ExecuteTime": {
     "end_time": "2024-04-18T23:58:19.480254100Z",
     "start_time": "2024-04-18T23:58:19.408151500Z"
    }
   },
   "id": "550b643b957f4171"
  },
  {
   "cell_type": "code",
   "execution_count": 85,
   "outputs": [],
   "source": [
    "offset_1.columns = ['Question', 'similarity']"
   ],
   "metadata": {
    "collapsed": false,
    "ExecuteTime": {
     "end_time": "2024-04-18T23:58:19.484768800Z",
     "start_time": "2024-04-18T23:58:19.424710700Z"
    }
   },
   "id": "7e1902cce328c025"
  },
  {
   "cell_type": "code",
   "execution_count": 86,
   "outputs": [],
   "source": [
    "offset_1_preds = pair_model.predict(offset_1[['similarity']])"
   ],
   "metadata": {
    "collapsed": false,
    "ExecuteTime": {
     "end_time": "2024-04-18T23:58:19.515471Z",
     "start_time": "2024-04-18T23:58:19.440670Z"
    }
   },
   "id": "80dc05c4b6c52b1f"
  },
  {
   "cell_type": "code",
   "execution_count": 87,
   "outputs": [
    {
     "name": "stderr",
     "output_type": "stream",
     "text": [
      "C:\\Users\\Cam\\AppData\\Local\\Temp\\ipykernel_10780\\1333631988.py:1: SettingWithCopyWarning: \n",
      "A value is trying to be set on a copy of a slice from a DataFrame.\n",
      "Try using .loc[row_indexer,col_indexer] = value instead\n",
      "\n",
      "See the caveats in the documentation: https://pandas.pydata.org/pandas-docs/stable/user_guide/indexing.html#returning-a-view-versus-a-copy\n",
      "  offset_1['predicted'] = offset_1_preds\n"
     ]
    }
   ],
   "source": [
    "offset_1['predicted'] = offset_1_preds"
   ],
   "metadata": {
    "collapsed": false,
    "ExecuteTime": {
     "end_time": "2024-04-18T23:58:19.571686100Z",
     "start_time": "2024-04-18T23:58:19.455725800Z"
    }
   },
   "id": "e5c401b46e925b6d"
  },
  {
   "cell_type": "code",
   "execution_count": 88,
   "outputs": [
    {
     "data": {
      "text/plain": "     Question  similarity  predicted\n0           0    0.019601          0\n1           0    0.175093          1\n2           0    0.073177          0\n3           0    0.000000          0\n4           0    0.000000          0\n..        ...         ...        ...\n495         0    0.009503          0\n496         0    0.000000          0\n497         1    0.000000          0\n498         0    0.000000          0\n499         0    0.000000          0\n\n[500 rows x 3 columns]",
      "text/html": "<div>\n<style scoped>\n    .dataframe tbody tr th:only-of-type {\n        vertical-align: middle;\n    }\n\n    .dataframe tbody tr th {\n        vertical-align: top;\n    }\n\n    .dataframe thead th {\n        text-align: right;\n    }\n</style>\n<table border=\"1\" class=\"dataframe\">\n  <thead>\n    <tr style=\"text-align: right;\">\n      <th></th>\n      <th>Question</th>\n      <th>similarity</th>\n      <th>predicted</th>\n    </tr>\n  </thead>\n  <tbody>\n    <tr>\n      <th>0</th>\n      <td>0</td>\n      <td>0.019601</td>\n      <td>0</td>\n    </tr>\n    <tr>\n      <th>1</th>\n      <td>0</td>\n      <td>0.175093</td>\n      <td>1</td>\n    </tr>\n    <tr>\n      <th>2</th>\n      <td>0</td>\n      <td>0.073177</td>\n      <td>0</td>\n    </tr>\n    <tr>\n      <th>3</th>\n      <td>0</td>\n      <td>0.000000</td>\n      <td>0</td>\n    </tr>\n    <tr>\n      <th>4</th>\n      <td>0</td>\n      <td>0.000000</td>\n      <td>0</td>\n    </tr>\n    <tr>\n      <th>...</th>\n      <td>...</td>\n      <td>...</td>\n      <td>...</td>\n    </tr>\n    <tr>\n      <th>495</th>\n      <td>0</td>\n      <td>0.009503</td>\n      <td>0</td>\n    </tr>\n    <tr>\n      <th>496</th>\n      <td>0</td>\n      <td>0.000000</td>\n      <td>0</td>\n    </tr>\n    <tr>\n      <th>497</th>\n      <td>1</td>\n      <td>0.000000</td>\n      <td>0</td>\n    </tr>\n    <tr>\n      <th>498</th>\n      <td>0</td>\n      <td>0.000000</td>\n      <td>0</td>\n    </tr>\n    <tr>\n      <th>499</th>\n      <td>0</td>\n      <td>0.000000</td>\n      <td>0</td>\n    </tr>\n  </tbody>\n</table>\n<p>500 rows × 3 columns</p>\n</div>"
     },
     "execution_count": 88,
     "metadata": {},
     "output_type": "execute_result"
    }
   ],
   "source": [
    "offset_1"
   ],
   "metadata": {
    "collapsed": false,
    "ExecuteTime": {
     "end_time": "2024-04-18T23:58:19.587775800Z",
     "start_time": "2024-04-18T23:58:19.472242500Z"
    }
   },
   "id": "dc214e5a88672cd"
  },
  {
   "cell_type": "code",
   "execution_count": 89,
   "outputs": [
    {
     "name": "stderr",
     "output_type": "stream",
     "text": [
      "C:\\Users\\Cam\\AppData\\Local\\Temp\\ipykernel_10780\\230663001.py:4: SettingWithCopyWarning: \n",
      "A value is trying to be set on a copy of a slice from a DataFrame.\n",
      "Try using .loc[row_indexer,col_indexer] = value instead\n",
      "\n",
      "See the caveats in the documentation: https://pandas.pydata.org/pandas-docs/stable/user_guide/indexing.html#returning-a-view-versus-a-copy\n",
      "  offset_2['predicted'] = offset_2_preds\n"
     ]
    }
   ],
   "source": [
    "offset_2 = df[['Question', 'pair_2_sim']]\n",
    "offset_2.columns = ['Question', 'similarity']\n",
    "offset_2_preds = pair_model.predict(offset_2[['similarity']])\n",
    "offset_2['predicted'] = offset_2_preds"
   ],
   "metadata": {
    "collapsed": false,
    "ExecuteTime": {
     "end_time": "2024-04-18T23:58:19.634368300Z",
     "start_time": "2024-04-18T23:58:19.487770500Z"
    }
   },
   "id": "6f3ee57752100dc3"
  },
  {
   "cell_type": "code",
   "execution_count": 90,
   "outputs": [
    {
     "name": "stderr",
     "output_type": "stream",
     "text": [
      "C:\\Users\\Cam\\AppData\\Local\\Temp\\ipykernel_10780\\1592016180.py:4: SettingWithCopyWarning: \n",
      "A value is trying to be set on a copy of a slice from a DataFrame.\n",
      "Try using .loc[row_indexer,col_indexer] = value instead\n",
      "\n",
      "See the caveats in the documentation: https://pandas.pydata.org/pandas-docs/stable/user_guide/indexing.html#returning-a-view-versus-a-copy\n",
      "  offset_3['predicted'] = offset_3_preds\n"
     ]
    }
   ],
   "source": [
    "offset_3 = df[['Question', 'pair_3_sim']]\n",
    "offset_3.columns = ['Question', 'similarity']\n",
    "offset_3_preds = pair_model.predict(offset_2[['similarity']])\n",
    "offset_3['predicted'] = offset_3_preds"
   ],
   "metadata": {
    "collapsed": false,
    "ExecuteTime": {
     "end_time": "2024-04-18T23:58:19.636368500Z",
     "start_time": "2024-04-18T23:58:19.508012300Z"
    }
   },
   "id": "b0f39f694db2dc7e"
  },
  {
   "cell_type": "code",
   "execution_count": 91,
   "outputs": [
    {
     "name": "stderr",
     "output_type": "stream",
     "text": [
      "C:\\Users\\Cam\\AppData\\Local\\Temp\\ipykernel_10780\\2562333875.py:4: SettingWithCopyWarning: \n",
      "A value is trying to be set on a copy of a slice from a DataFrame.\n",
      "Try using .loc[row_indexer,col_indexer] = value instead\n",
      "\n",
      "See the caveats in the documentation: https://pandas.pydata.org/pandas-docs/stable/user_guide/indexing.html#returning-a-view-versus-a-copy\n",
      "  offset_4['predicted'] = offset_4_preds\n"
     ]
    }
   ],
   "source": [
    "offset_4 = df[['Question', 'pair_4_sim']]\n",
    "offset_4.columns = ['Question', 'similarity']\n",
    "offset_4_preds = pair_model.predict(offset_3[['similarity']])\n",
    "offset_4['predicted'] = offset_4_preds"
   ],
   "metadata": {
    "collapsed": false,
    "ExecuteTime": {
     "end_time": "2024-04-18T23:58:19.638368800Z",
     "start_time": "2024-04-18T23:58:19.518474100Z"
    }
   },
   "id": "20c8c77a3605914b"
  },
  {
   "cell_type": "code",
   "execution_count": 92,
   "outputs": [
    {
     "name": "stderr",
     "output_type": "stream",
     "text": [
      "C:\\Users\\Cam\\AppData\\Local\\Temp\\ipykernel_10780\\2597617169.py:1: SettingWithCopyWarning: \n",
      "A value is trying to be set on a copy of a slice from a DataFrame.\n",
      "Try using .loc[row_indexer,col_indexer] = value instead\n",
      "\n",
      "See the caveats in the documentation: https://pandas.pydata.org/pandas-docs/stable/user_guide/indexing.html#returning-a-view-versus-a-copy\n",
      "  questions_only['pred_1'] = offset_1['predicted']\n",
      "C:\\Users\\Cam\\AppData\\Local\\Temp\\ipykernel_10780\\2597617169.py:2: SettingWithCopyWarning: \n",
      "A value is trying to be set on a copy of a slice from a DataFrame.\n",
      "Try using .loc[row_indexer,col_indexer] = value instead\n",
      "\n",
      "See the caveats in the documentation: https://pandas.pydata.org/pandas-docs/stable/user_guide/indexing.html#returning-a-view-versus-a-copy\n",
      "  questions_only['pred_2'] = offset_2['predicted']\n",
      "C:\\Users\\Cam\\AppData\\Local\\Temp\\ipykernel_10780\\2597617169.py:3: SettingWithCopyWarning: \n",
      "A value is trying to be set on a copy of a slice from a DataFrame.\n",
      "Try using .loc[row_indexer,col_indexer] = value instead\n",
      "\n",
      "See the caveats in the documentation: https://pandas.pydata.org/pandas-docs/stable/user_guide/indexing.html#returning-a-view-versus-a-copy\n",
      "  questions_only['pred_3'] = offset_3['predicted']\n",
      "C:\\Users\\Cam\\AppData\\Local\\Temp\\ipykernel_10780\\2597617169.py:4: SettingWithCopyWarning: \n",
      "A value is trying to be set on a copy of a slice from a DataFrame.\n",
      "Try using .loc[row_indexer,col_indexer] = value instead\n",
      "\n",
      "See the caveats in the documentation: https://pandas.pydata.org/pandas-docs/stable/user_guide/indexing.html#returning-a-view-versus-a-copy\n",
      "  questions_only['pred_4'] = offset_4['predicted']\n"
     ]
    }
   ],
   "source": [
    "questions_only['pred_1'] = offset_1['predicted']\n",
    "questions_only['pred_2'] = offset_2['predicted']\n",
    "questions_only['pred_3'] = offset_3['predicted']\n",
    "questions_only['pred_4'] = offset_4['predicted']"
   ],
   "metadata": {
    "collapsed": false,
    "ExecuteTime": {
     "end_time": "2024-04-18T23:58:19.639368800Z",
     "start_time": "2024-04-18T23:58:19.534276600Z"
    }
   },
   "id": "605ba63e922b726"
  },
  {
   "cell_type": "code",
   "execution_count": 93,
   "outputs": [],
   "source": [
    "def any_of_4(int_1, int_2, int_3, int_4):\n",
    "    if (int_1 + int_2 + int_3 + int_4) > 0:\n",
    "        return 1\n",
    "    return 0"
   ],
   "metadata": {
    "collapsed": false,
    "ExecuteTime": {
     "end_time": "2024-04-18T23:58:19.639368800Z",
     "start_time": "2024-04-18T23:58:19.568691800Z"
    }
   },
   "id": "7648f0e7063d5a9e"
  },
  {
   "cell_type": "code",
   "execution_count": 94,
   "outputs": [
    {
     "name": "stderr",
     "output_type": "stream",
     "text": [
      "C:\\Users\\Cam\\AppData\\Local\\Temp\\ipykernel_10780\\2492090521.py:1: SettingWithCopyWarning: \n",
      "A value is trying to be set on a copy of a slice from a DataFrame.\n",
      "Try using .loc[row_indexer,col_indexer] = value instead\n",
      "\n",
      "See the caveats in the documentation: https://pandas.pydata.org/pandas-docs/stable/user_guide/indexing.html#returning-a-view-versus-a-copy\n",
      "  questions_only['or_pred'] = questions_only[['pred_1', 'pred_2', 'pred_3', 'pred_4']].max(axis=1)\n"
     ]
    }
   ],
   "source": [
    "questions_only['or_pred'] = questions_only[['pred_1', 'pred_2', 'pred_3', 'pred_4']].max(axis=1)"
   ],
   "metadata": {
    "collapsed": false,
    "ExecuteTime": {
     "end_time": "2024-04-18T23:58:19.661429Z",
     "start_time": "2024-04-18T23:58:19.568691800Z"
    }
   },
   "id": "3789f8e1606cde20"
  },
  {
   "cell_type": "code",
   "execution_count": 95,
   "outputs": [
    {
     "data": {
      "text/plain": "13     1\n15     0\n23     1\n28     0\n33     0\n      ..\n468    1\n472    1\n480    1\n492    1\n497    0\nName: or_pred, Length: 88, dtype: int64"
     },
     "execution_count": 95,
     "metadata": {},
     "output_type": "execute_result"
    }
   ],
   "source": [
    "questions_only['or_pred']"
   ],
   "metadata": {
    "collapsed": false,
    "ExecuteTime": {
     "end_time": "2024-04-18T23:58:19.674633200Z",
     "start_time": "2024-04-18T23:58:19.583805100Z"
    }
   },
   "id": "b77f679b29da2aa"
  },
  {
   "cell_type": "code",
   "execution_count": null,
   "outputs": [],
   "source": [],
   "metadata": {
    "collapsed": false
   },
   "id": "c56563ac2ed51452"
  },
  {
   "cell_type": "code",
   "execution_count": 96,
   "outputs": [
    {
     "name": "stdout",
     "output_type": "stream",
     "text": [
      "Model performance in identifying answered questions\n",
      "Accuracy: 0.625\n",
      "Classification Report:\n",
      "               precision    recall  f1-score   support\n",
      "\n",
      "         0.0       0.60      0.72      0.65        43\n",
      "         1.0       0.67      0.53      0.59        45\n",
      "\n",
      "    accuracy                           0.62        88\n",
      "   macro avg       0.63      0.63      0.62        88\n",
      "weighted avg       0.63      0.62      0.62        88\n"
     ]
    }
   ],
   "source": [
    "from sklearn.metrics import accuracy_score, classification_report\n",
    "\n",
    "# Evaluation\n",
    "print(\"Model performance in identifying answered questions, known to be questions\")\n",
    "print(\"Accuracy:\", accuracy_score(questions_only[questions_only['answered'], questions_only['or_pred']))\n",
    "print(\"Classification Report:\\n\", classification_report(questions_only['answered'], questions_only['or_pred']))"
   ],
   "metadata": {
    "collapsed": false,
    "ExecuteTime": {
     "end_time": "2024-04-18T23:58:19.676641900Z",
     "start_time": "2024-04-18T23:58:19.596297200Z"
    }
   },
   "id": "60c101da43bd4e2d"
  },
  {
   "cell_type": "code",
   "execution_count": 97,
   "outputs": [],
   "source": [
    "# Now try with pdf."
   ],
   "metadata": {
    "collapsed": false,
    "ExecuteTime": {
     "end_time": "2024-04-18T23:58:19.733378800Z",
     "start_time": "2024-04-18T23:58:19.611816900Z"
    }
   },
   "id": "6bc259c2c490f421"
  },
  {
   "cell_type": "code",
   "execution_count": 98,
   "outputs": [
    {
     "name": "stderr",
     "output_type": "stream",
     "text": [
      "C:\\Users\\Cam\\AppData\\Local\\Temp\\ipykernel_10780\\1138612929.py:4: SettingWithCopyWarning: \n",
      "A value is trying to be set on a copy of a slice from a DataFrame.\n",
      "Try using .loc[row_indexer,col_indexer] = value instead\n",
      "\n",
      "See the caveats in the documentation: https://pandas.pydata.org/pandas-docs/stable/user_guide/indexing.html#returning-a-view-versus-a-copy\n",
      "  offset_1['predicted'] = offset_1_preds[:, 1]\n"
     ]
    }
   ],
   "source": [
    "offset_1 = df[['Question', 'pair_1_sim']]\n",
    "offset_1.columns = ['Question', 'similarity']\n",
    "offset_1_preds = pair_model.predict_proba(offset_1[['similarity']])\n",
    "offset_1['predicted'] = offset_1_preds[:, 1]"
   ],
   "metadata": {
    "collapsed": false,
    "ExecuteTime": {
     "end_time": "2024-04-18T23:58:19.784857800Z",
     "start_time": "2024-04-18T23:58:19.626857200Z"
    }
   },
   "id": "f1e8d4c6bb1c67b8"
  },
  {
   "cell_type": "code",
   "execution_count": 99,
   "outputs": [
    {
     "name": "stderr",
     "output_type": "stream",
     "text": [
      "C:\\Users\\Cam\\AppData\\Local\\Temp\\ipykernel_10780\\735901569.py:4: SettingWithCopyWarning: \n",
      "A value is trying to be set on a copy of a slice from a DataFrame.\n",
      "Try using .loc[row_indexer,col_indexer] = value instead\n",
      "\n",
      "See the caveats in the documentation: https://pandas.pydata.org/pandas-docs/stable/user_guide/indexing.html#returning-a-view-versus-a-copy\n",
      "  offset_2['predicted'] = offset_2_preds[:, 1]\n"
     ]
    }
   ],
   "source": [
    "offset_2 = df[['Question', 'pair_2_sim']]\n",
    "offset_2.columns = ['Question', 'similarity']\n",
    "offset_2_preds = pair_model.predict_proba(offset_2[['similarity']])\n",
    "offset_2['predicted'] = offset_2_preds[:, 1]"
   ],
   "metadata": {
    "collapsed": false,
    "ExecuteTime": {
     "end_time": "2024-04-18T23:58:19.872323200Z",
     "start_time": "2024-04-18T23:58:19.641365800Z"
    }
   },
   "id": "d045537afb976264"
  },
  {
   "cell_type": "code",
   "execution_count": 100,
   "outputs": [
    {
     "name": "stderr",
     "output_type": "stream",
     "text": [
      "C:\\Users\\Cam\\AppData\\Local\\Temp\\ipykernel_10780\\3719411754.py:4: SettingWithCopyWarning: \n",
      "A value is trying to be set on a copy of a slice from a DataFrame.\n",
      "Try using .loc[row_indexer,col_indexer] = value instead\n",
      "\n",
      "See the caveats in the documentation: https://pandas.pydata.org/pandas-docs/stable/user_guide/indexing.html#returning-a-view-versus-a-copy\n",
      "  offset_3['predicted'] = offset_3_preds[:, 1]\n"
     ]
    }
   ],
   "source": [
    "offset_3 = df[['Question', 'pair_3_sim']]\n",
    "offset_3.columns = ['Question', 'similarity']\n",
    "offset_3_preds = pair_model.predict_proba(offset_3[['similarity']])\n",
    "offset_3['predicted'] = offset_3_preds[:, 1]"
   ],
   "metadata": {
    "collapsed": false,
    "ExecuteTime": {
     "end_time": "2024-04-18T23:58:19.890694200Z",
     "start_time": "2024-04-18T23:58:19.659920800Z"
    }
   },
   "id": "70c0d655b57e277a"
  },
  {
   "cell_type": "code",
   "execution_count": 101,
   "outputs": [
    {
     "name": "stderr",
     "output_type": "stream",
     "text": [
      "C:\\Users\\Cam\\AppData\\Local\\Temp\\ipykernel_10780\\628293489.py:4: SettingWithCopyWarning: \n",
      "A value is trying to be set on a copy of a slice from a DataFrame.\n",
      "Try using .loc[row_indexer,col_indexer] = value instead\n",
      "\n",
      "See the caveats in the documentation: https://pandas.pydata.org/pandas-docs/stable/user_guide/indexing.html#returning-a-view-versus-a-copy\n",
      "  offset_4['predicted'] = offset_4_preds[:, 1]\n"
     ]
    }
   ],
   "source": [
    "offset_4 = df[['Question', 'pair_4_sim']]\n",
    "offset_4.columns = ['Question', 'similarity']\n",
    "offset_4_preds = pair_model.predict_proba(offset_4[['similarity']])\n",
    "offset_4['predicted'] = offset_4_preds[:, 1]"
   ],
   "metadata": {
    "collapsed": false,
    "ExecuteTime": {
     "end_time": "2024-04-18T23:58:19.926031100Z",
     "start_time": "2024-04-18T23:58:19.674633200Z"
    }
   },
   "id": "d841d7ea69d168c"
  },
  {
   "cell_type": "code",
   "execution_count": 102,
   "outputs": [
    {
     "name": "stderr",
     "output_type": "stream",
     "text": [
      "C:\\Users\\Cam\\AppData\\Local\\Temp\\ipykernel_10780\\2597617169.py:1: SettingWithCopyWarning: \n",
      "A value is trying to be set on a copy of a slice from a DataFrame.\n",
      "Try using .loc[row_indexer,col_indexer] = value instead\n",
      "\n",
      "See the caveats in the documentation: https://pandas.pydata.org/pandas-docs/stable/user_guide/indexing.html#returning-a-view-versus-a-copy\n",
      "  questions_only['pred_1'] = offset_1['predicted']\n",
      "C:\\Users\\Cam\\AppData\\Local\\Temp\\ipykernel_10780\\2597617169.py:2: SettingWithCopyWarning: \n",
      "A value is trying to be set on a copy of a slice from a DataFrame.\n",
      "Try using .loc[row_indexer,col_indexer] = value instead\n",
      "\n",
      "See the caveats in the documentation: https://pandas.pydata.org/pandas-docs/stable/user_guide/indexing.html#returning-a-view-versus-a-copy\n",
      "  questions_only['pred_2'] = offset_2['predicted']\n",
      "C:\\Users\\Cam\\AppData\\Local\\Temp\\ipykernel_10780\\2597617169.py:3: SettingWithCopyWarning: \n",
      "A value is trying to be set on a copy of a slice from a DataFrame.\n",
      "Try using .loc[row_indexer,col_indexer] = value instead\n",
      "\n",
      "See the caveats in the documentation: https://pandas.pydata.org/pandas-docs/stable/user_guide/indexing.html#returning-a-view-versus-a-copy\n",
      "  questions_only['pred_3'] = offset_3['predicted']\n",
      "C:\\Users\\Cam\\AppData\\Local\\Temp\\ipykernel_10780\\2597617169.py:4: SettingWithCopyWarning: \n",
      "A value is trying to be set on a copy of a slice from a DataFrame.\n",
      "Try using .loc[row_indexer,col_indexer] = value instead\n",
      "\n",
      "See the caveats in the documentation: https://pandas.pydata.org/pandas-docs/stable/user_guide/indexing.html#returning-a-view-versus-a-copy\n",
      "  questions_only['pred_4'] = offset_4['predicted']\n"
     ]
    }
   ],
   "source": [
    "questions_only['pred_1'] = offset_1['predicted']\n",
    "questions_only['pred_2'] = offset_2['predicted']\n",
    "questions_only['pred_3'] = offset_3['predicted']\n",
    "questions_only['pred_4'] = offset_4['predicted']"
   ],
   "metadata": {
    "collapsed": false,
    "ExecuteTime": {
     "end_time": "2024-04-18T23:58:19.940553400Z",
     "start_time": "2024-04-18T23:58:19.689831700Z"
    }
   },
   "id": "c19b4e2606a48b06"
  },
  {
   "cell_type": "code",
   "execution_count": 103,
   "outputs": [
    {
     "data": {
      "text/plain": "     r_index                                               text       user  \\\n13        13  Timer command I created (works 100%). How can ...      Falah   \n15        15                     tell them to enter in seconds?     Antero   \n23        23  but I do not get how to detect the h as a hour...      Falah   \n28        28                                             why =?      Falah   \n33        33  ```pythoneh = input('Enter a timer length'):if...      Falah   \n..       ...                                                ...        ...   \n468      468                   @lemon Sir can you help? please?  Valentine   \n472      472                   @lemon Hey can I ask a question?     Eduard   \n480      480  Is there a reason why there is only python dis...     Eduard   \n492      492  @dummy sorry for the ping can html parser can ...      Sayge   \n497      497                                Did my answer help?     Eduard   \n\n     Question  answered  answered_index  answer_offset  q_predicted  \\\n13          1       1.0            17.0              2            0   \n15          1       0.0             0.0              0            0   \n23          1       1.0            26.0              1            0   \n28          1       0.0             0.0              0            0   \n33          1       0.0             0.0              0            0   \n..        ...       ...             ...            ...          ...   \n468         1       1.0           471.0              1            0   \n472         1       1.0           475.0              1            0   \n480         1       1.0           483.0              1            0   \n492         1       1.0           495.0              1            0   \n497         1       0.0             0.0              0            0   \n\n     pair_1_sim  pair_2_sim  pair_3_sim  pair_4_sim    pred_1    pred_2  \\\n13     0.166391    0.000000    0.159706    0.166391  0.530621  0.196000   \n15     0.052875    0.000000    0.000000    0.052875  0.284148  0.196000   \n23     0.073883    0.273593    0.040127    0.073883  0.325132  0.752324   \n28     0.000000    0.000000    0.000000    0.000000  0.196000  0.196000   \n33     0.014275    0.000000    0.000000    0.014275  0.217573  0.196000   \n..          ...         ...         ...         ...       ...       ...   \n468    0.000000    0.195721    0.109929    0.000000  0.196000  0.597020   \n472    0.000000    0.282298    0.360547    0.000000  0.196000  0.766975   \n480    0.000000    0.276518    0.000000    0.000000  0.196000  0.757314   \n492    0.014777    0.047676    0.283768    0.014777  0.218361  0.274499   \n497    0.000000    0.000000    0.000000    0.000000  0.196000  0.196000   \n\n       pred_3    pred_4  or_pred  \n13   0.515247  0.530621        1  \n15   0.196000  0.284148        0  \n23   0.260858  0.325132        1  \n28   0.196000  0.196000        0  \n33   0.196000  0.217573        0  \n..        ...       ...      ...  \n468  0.401808  0.196000        1  \n472  0.871329  0.196000        1  \n480  0.196000  0.196000        1  \n492  0.769388  0.218361        1  \n497  0.196000  0.196000        0  \n\n[88 rows x 17 columns]",
      "text/html": "<div>\n<style scoped>\n    .dataframe tbody tr th:only-of-type {\n        vertical-align: middle;\n    }\n\n    .dataframe tbody tr th {\n        vertical-align: top;\n    }\n\n    .dataframe thead th {\n        text-align: right;\n    }\n</style>\n<table border=\"1\" class=\"dataframe\">\n  <thead>\n    <tr style=\"text-align: right;\">\n      <th></th>\n      <th>r_index</th>\n      <th>text</th>\n      <th>user</th>\n      <th>Question</th>\n      <th>answered</th>\n      <th>answered_index</th>\n      <th>answer_offset</th>\n      <th>q_predicted</th>\n      <th>pair_1_sim</th>\n      <th>pair_2_sim</th>\n      <th>pair_3_sim</th>\n      <th>pair_4_sim</th>\n      <th>pred_1</th>\n      <th>pred_2</th>\n      <th>pred_3</th>\n      <th>pred_4</th>\n      <th>or_pred</th>\n    </tr>\n  </thead>\n  <tbody>\n    <tr>\n      <th>13</th>\n      <td>13</td>\n      <td>Timer command I created (works 100%). How can ...</td>\n      <td>Falah</td>\n      <td>1</td>\n      <td>1.0</td>\n      <td>17.0</td>\n      <td>2</td>\n      <td>0</td>\n      <td>0.166391</td>\n      <td>0.000000</td>\n      <td>0.159706</td>\n      <td>0.166391</td>\n      <td>0.530621</td>\n      <td>0.196000</td>\n      <td>0.515247</td>\n      <td>0.530621</td>\n      <td>1</td>\n    </tr>\n    <tr>\n      <th>15</th>\n      <td>15</td>\n      <td>tell them to enter in seconds?</td>\n      <td>Antero</td>\n      <td>1</td>\n      <td>0.0</td>\n      <td>0.0</td>\n      <td>0</td>\n      <td>0</td>\n      <td>0.052875</td>\n      <td>0.000000</td>\n      <td>0.000000</td>\n      <td>0.052875</td>\n      <td>0.284148</td>\n      <td>0.196000</td>\n      <td>0.196000</td>\n      <td>0.284148</td>\n      <td>0</td>\n    </tr>\n    <tr>\n      <th>23</th>\n      <td>23</td>\n      <td>but I do not get how to detect the h as a hour...</td>\n      <td>Falah</td>\n      <td>1</td>\n      <td>1.0</td>\n      <td>26.0</td>\n      <td>1</td>\n      <td>0</td>\n      <td>0.073883</td>\n      <td>0.273593</td>\n      <td>0.040127</td>\n      <td>0.073883</td>\n      <td>0.325132</td>\n      <td>0.752324</td>\n      <td>0.260858</td>\n      <td>0.325132</td>\n      <td>1</td>\n    </tr>\n    <tr>\n      <th>28</th>\n      <td>28</td>\n      <td>why =?</td>\n      <td>Falah</td>\n      <td>1</td>\n      <td>0.0</td>\n      <td>0.0</td>\n      <td>0</td>\n      <td>0</td>\n      <td>0.000000</td>\n      <td>0.000000</td>\n      <td>0.000000</td>\n      <td>0.000000</td>\n      <td>0.196000</td>\n      <td>0.196000</td>\n      <td>0.196000</td>\n      <td>0.196000</td>\n      <td>0</td>\n    </tr>\n    <tr>\n      <th>33</th>\n      <td>33</td>\n      <td>```pythoneh = input('Enter a timer length'):if...</td>\n      <td>Falah</td>\n      <td>1</td>\n      <td>0.0</td>\n      <td>0.0</td>\n      <td>0</td>\n      <td>0</td>\n      <td>0.014275</td>\n      <td>0.000000</td>\n      <td>0.000000</td>\n      <td>0.014275</td>\n      <td>0.217573</td>\n      <td>0.196000</td>\n      <td>0.196000</td>\n      <td>0.217573</td>\n      <td>0</td>\n    </tr>\n    <tr>\n      <th>...</th>\n      <td>...</td>\n      <td>...</td>\n      <td>...</td>\n      <td>...</td>\n      <td>...</td>\n      <td>...</td>\n      <td>...</td>\n      <td>...</td>\n      <td>...</td>\n      <td>...</td>\n      <td>...</td>\n      <td>...</td>\n      <td>...</td>\n      <td>...</td>\n      <td>...</td>\n      <td>...</td>\n      <td>...</td>\n    </tr>\n    <tr>\n      <th>468</th>\n      <td>468</td>\n      <td>@lemon Sir can you help? please?</td>\n      <td>Valentine</td>\n      <td>1</td>\n      <td>1.0</td>\n      <td>471.0</td>\n      <td>1</td>\n      <td>0</td>\n      <td>0.000000</td>\n      <td>0.195721</td>\n      <td>0.109929</td>\n      <td>0.000000</td>\n      <td>0.196000</td>\n      <td>0.597020</td>\n      <td>0.401808</td>\n      <td>0.196000</td>\n      <td>1</td>\n    </tr>\n    <tr>\n      <th>472</th>\n      <td>472</td>\n      <td>@lemon Hey can I ask a question?</td>\n      <td>Eduard</td>\n      <td>1</td>\n      <td>1.0</td>\n      <td>475.0</td>\n      <td>1</td>\n      <td>0</td>\n      <td>0.000000</td>\n      <td>0.282298</td>\n      <td>0.360547</td>\n      <td>0.000000</td>\n      <td>0.196000</td>\n      <td>0.766975</td>\n      <td>0.871329</td>\n      <td>0.196000</td>\n      <td>1</td>\n    </tr>\n    <tr>\n      <th>480</th>\n      <td>480</td>\n      <td>Is there a reason why there is only python dis...</td>\n      <td>Eduard</td>\n      <td>1</td>\n      <td>1.0</td>\n      <td>483.0</td>\n      <td>1</td>\n      <td>0</td>\n      <td>0.000000</td>\n      <td>0.276518</td>\n      <td>0.000000</td>\n      <td>0.000000</td>\n      <td>0.196000</td>\n      <td>0.757314</td>\n      <td>0.196000</td>\n      <td>0.196000</td>\n      <td>1</td>\n    </tr>\n    <tr>\n      <th>492</th>\n      <td>492</td>\n      <td>@dummy sorry for the ping can html parser can ...</td>\n      <td>Sayge</td>\n      <td>1</td>\n      <td>1.0</td>\n      <td>495.0</td>\n      <td>1</td>\n      <td>0</td>\n      <td>0.014777</td>\n      <td>0.047676</td>\n      <td>0.283768</td>\n      <td>0.014777</td>\n      <td>0.218361</td>\n      <td>0.274499</td>\n      <td>0.769388</td>\n      <td>0.218361</td>\n      <td>1</td>\n    </tr>\n    <tr>\n      <th>497</th>\n      <td>497</td>\n      <td>Did my answer help?</td>\n      <td>Eduard</td>\n      <td>1</td>\n      <td>0.0</td>\n      <td>0.0</td>\n      <td>0</td>\n      <td>0</td>\n      <td>0.000000</td>\n      <td>0.000000</td>\n      <td>0.000000</td>\n      <td>0.000000</td>\n      <td>0.196000</td>\n      <td>0.196000</td>\n      <td>0.196000</td>\n      <td>0.196000</td>\n      <td>0</td>\n    </tr>\n  </tbody>\n</table>\n<p>88 rows × 17 columns</p>\n</div>"
     },
     "execution_count": 103,
     "metadata": {},
     "output_type": "execute_result"
    }
   ],
   "source": [
    "questions_only"
   ],
   "metadata": {
    "collapsed": false,
    "ExecuteTime": {
     "end_time": "2024-04-18T23:58:19.957640800Z",
     "start_time": "2024-04-18T23:58:19.705474200Z"
    }
   },
   "id": "48cd3e476a9bd37c"
  },
  {
   "cell_type": "code",
   "execution_count": 104,
   "outputs": [],
   "source": [
    "def pdf_prediction(num1, num2, num3, num4):\n",
    "    n = sum(counter.values())\n",
    "    pdf_1 = num1 * (counter[1]/n)\n",
    "    pdf_2 = num2 * (counter[2]/n)\n",
    "    pdf_3 = num3 * (counter[3]/n)\n",
    "    pdf_4 = num4 * (counter[4]/n)\n",
    "    ev = pdf_1 + pdf_2 + pdf_3 + pdf_4\n",
    "    if ev >= 0.5:\n",
    "        return 1\n",
    "    return 0"
   ],
   "metadata": {
    "collapsed": false,
    "ExecuteTime": {
     "end_time": "2024-04-18T23:58:19.960172400Z",
     "start_time": "2024-04-18T23:58:19.737383500Z"
    }
   },
   "id": "819ba91c5d20e123"
  },
  {
   "cell_type": "code",
   "execution_count": 105,
   "outputs": [
    {
     "name": "stderr",
     "output_type": "stream",
     "text": [
      "C:\\Users\\Cam\\AppData\\Local\\Temp\\ipykernel_10780\\2349241197.py:1: SettingWithCopyWarning: \n",
      "A value is trying to be set on a copy of a slice from a DataFrame.\n",
      "Try using .loc[row_indexer,col_indexer] = value instead\n",
      "\n",
      "See the caveats in the documentation: https://pandas.pydata.org/pandas-docs/stable/user_guide/indexing.html#returning-a-view-versus-a-copy\n",
      "  questions_only['pdf_pred'] = questions_only.apply(lambda row: pdf_prediction(row['pred_1'], row['pred_2'], row['pred_3'], row['pred_4']), axis=1)\n"
     ]
    }
   ],
   "source": [
    "questions_only['pdf_pred'] = questions_only.apply(lambda row: pdf_prediction(row['pred_1'], row['pred_2'], row['pred_3'], row['pred_4']), axis=1)"
   ],
   "metadata": {
    "collapsed": false,
    "ExecuteTime": {
     "end_time": "2024-04-18T23:58:19.960172400Z",
     "start_time": "2024-04-18T23:58:19.751498700Z"
    }
   },
   "id": "d147f76272d1c9a2"
  },
  {
   "cell_type": "code",
   "execution_count": 106,
   "outputs": [
    {
     "data": {
      "text/plain": "count    88.000000\nmean      0.147727\nstd       0.356863\nmin       0.000000\n25%       0.000000\n50%       0.000000\n75%       0.000000\nmax       1.000000\nName: pdf_pred, dtype: float64"
     },
     "execution_count": 106,
     "metadata": {},
     "output_type": "execute_result"
    }
   ],
   "source": [
    "questions_only['pdf_pred'].describe()"
   ],
   "metadata": {
    "collapsed": false,
    "ExecuteTime": {
     "end_time": "2024-04-18T23:58:19.960172400Z",
     "start_time": "2024-04-18T23:58:19.768817900Z"
    }
   },
   "id": "bfbe65c8c9b54ef8"
  },
  {
   "cell_type": "code",
   "execution_count": 107,
   "outputs": [
    {
     "name": "stdout",
     "output_type": "stream",
     "text": [
      "Model performance on conversational training data in identifying answered questions using train PDF\n",
      "Accuracy: 0.5227272727272727\n",
      "Classification Report:\n",
      "               precision    recall  f1-score   support\n",
      "\n",
      "         0.0       0.51      0.88      0.64        43\n",
      "         1.0       0.62      0.18      0.28        45\n",
      "\n",
      "    accuracy                           0.52        88\n",
      "   macro avg       0.56      0.53      0.46        88\n",
      "weighted avg       0.56      0.52      0.46        88\n"
     ]
    }
   ],
   "source": [
    "\n",
    "print(\"Model performance on conversational training data in identifying answered questions using train PDF\")\n",
    "print(\"Accuracy:\", accuracy_score(questions_only['answered'], questions_only['pdf_pred']))\n",
    "print(\"Classification Report:\\n\", classification_report(questions_only['answered'], questions_only['pdf_pred']))"
   ],
   "metadata": {
    "collapsed": false,
    "ExecuteTime": {
     "end_time": "2024-04-18T23:58:19.968214600Z",
     "start_time": "2024-04-18T23:58:19.784857800Z"
    }
   },
   "id": "fec332628c837966"
  }
 ],
 "metadata": {
  "kernelspec": {
   "display_name": "Python 3",
   "language": "python",
   "name": "python3"
  },
  "language_info": {
   "codemirror_mode": {
    "name": "ipython",
    "version": 2
   },
   "file_extension": ".py",
   "mimetype": "text/x-python",
   "name": "python",
   "nbconvert_exporter": "python",
   "pygments_lexer": "ipython2",
   "version": "2.7.6"
  }
 },
 "nbformat": 4,
 "nbformat_minor": 5
}
